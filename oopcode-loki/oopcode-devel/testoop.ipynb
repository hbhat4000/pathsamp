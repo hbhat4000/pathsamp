{
 "cells": [
  {
   "cell_type": "code",
   "execution_count": 1,
   "metadata": {},
   "outputs": [],
   "source": [
    "import numpy as np\n",
    "import oopcode as oc"
   ]
  },
  {
   "cell_type": "code",
   "execution_count": 2,
   "metadata": {},
   "outputs": [],
   "source": [
    "hermdrift = oc.Hermite(3,2)"
   ]
  },
  {
   "cell_type": "code",
   "execution_count": 3,
   "metadata": {},
   "outputs": [],
   "source": [
    "hbeta = np.linalg.solve(hermdrift.transmat, np.array([[0,0,0,0,0,0,-0.1,0,0,2.0],[0,0,0,0,0,0,-2.0,0,0,-0.1]]).T)"
   ]
  },
  {
   "cell_type": "code",
   "execution_count": 4,
   "metadata": {},
   "outputs": [],
   "source": [
    "def hdrift(x):\n",
    "    return np.matmul(hermdrift.basis(x), hbeta)\n",
    "\n",
    "def gradhdrift(x):\n",
    "    return np.matmul(hermdrift.gradient(x), hbeta)"
   ]
  },
  {
   "cell_type": "code",
   "execution_count": 29,
   "metadata": {},
   "outputs": [
    {
     "data": {
      "text/plain": [
       "array([[-69.14755  ,  -6.3931875]])"
      ]
     },
     "execution_count": 29,
     "metadata": {},
     "output_type": "execute_result"
    }
   ],
   "source": [
    "hdrift(np.array([[1.7, -3.25]]))"
   ]
  },
  {
   "cell_type": "code",
   "execution_count": 6,
   "metadata": {},
   "outputs": [],
   "source": [
    "def truef(x):\n",
    "    return np.array([-0.1*x[0]**3 + 2.0*x[1]**3, -2.0*x[0]**3 - 0.1*x[1]**3])"
   ]
  },
  {
   "cell_type": "code",
   "execution_count": 30,
   "metadata": {},
   "outputs": [
    {
     "data": {
      "text/plain": [
       "array([-69.14755  ,  -6.3931875])"
      ]
     },
     "execution_count": 30,
     "metadata": {},
     "output_type": "execute_result"
    }
   ],
   "source": [
    "truef(np.array([1.7, -3.25]))"
   ]
  },
  {
   "cell_type": "code",
   "execution_count": 8,
   "metadata": {},
   "outputs": [],
   "source": [
    "u = np.array([-1.0, 0.0])\n",
    "v = np.array([-0.78310075, 0.82685028])"
   ]
  },
  {
   "cell_type": "code",
   "execution_count": 9,
   "metadata": {},
   "outputs": [],
   "source": [
    "T = 0.5\n",
    "sigma = 0.05*np.identity(2)\n",
    "a = np.dot(sigma, sigma.T)"
   ]
  },
  {
   "cell_type": "code",
   "execution_count": 10,
   "metadata": {},
   "outputs": [],
   "source": [
    "xmat = np.vstack([u, v])"
   ]
  },
  {
   "cell_type": "code",
   "execution_count": 11,
   "metadata": {},
   "outputs": [],
   "source": [
    "tmat = np.array([0, T])"
   ]
  },
  {
   "cell_type": "code",
   "execution_count": 23,
   "metadata": {},
   "outputs": [],
   "source": [
    "mybridge = oc.Bridge(100,100,400,method=\"guided\",ncores=2,wantpaths=True)"
   ]
  },
  {
   "cell_type": "code",
   "execution_count": 24,
   "metadata": {},
   "outputs": [],
   "source": [
    "mybridge.drift = hdrift\n",
    "mybridge.grad = gradhdrift\n",
    "mybridge.gvec = np.diag(sigma)\n",
    "myherm = oc.Hermite(3,2)\n",
    "mybridge.approx = myherm"
   ]
  },
  {
   "cell_type": "code",
   "execution_count": 25,
   "metadata": {},
   "outputs": [
    {
     "name": "stdout",
     "output_type": "stream",
     "text": [
      "0 0 accept\n",
      "0 1 accept\n",
      "0 2 accept\n",
      "0 3 accept\n",
      "0 4 accept\n",
      "0 5 accept\n",
      "0 6 accept\n",
      "0 7 accept\n",
      "0 8 accept\n",
      "0 9 accept\n",
      "0 10 accept\n",
      "0 11 accept\n",
      "0 12 accept\n",
      "0 13 accept\n",
      "0 14 accept\n",
      "0 15 accept\n",
      "0 16 accept\n",
      "0 17 accept\n",
      "0 18 accept\n",
      "0 19 accept\n",
      "0 21 accept\n",
      "0 22 accept\n",
      "0 23 accept\n",
      "0 24 accept\n",
      "0 25 accept\n",
      "0 26 accept\n",
      "0 27 accept\n",
      "0 28 accept\n",
      "0 29 accept\n",
      "0 30 accept\n",
      "0 31 accept\n",
      "0 32 accept\n",
      "0 33 accept\n",
      "0 34 accept\n",
      "0 35 accept\n",
      "0 36 accept\n",
      "0 37 accept\n",
      "0 38 accept\n",
      "0 39 accept\n",
      "0 40 accept\n",
      "0 41 accept\n",
      "0 42 accept\n",
      "0 43 accept\n",
      "0 44 accept\n",
      "0 45 accept\n",
      "0 46 accept\n",
      "0 47 accept\n",
      "0 48 accept\n",
      "0 49 accept\n",
      "0 50 accept\n",
      "0 51 accept\n",
      "0 52 accept\n",
      "0 53 accept\n",
      "0 54 accept\n",
      "0 55 accept\n",
      "0 59 accept\n",
      "0 60 accept\n",
      "0 61 accept\n",
      "0 62 accept\n",
      "0 63 accept\n",
      "0 64 accept\n",
      "0 65 accept\n",
      "0 66 accept\n",
      "0 67 accept\n",
      "0 68 accept\n",
      "0 69 accept\n",
      "0 70 accept\n",
      "0 71 accept\n",
      "0 72 accept\n",
      "0 73 accept\n",
      "0 74 accept\n",
      "0 75 accept\n",
      "0 76 accept\n",
      "0 77 accept\n",
      "0 78 accept\n",
      "0 79 accept\n",
      "0 80 accept\n",
      "0 81 accept\n",
      "0 82 accept\n",
      "0 83 accept\n",
      "0 84 accept\n",
      "0 85 accept\n",
      "0 86 accept\n",
      "0 87 accept\n",
      "0 88 accept\n",
      "0 89 accept\n",
      "0 90 accept\n",
      "0 91 accept\n",
      "0 92 accept\n",
      "0 93 accept\n",
      "0 94 accept\n",
      "0 95 accept\n",
      "0 96 accept\n",
      "0 97 accept\n",
      "0 98 accept\n",
      "0 99 accept\n",
      "0 100 accept\n",
      "0 101 accept\n",
      "0 102 accept\n",
      "0 103 accept\n",
      "0 104 accept\n",
      "0 105 accept\n",
      "0 106 accept\n",
      "0 107 accept\n",
      "0 108 accept\n",
      "0 109 accept\n",
      "0 110 accept\n",
      "0 111 accept\n",
      "0 112 accept\n",
      "0 113 accept\n",
      "0 116 accept\n",
      "0 117 accept\n",
      "0 118 accept\n",
      "0 119 accept\n",
      "0 120 accept\n",
      "0 121 accept\n",
      "0 123 accept\n",
      "0 124 accept\n",
      "0 125 accept\n",
      "0 126 accept\n",
      "0 127 accept\n",
      "0 128 accept\n",
      "0 129 accept\n",
      "0 130 accept\n",
      "0 131 accept\n",
      "0 132 accept\n",
      "0 133 accept\n",
      "0 134 accept\n",
      "0 135 accept\n",
      "0 136 accept\n",
      "0 137 accept\n",
      "0 138 accept\n",
      "0 139 accept\n",
      "0 140 accept\n",
      "0 141 accept\n",
      "0 142 accept\n",
      "0 143 accept\n",
      "0 144 accept\n",
      "0 145 accept\n",
      "0 147 accept\n",
      "0 148 accept\n",
      "0 149 accept\n",
      "0 150 accept\n",
      "0 151 accept\n",
      "0 152 accept\n",
      "0 153 accept\n",
      "0 154 accept\n",
      "0 155 accept\n",
      "0 156 accept\n",
      "0 157 accept\n",
      "0 158 accept\n",
      "0 159 accept\n",
      "0 160 accept\n",
      "0 161 accept\n",
      "0 162 accept\n",
      "0 163 accept\n",
      "0 164 accept\n",
      "0 165 accept\n",
      "0 166 accept\n",
      "0 168 accept\n",
      "0 169 accept\n",
      "0 170 accept\n",
      "0 171 accept\n",
      "0 173 accept\n",
      "0 174 accept\n",
      "0 175 accept\n",
      "0 176 accept\n",
      "0 177 accept\n",
      "0 178 accept\n",
      "0 179 accept\n",
      "0 180 accept\n",
      "0 181 accept\n",
      "0 182 accept\n",
      "0 183 accept\n",
      "0 184 accept\n",
      "0 185 accept\n",
      "0 186 accept\n",
      "0 187 accept\n",
      "0 188 accept\n",
      "0 189 accept\n",
      "0 190 accept\n",
      "0 191 accept\n",
      "0 192 accept\n",
      "0 193 accept\n",
      "0 194 accept\n",
      "0 195 accept\n",
      "0 196 accept\n",
      "0 197 accept\n",
      "0 198 accept\n",
      "0 199 accept\n",
      "0.96\n",
      "0.94\n"
     ]
    }
   ],
   "source": [
    "samples = mybridge.diffbridge(xmat, tmat)\n",
    "print(mybridge.meanBurn)\n",
    "print(mybridge.meanSamp)"
   ]
  },
  {
   "cell_type": "code",
   "execution_count": 26,
   "metadata": {},
   "outputs": [],
   "source": [
    "import matplotlib.pyplot as plt\n",
    "%matplotlib inline"
   ]
  },
  {
   "cell_type": "code",
   "execution_count": 27,
   "metadata": {},
   "outputs": [
    {
     "data": {
      "text/plain": [
       "(100, 401, 2)"
      ]
     },
     "execution_count": 27,
     "metadata": {},
     "output_type": "execute_result"
    }
   ],
   "source": [
    "samples[0].shape"
   ]
  },
  {
   "cell_type": "code",
   "execution_count": 28,
   "metadata": {},
   "outputs": [
    {
     "data": {
      "image/png": "[encoded data removed]",
      "text/plain": [
       "<matplotlib.figure.Figure at 0x119762e10>"
      ]
     },
     "metadata": {},
     "output_type": "display_data"
    }
   ],
   "source": [
    "for i in range(100):\n",
    "    plt.plot(samples[0][i,:,0],samples[0][i,:,1])\n",
    "\n",
    "plt.show()"
   ]
  },
  {
   "cell_type": "code",
   "execution_count": null,
   "metadata": {},
   "outputs": [],
   "source": []
  }
 ],
 "metadata": {
  "kernelspec": {
   "display_name": "Python 3",
   "language": "python",
   "name": "python3"
  },
  "language_info": {
   "codemirror_mode": {
    "name": "ipython",
    "version": 3
   },
   "file_extension": ".py",
   "mimetype": "text/x-python",
   "name": "python",
   "nbconvert_exporter": "python",
   "pygments_lexer": "ipython3",
   "version": "3.6.8"
  }
 },
 "nbformat": 4,
 "nbformat_minor": 2
}
