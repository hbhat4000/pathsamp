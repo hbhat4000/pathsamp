{
 "cells": [
  {
   "cell_type": "code",
   "execution_count": 1,
   "metadata": {},
   "outputs": [],
   "source": [
    "import numpy as np\n",
    "%matplotlib inline\n",
    "from matplotlib import pyplot as plt\n",
    "import scipy.special as poly\n",
    "from math import factorial"
   ]
  },
  {
   "cell_type": "code",
   "execution_count": 74,
   "metadata": {},
   "outputs": [],
   "source": [
    "numsteps = 1000\n",
    "burnin = 100\n",
    "dof = 4\n",
    "n = 100 + 1\n",
    "totsteps = 25000\n",
    "savesteps = 100\n",
    "completedata = np.zeros(numsteps)\n",
    "mmat = np.zeros((dof, dof))\n",
    "rvec = np.zeros(dof)\n",
    "ft = 10.0\n",
    "ic = np.array([1.0])\n",
    "it = np.array([0.0])\n",
    "\n",
    "h = 0.001\n",
    "h12 = np.sqrt(h)\n",
    "g = 0.5\n",
    "coef = np.array([1., 2., -1., -0.5])"
   ]
  },
  {
   "cell_type": "code",
   "execution_count": 75,
   "metadata": {
    "collapsed": true
   },
   "outputs": [],
   "source": [
    "def drift(x, theta):\n",
    "    return (np.dot(mypoly(x), theta))"
   ]
  },
  {
   "cell_type": "code",
   "execution_count": 76,
   "metadata": {
    "collapsed": true
   },
   "outputs": [],
   "source": [
    "def mypoly(x):\n",
    "    y = np.zeros((x.size, dof))\n",
    "    for i in range(x.size):\n",
    "        for j in range(dof):\n",
    "            H = poly.hermitenorm(j)\n",
    "            y[i,j] = H(x[i]) / (np.sqrt(2 * np.pi) * factorial(j))\n",
    "    return y"
   ]
  },
  {
   "cell_type": "code",
   "execution_count": 77,
   "metadata": {},
   "outputs": [
    {
     "name": "stdout",
     "output_type": "stream",
     "text": [
      "1 3.28792081527\n",
      "2 3.42096420826\n",
      "3 3.423214465\n",
      "4 3.42325083133\n",
      "5 3.4232514186\n",
      "6 3.42325142809\n",
      "7 3.42325142824\n",
      "8 3.42325142824\n",
      "9 3.42325142824\n",
      "10 3.42325142824\n",
      "11 3.42325142824\n",
      "12 3.42325142824\n",
      "13 3.42325142824\n",
      "14 3.42325142824\n",
      "15 3.42325142824\n",
      "16 3.42325142824\n",
      "17 3.42325142824\n",
      "18 3.42325142824\n",
      "19 3.42325142824\n",
      "20 3.42325142824\n",
      "21 3.42325142824\n",
      "22 3.42325142824\n",
      "23 3.42325142824\n",
      "24 3.42325142824\n",
      "25 3.42325142824\n",
      "26 3.42325142824\n",
      "27 3.42325142824\n",
      "28 3.42325142824\n",
      "29 3.42325142824\n",
      "30 3.42325142824\n",
      "31 3.42325142824\n",
      "32 3.42325142824\n",
      "33 3.42325142824\n",
      "34 3.42325142824\n",
      "35 3.42325142824\n",
      "36 3.42325142824\n",
      "37 3.42325142824\n",
      "38 3.42325142824\n",
      "39 3.42325142824\n",
      "40 3.42325142824\n",
      "41 3.42325142824\n",
      "42 3.42325142824\n",
      "43 3.42325142824\n",
      "44 3.42325142824\n",
      "45 3.42325142824\n",
      "46 3.42325142824\n",
      "47 3.42325142824\n",
      "48 3.42325142824\n",
      "49 3.42325142824\n",
      "50 3.42325142824\n",
      "51 3.42325142824\n",
      "52 3.42325142824\n",
      "53 3.42325142824\n",
      "54 3.42325142824\n",
      "55 3.42325142824\n",
      "56 3.42325142824\n",
      "57 3.42325142824\n",
      "58 3.42325142824\n",
      "59 3.42325142824\n",
      "60 3.42325142824\n",
      "61 3.42325142824\n",
      "62 3.42325142824\n",
      "63 3.42325142824\n",
      "64 3.42325142824\n",
      "65 3.42325142824\n",
      "66 3.42325142824\n",
      "67 3.42325142824\n",
      "68 3.42325142824\n",
      "69 3.42325142824\n",
      "70 3.42325142824\n",
      "71 3.42325142824\n",
      "72 3.42325142824\n",
      "73 3.42325142824\n",
      "74 3.42325142824\n",
      "75 3.42325142824\n",
      "76 3.42325142824\n",
      "77 3.42325142824\n",
      "78 3.42325142824\n",
      "79 3.42325142824\n",
      "80 3.42325142824\n",
      "81 3.42325142824\n",
      "82 3.42325142824\n",
      "83 3.42325142824\n",
      "84 3.42325142824\n",
      "85 3.42325142824\n",
      "86 3.42325142824\n",
      "87 3.42325142824\n",
      "88 3.42325142824\n",
      "89 3.42325142824\n",
      "90 3.42325142824\n",
      "91 3.42325142824\n",
      "92 3.42325142824\n",
      "93 3.42325142824\n",
      "94 3.42325142824\n",
      "95 3.42325142824\n",
      "96 3.42325142824\n",
      "97 3.42325142824\n",
      "98 3.42325142824\n",
      "99 3.42325142824\n",
      "100 3.42325142824\n"
     ]
    }
   ],
   "source": [
    "traj = ic\n",
    "j = 1\n",
    "dt = ft / savesteps\n",
    "t = np.arange(0, ft + dt, dt)\n",
    "x = np.zeros(t.size)\n",
    "\n",
    "for i in range(1, totsteps + 1):\n",
    "    traj = traj + drift(traj, coef) * dt # + g * np.sqrt(dt) * np.random.rand(1)\n",
    "    if ((i % (totsteps/savesteps)) == 0):\n",
    "        x[j] = traj\n",
    "        print(j, x[j])\n",
    "        j = j + 1\n",
    "# x = np.concatenate((ic, x))\n",
    "# t = np.concatenate((it, t))"
   ]
  },
  {
   "cell_type": "code",
   "execution_count": 65,
   "metadata": {},
   "outputs": [
    {
     "name": "stdout",
     "output_type": "stream",
     "text": [
      "[  0.    0.1   0.2   0.3   0.4   0.5   0.6   0.7   0.8   0.9   1.    1.1\n",
      "   1.2   1.3   1.4   1.5   1.6   1.7   1.8   1.9   2.    2.1   2.2   2.3\n",
      "   2.4   2.5   2.6   2.7   2.8   2.9   3.    3.1   3.2   3.3   3.4   3.5\n",
      "   3.6   3.7   3.8   3.9   4.    4.1   4.2   4.3   4.4   4.5   4.6   4.7\n",
      "   4.8   4.9   5.    5.1   5.2   5.3   5.4   5.5   5.6   5.7   5.8   5.9\n",
      "   6.    6.1   6.2   6.3   6.4   6.5   6.6   6.7   6.8   6.9   7.    7.1\n",
      "   7.2   7.3   7.4   7.5   7.6   7.7   7.8   7.9   8.    8.1   8.2   8.3\n",
      "   8.4   8.5   8.6   8.7   8.8   8.9   9.    9.1   9.2   9.3   9.4   9.5\n",
      "   9.6   9.7   9.8   9.9  10. ]\n"
     ]
    }
   ],
   "source": [
    "dt = ft / savesteps\n",
    "t = np.arange(0, ft + dt, dt)\n",
    "\n",
    "print(t)"
   ]
  },
  {
   "cell_type": "code",
   "execution_count": 78,
   "metadata": {},
   "outputs": [
    {
     "name": "stdout",
     "output_type": "stream",
     "text": [
      "[ 0.          3.28792082  3.42096421  3.42321447  3.42325083  3.42325142\n",
      "  3.42325143  3.42325143  3.42325143  3.42325143  3.42325143  3.42325143\n",
      "  3.42325143  3.42325143  3.42325143  3.42325143  3.42325143  3.42325143\n",
      "  3.42325143  3.42325143  3.42325143  3.42325143  3.42325143  3.42325143\n",
      "  3.42325143  3.42325143  3.42325143  3.42325143  3.42325143  3.42325143\n",
      "  3.42325143  3.42325143  3.42325143  3.42325143  3.42325143  3.42325143\n",
      "  3.42325143  3.42325143  3.42325143  3.42325143  3.42325143  3.42325143\n",
      "  3.42325143  3.42325143  3.42325143  3.42325143  3.42325143  3.42325143\n",
      "  3.42325143  3.42325143  3.42325143  3.42325143  3.42325143  3.42325143\n",
      "  3.42325143  3.42325143  3.42325143  3.42325143  3.42325143  3.42325143\n",
      "  3.42325143  3.42325143  3.42325143  3.42325143  3.42325143  3.42325143\n",
      "  3.42325143  3.42325143  3.42325143  3.42325143  3.42325143  3.42325143\n",
      "  3.42325143  3.42325143  3.42325143  3.42325143  3.42325143  3.42325143\n",
      "  3.42325143  3.42325143  3.42325143  3.42325143  3.42325143  3.42325143\n",
      "  3.42325143  3.42325143  3.42325143  3.42325143  3.42325143  3.42325143\n",
      "  3.42325143  3.42325143  3.42325143  3.42325143  3.42325143  3.42325143\n",
      "  3.42325143  3.42325143  3.42325143  3.42325143  3.42325143]\n",
      "[ 0.    0.01  0.02  0.03  0.04  0.05  0.06  0.07  0.08  0.09  0.1   0.11\n",
      "  0.12  0.13  0.14  0.15  0.16  0.17  0.18  0.19  0.2   0.21  0.22  0.23\n",
      "  0.24  0.25  0.26  0.27  0.28  0.29  0.3   0.31  0.32  0.33  0.34  0.35\n",
      "  0.36  0.37  0.38  0.39  0.4   0.41  0.42  0.43  0.44  0.45  0.46  0.47\n",
      "  0.48  0.49  0.5   0.51  0.52  0.53  0.54  0.55  0.56  0.57  0.58  0.59\n",
      "  0.6   0.61  0.62  0.63  0.64  0.65  0.66  0.67  0.68  0.69  0.7   0.71\n",
      "  0.72  0.73  0.74  0.75  0.76  0.77  0.78  0.79  0.8   0.81  0.82  0.83\n",
      "  0.84  0.85  0.86  0.87  0.88  0.89  0.9   0.91  0.92  0.93  0.94  0.95\n",
      "  0.96  0.97  0.98  0.99  1.  ]\n"
     ]
    },
    {
     "data": {
      "image/png": "[encoded data removed]",
      "text/plain": [
       "<matplotlib.figure.Figure at 0x7f1f50d9ae80>"
      ]
     },
     "metadata": {},
     "output_type": "display_data"
    }
   ],
   "source": [
    "plt.plot(t, x)\n",
    "print(x)\n",
    "print(t)"
   ]
  },
  {
   "cell_type": "code",
   "execution_count": 8,
   "metadata": {
    "collapsed": true
   },
   "outputs": [],
   "source": [
    "def brownianbridge(xin, tin, n):\n",
    "    h = (tin[1]-tin[0])/n\n",
    "    tvec = tin[0] + (1+np.arange(n))*h\n",
    "    h12 = np.sqrt(h)\n",
    "    wincs = np.random.normal(scale=h12, size=n)\n",
    "    w = np.cumsum(wincs)\n",
    "    bridge = xin[0] + w - ((tvec - tin[0])/(tin[1]-tin[0]))*(w[n-1] + xin[0] - xin[1])\n",
    "    return tvec, bridge"
   ]
  },
  {
   "cell_type": "code",
   "execution_count": 9,
   "metadata": {},
   "outputs": [
    {
     "name": "stderr",
     "output_type": "stream",
     "text": [
      "/home/shagun/anaconda3/envs/tensorflow/lib/python3.5/site-packages/ipykernel/__main__.py:7: RuntimeWarning: invalid value encountered in true_divide\n"
     ]
    },
    {
     "data": {
      "text/plain": [
       "array([ 0.,  0.,  0., ...,  0.,  0.,  0.])"
      ]
     },
     "execution_count": 9,
     "metadata": {},
     "output_type": "execute_result"
    },
    {
     "data": {
      "image/png": "[encoded data removed]",
      "text/plain": [
       "<matplotlib.figure.Figure at 0x7f1f50ff29b0>"
      ]
     },
     "metadata": {},
     "output_type": "display_data"
    }
   ],
   "source": [
    "tout, bout = brownianbridge(x,t,1000)\n",
    "tout = np.concatenate((t[[0]],tout))\n",
    "bout = np.concatenate((x[[0]],bout))\n",
    "plt.plot(tout,bout)\n",
    "tout"
   ]
  },
  {
   "cell_type": "code",
   "execution_count": 10,
   "metadata": {},
   "outputs": [],
   "source": [
    "theta = np.array([1., 1., -1., -0.25])"
   ]
  },
  {
   "cell_type": "code",
   "execution_count": 11,
   "metadata": {
    "collapsed": true
   },
   "outputs": [],
   "source": [
    "# girsanov LOG likelihood\n",
    "def girsanov(path, dt, theta):\n",
    "    b = drift(path, theta)\n",
    "    int1 = np.dot(b[:-1], np.diff(path))\n",
    "    b2 = np.square(b)\n",
    "    int2 = np.sum(0.5*(b2[1:] + b2[:-1]))*dt\n",
    "    r = int1 - 0.5*int2\n",
    "    return r"
   ]
  },
  {
   "cell_type": "code",
   "execution_count": 12,
   "metadata": {},
   "outputs": [
    {
     "name": "stdout",
     "output_type": "stream",
     "text": [
      "1\n"
     ]
    },
    {
     "name": "stderr",
     "output_type": "stream",
     "text": [
      "/home/shagun/anaconda3/envs/tensorflow/lib/python3.5/site-packages/ipykernel/__main__.py:7: RuntimeWarning: invalid value encountered in true_divide\n"
     ]
    },
    {
     "ename": "KeyboardInterrupt",
     "evalue": "",
     "output_type": "error",
     "traceback": [
      "\u001b[0;31m---------------------------------------------------------------------------\u001b[0m",
      "\u001b[0;31mKeyboardInterrupt\u001b[0m                         Traceback (most recent call last)",
      "\u001b[0;32m<ipython-input-12-932176288230>\u001b[0m in \u001b[0;36m<module>\u001b[0;34m()\u001b[0m\n\u001b[1;32m     10\u001b[0m     \u001b[0;32mfor\u001b[0m \u001b[0mjj\u001b[0m \u001b[0;32min\u001b[0m \u001b[0mrange\u001b[0m\u001b[0;34m(\u001b[0m\u001b[0mnumsteps\u001b[0m \u001b[0;34m+\u001b[0m \u001b[0mburnin\u001b[0m\u001b[0;34m)\u001b[0m\u001b[0;34m:\u001b[0m\u001b[0;34m\u001b[0m\u001b[0m\n\u001b[1;32m     11\u001b[0m         \u001b[0m_\u001b[0m\u001b[0;34m,\u001b[0m \u001b[0mprop\u001b[0m \u001b[0;34m=\u001b[0m \u001b[0mbrownianbridge\u001b[0m\u001b[0;34m(\u001b[0m\u001b[0mx\u001b[0m\u001b[0;34m,\u001b[0m\u001b[0mt\u001b[0m\u001b[0;34m,\u001b[0m\u001b[0;36m1000\u001b[0m\u001b[0;34m)\u001b[0m\u001b[0;34m\u001b[0m\u001b[0m\n\u001b[0;32m---> 12\u001b[0;31m         \u001b[0mproplik\u001b[0m \u001b[0;34m=\u001b[0m \u001b[0mgirsanov\u001b[0m\u001b[0;34m(\u001b[0m\u001b[0mpath\u001b[0m\u001b[0;34m=\u001b[0m\u001b[0mprop\u001b[0m\u001b[0;34m,\u001b[0m \u001b[0mdt\u001b[0m\u001b[0;34m=\u001b[0m\u001b[0mh\u001b[0m\u001b[0;34m,\u001b[0m \u001b[0mtheta\u001b[0m\u001b[0;34m=\u001b[0m\u001b[0mtheta\u001b[0m\u001b[0;34m)\u001b[0m\u001b[0;34m\u001b[0m\u001b[0m\n\u001b[0m\u001b[1;32m     13\u001b[0m         \u001b[0mrho\u001b[0m \u001b[0;34m=\u001b[0m \u001b[0mnp\u001b[0m\u001b[0;34m.\u001b[0m\u001b[0mexp\u001b[0m\u001b[0;34m(\u001b[0m\u001b[0mproplik\u001b[0m \u001b[0;34m-\u001b[0m \u001b[0moldlik\u001b[0m\u001b[0;34m)\u001b[0m\u001b[0;34m\u001b[0m\u001b[0m\n\u001b[1;32m     14\u001b[0m         \u001b[0;32mif\u001b[0m \u001b[0;34m(\u001b[0m\u001b[0mrho\u001b[0m \u001b[0;34m>\u001b[0m \u001b[0mnp\u001b[0m\u001b[0;34m.\u001b[0m\u001b[0mrandom\u001b[0m\u001b[0;34m.\u001b[0m\u001b[0muniform\u001b[0m\u001b[0;34m(\u001b[0m\u001b[0;34m)\u001b[0m\u001b[0;34m)\u001b[0m\u001b[0;34m:\u001b[0m\u001b[0;34m\u001b[0m\u001b[0m\n",
      "\u001b[0;32m<ipython-input-11-5d8c2f4e53f7>\u001b[0m in \u001b[0;36mgirsanov\u001b[0;34m(path, dt, theta)\u001b[0m\n\u001b[1;32m      1\u001b[0m \u001b[0;31m# girsanov LOG likelihood\u001b[0m\u001b[0;34m\u001b[0m\u001b[0;34m\u001b[0m\u001b[0m\n\u001b[1;32m      2\u001b[0m \u001b[0;32mdef\u001b[0m \u001b[0mgirsanov\u001b[0m\u001b[0;34m(\u001b[0m\u001b[0mpath\u001b[0m\u001b[0;34m,\u001b[0m \u001b[0mdt\u001b[0m\u001b[0;34m,\u001b[0m \u001b[0mtheta\u001b[0m\u001b[0;34m)\u001b[0m\u001b[0;34m:\u001b[0m\u001b[0;34m\u001b[0m\u001b[0m\n\u001b[0;32m----> 3\u001b[0;31m     \u001b[0mb\u001b[0m \u001b[0;34m=\u001b[0m \u001b[0mdrift\u001b[0m\u001b[0;34m(\u001b[0m\u001b[0mpath\u001b[0m\u001b[0;34m,\u001b[0m \u001b[0mtheta\u001b[0m\u001b[0;34m)\u001b[0m\u001b[0;34m\u001b[0m\u001b[0m\n\u001b[0m\u001b[1;32m      4\u001b[0m     \u001b[0mint1\u001b[0m \u001b[0;34m=\u001b[0m \u001b[0mnp\u001b[0m\u001b[0;34m.\u001b[0m\u001b[0mdot\u001b[0m\u001b[0;34m(\u001b[0m\u001b[0mb\u001b[0m\u001b[0;34m[\u001b[0m\u001b[0;34m:\u001b[0m\u001b[0;34m-\u001b[0m\u001b[0;36m1\u001b[0m\u001b[0;34m]\u001b[0m\u001b[0;34m,\u001b[0m \u001b[0mnp\u001b[0m\u001b[0;34m.\u001b[0m\u001b[0mdiff\u001b[0m\u001b[0;34m(\u001b[0m\u001b[0mpath\u001b[0m\u001b[0;34m)\u001b[0m\u001b[0;34m)\u001b[0m\u001b[0;34m\u001b[0m\u001b[0m\n\u001b[1;32m      5\u001b[0m     \u001b[0mb2\u001b[0m \u001b[0;34m=\u001b[0m \u001b[0mnp\u001b[0m\u001b[0;34m.\u001b[0m\u001b[0msquare\u001b[0m\u001b[0;34m(\u001b[0m\u001b[0mb\u001b[0m\u001b[0;34m)\u001b[0m\u001b[0;34m\u001b[0m\u001b[0m\n",
      "\u001b[0;32m<ipython-input-3-391be8ea38d8>\u001b[0m in \u001b[0;36mdrift\u001b[0;34m(x, theta)\u001b[0m\n\u001b[1;32m      1\u001b[0m \u001b[0;32mdef\u001b[0m \u001b[0mdrift\u001b[0m\u001b[0;34m(\u001b[0m\u001b[0mx\u001b[0m\u001b[0;34m,\u001b[0m \u001b[0mtheta\u001b[0m\u001b[0;34m)\u001b[0m\u001b[0;34m:\u001b[0m\u001b[0;34m\u001b[0m\u001b[0m\n\u001b[0;32m----> 2\u001b[0;31m     \u001b[0;32mreturn\u001b[0m \u001b[0;34m(\u001b[0m\u001b[0mnp\u001b[0m\u001b[0;34m.\u001b[0m\u001b[0mdot\u001b[0m\u001b[0;34m(\u001b[0m\u001b[0mmypoly\u001b[0m\u001b[0;34m(\u001b[0m\u001b[0mx\u001b[0m\u001b[0;34m)\u001b[0m\u001b[0;34m,\u001b[0m \u001b[0mtheta\u001b[0m\u001b[0;34m)\u001b[0m\u001b[0;34m)\u001b[0m\u001b[0;34m\u001b[0m\u001b[0m\n\u001b[0m",
      "\u001b[0;32m<ipython-input-4-a3a5abf0fe50>\u001b[0m in \u001b[0;36mmypoly\u001b[0;34m(x)\u001b[0m\n\u001b[1;32m      3\u001b[0m     \u001b[0;32mfor\u001b[0m \u001b[0mi\u001b[0m \u001b[0;32min\u001b[0m \u001b[0mrange\u001b[0m\u001b[0;34m(\u001b[0m\u001b[0mx\u001b[0m\u001b[0;34m.\u001b[0m\u001b[0msize\u001b[0m\u001b[0;34m)\u001b[0m\u001b[0;34m:\u001b[0m\u001b[0;34m\u001b[0m\u001b[0m\n\u001b[1;32m      4\u001b[0m         \u001b[0;32mfor\u001b[0m \u001b[0mj\u001b[0m \u001b[0;32min\u001b[0m \u001b[0mrange\u001b[0m\u001b[0;34m(\u001b[0m\u001b[0mdof\u001b[0m\u001b[0;34m)\u001b[0m\u001b[0;34m:\u001b[0m\u001b[0;34m\u001b[0m\u001b[0m\n\u001b[0;32m----> 5\u001b[0;31m             \u001b[0mH\u001b[0m \u001b[0;34m=\u001b[0m \u001b[0mpoly\u001b[0m\u001b[0;34m.\u001b[0m\u001b[0mhermitenorm\u001b[0m\u001b[0;34m(\u001b[0m\u001b[0mj\u001b[0m\u001b[0;34m)\u001b[0m\u001b[0;34m\u001b[0m\u001b[0m\n\u001b[0m\u001b[1;32m      6\u001b[0m             \u001b[0my\u001b[0m\u001b[0;34m[\u001b[0m\u001b[0mi\u001b[0m\u001b[0;34m,\u001b[0m\u001b[0mj\u001b[0m\u001b[0;34m]\u001b[0m \u001b[0;34m=\u001b[0m \u001b[0mH\u001b[0m\u001b[0;34m(\u001b[0m\u001b[0mx\u001b[0m\u001b[0;34m[\u001b[0m\u001b[0mi\u001b[0m\u001b[0;34m]\u001b[0m\u001b[0;34m)\u001b[0m \u001b[0;34m/\u001b[0m \u001b[0;34m(\u001b[0m\u001b[0mnp\u001b[0m\u001b[0;34m.\u001b[0m\u001b[0msqrt\u001b[0m\u001b[0;34m(\u001b[0m\u001b[0;36m2\u001b[0m \u001b[0;34m*\u001b[0m \u001b[0mnp\u001b[0m\u001b[0;34m.\u001b[0m\u001b[0mpi\u001b[0m\u001b[0;34m)\u001b[0m \u001b[0;34m*\u001b[0m \u001b[0mfactorial\u001b[0m\u001b[0;34m(\u001b[0m\u001b[0mj\u001b[0m\u001b[0;34m)\u001b[0m\u001b[0;34m)\u001b[0m\u001b[0;34m\u001b[0m\u001b[0m\n\u001b[1;32m      7\u001b[0m     \u001b[0;32mreturn\u001b[0m \u001b[0my\u001b[0m\u001b[0;34m\u001b[0m\u001b[0m\n",
      "\u001b[0;32m~/anaconda3/envs/tensorflow/lib/python3.5/site-packages/scipy/special/orthogonal.py\u001b[0m in \u001b[0;36mhermitenorm\u001b[0;34m(n, monic)\u001b[0m\n\u001b[1;32m   1240\u001b[0m     \u001b[0;32melse\u001b[0m\u001b[0;34m:\u001b[0m\u001b[0;34m\u001b[0m\u001b[0m\n\u001b[1;32m   1241\u001b[0m         \u001b[0mn1\u001b[0m \u001b[0;34m=\u001b[0m \u001b[0mn\u001b[0m\u001b[0;34m\u001b[0m\u001b[0m\n\u001b[0;32m-> 1242\u001b[0;31m     \u001b[0mx\u001b[0m\u001b[0;34m,\u001b[0m \u001b[0mw\u001b[0m\u001b[0;34m,\u001b[0m \u001b[0mmu0\u001b[0m \u001b[0;34m=\u001b[0m \u001b[0mroots_hermitenorm\u001b[0m\u001b[0;34m(\u001b[0m\u001b[0mn1\u001b[0m\u001b[0;34m,\u001b[0m \u001b[0mmu\u001b[0m\u001b[0;34m=\u001b[0m\u001b[0;32mTrue\u001b[0m\u001b[0;34m)\u001b[0m\u001b[0;34m\u001b[0m\u001b[0m\n\u001b[0m\u001b[1;32m   1243\u001b[0m     \u001b[0mwfunc\u001b[0m \u001b[0;34m=\u001b[0m \u001b[0;32mlambda\u001b[0m \u001b[0mx\u001b[0m\u001b[0;34m:\u001b[0m \u001b[0mexp\u001b[0m\u001b[0;34m(\u001b[0m\u001b[0;34m-\u001b[0m\u001b[0mx\u001b[0m \u001b[0;34m*\u001b[0m \u001b[0mx\u001b[0m \u001b[0;34m/\u001b[0m \u001b[0;36m2.0\u001b[0m\u001b[0;34m)\u001b[0m\u001b[0;34m\u001b[0m\u001b[0m\n\u001b[1;32m   1244\u001b[0m     \u001b[0;32mif\u001b[0m \u001b[0mn\u001b[0m \u001b[0;34m==\u001b[0m \u001b[0;36m0\u001b[0m\u001b[0;34m:\u001b[0m\u001b[0;34m\u001b[0m\u001b[0m\n",
      "\u001b[0;32m~/anaconda3/envs/tensorflow/lib/python3.5/site-packages/scipy/special/orthogonal.py\u001b[0m in \u001b[0;36mroots_hermitenorm\u001b[0;34m(n, mu)\u001b[0m\n\u001b[1;32m   1190\u001b[0m         \u001b[0mf\u001b[0m \u001b[0;34m=\u001b[0m \u001b[0mcephes\u001b[0m\u001b[0;34m.\u001b[0m\u001b[0meval_hermitenorm\u001b[0m\u001b[0;34m\u001b[0m\u001b[0m\n\u001b[1;32m   1191\u001b[0m         \u001b[0mdf\u001b[0m \u001b[0;34m=\u001b[0m \u001b[0;32mlambda\u001b[0m \u001b[0mn\u001b[0m\u001b[0;34m,\u001b[0m \u001b[0mx\u001b[0m\u001b[0;34m:\u001b[0m \u001b[0mn\u001b[0m \u001b[0;34m*\u001b[0m \u001b[0mcephes\u001b[0m\u001b[0;34m.\u001b[0m\u001b[0meval_hermitenorm\u001b[0m\u001b[0;34m(\u001b[0m\u001b[0mn\u001b[0m\u001b[0;34m-\u001b[0m\u001b[0;36m1\u001b[0m\u001b[0;34m,\u001b[0m \u001b[0mx\u001b[0m\u001b[0;34m)\u001b[0m\u001b[0;34m\u001b[0m\u001b[0m\n\u001b[0;32m-> 1192\u001b[0;31m         \u001b[0;32mreturn\u001b[0m \u001b[0m_gen_roots_and_weights\u001b[0m\u001b[0;34m(\u001b[0m\u001b[0mm\u001b[0m\u001b[0;34m,\u001b[0m \u001b[0mmu0\u001b[0m\u001b[0;34m,\u001b[0m \u001b[0man_func\u001b[0m\u001b[0;34m,\u001b[0m \u001b[0mbn_func\u001b[0m\u001b[0;34m,\u001b[0m \u001b[0mf\u001b[0m\u001b[0;34m,\u001b[0m \u001b[0mdf\u001b[0m\u001b[0;34m,\u001b[0m \u001b[0;32mTrue\u001b[0m\u001b[0;34m,\u001b[0m \u001b[0mmu\u001b[0m\u001b[0;34m)\u001b[0m\u001b[0;34m\u001b[0m\u001b[0m\n\u001b[0m\u001b[1;32m   1193\u001b[0m     \u001b[0;32melse\u001b[0m\u001b[0;34m:\u001b[0m\u001b[0;34m\u001b[0m\u001b[0m\n\u001b[1;32m   1194\u001b[0m         \u001b[0mnodes\u001b[0m\u001b[0;34m,\u001b[0m \u001b[0mweights\u001b[0m \u001b[0;34m=\u001b[0m \u001b[0m_roots_hermite_asy\u001b[0m\u001b[0;34m(\u001b[0m\u001b[0mm\u001b[0m\u001b[0;34m)\u001b[0m\u001b[0;34m\u001b[0m\u001b[0m\n",
      "\u001b[0;32m~/anaconda3/envs/tensorflow/lib/python3.5/site-packages/scipy/special/orthogonal.py\u001b[0m in \u001b[0;36m_gen_roots_and_weights\u001b[0;34m(n, mu0, an_func, bn_func, f, df, symmetrize, mu)\u001b[0m\n\u001b[1;32m    200\u001b[0m \u001b[0;34m\u001b[0m\u001b[0m\n\u001b[1;32m    201\u001b[0m     \u001b[0mfm\u001b[0m \u001b[0;34m=\u001b[0m \u001b[0mf\u001b[0m\u001b[0;34m(\u001b[0m\u001b[0mn\u001b[0m\u001b[0;34m-\u001b[0m\u001b[0;36m1\u001b[0m\u001b[0;34m,\u001b[0m \u001b[0mx\u001b[0m\u001b[0;34m)\u001b[0m\u001b[0;34m\u001b[0m\u001b[0m\n\u001b[0;32m--> 202\u001b[0;31m     \u001b[0mfm\u001b[0m \u001b[0;34m/=\u001b[0m \u001b[0mnp\u001b[0m\u001b[0;34m.\u001b[0m\u001b[0mabs\u001b[0m\u001b[0;34m(\u001b[0m\u001b[0mfm\u001b[0m\u001b[0;34m)\u001b[0m\u001b[0;34m.\u001b[0m\u001b[0mmax\u001b[0m\u001b[0;34m(\u001b[0m\u001b[0;34m)\u001b[0m\u001b[0;34m\u001b[0m\u001b[0m\n\u001b[0m\u001b[1;32m    203\u001b[0m     \u001b[0mdy\u001b[0m \u001b[0;34m/=\u001b[0m \u001b[0mnp\u001b[0m\u001b[0;34m.\u001b[0m\u001b[0mabs\u001b[0m\u001b[0;34m(\u001b[0m\u001b[0mdy\u001b[0m\u001b[0;34m)\u001b[0m\u001b[0;34m.\u001b[0m\u001b[0mmax\u001b[0m\u001b[0;34m(\u001b[0m\u001b[0;34m)\u001b[0m\u001b[0;34m\u001b[0m\u001b[0m\n\u001b[1;32m    204\u001b[0m     \u001b[0mw\u001b[0m \u001b[0;34m=\u001b[0m \u001b[0;36m1.0\u001b[0m \u001b[0;34m/\u001b[0m \u001b[0;34m(\u001b[0m\u001b[0mfm\u001b[0m \u001b[0;34m*\u001b[0m \u001b[0mdy\u001b[0m\u001b[0;34m)\u001b[0m\u001b[0;34m\u001b[0m\u001b[0m\n",
      "\u001b[0;31mKeyboardInterrupt\u001b[0m: "
     ]
    }
   ],
   "source": [
    "done = 0\n",
    "mytol = 10**(-3)\n",
    "numiter = 0\n",
    "while (done == 0):\n",
    "    numiter = numiter + 1\n",
    "    print(numiter)\n",
    "    tout, xcur = brownianbridge(x,t,1000)\n",
    "    oldlik = girsanov(path=xcur, dt=h, theta=theta)\n",
    "\n",
    "    for jj in range(numsteps + burnin):\n",
    "        _, prop = brownianbridge(x,t,1000)\n",
    "        proplik = girsanov(path=prop, dt=h, theta=theta)\n",
    "        rho = np.exp(proplik - oldlik)\n",
    "        if (rho > np.random.uniform()):\n",
    "            xcur = prop\n",
    "            oldlik = proplik\n",
    "        # ignore samples during burnin phase\n",
    "        if (jj > burnin):\n",
    "            pp = mypoly(xcur[:(-1)])\n",
    "            mmat = mmat + h * np.matmul(pp.T, pp) / numsteps\n",
    "            rvec = rvec + np.matmul((np.diff(xcur)).T, pp) / numsteps\n",
    "\n",
    "    newtheta = np.linalg.solve(mmat, rvec)\n",
    "    check = np.sum(np.abs(newtheta - theta))\n",
    "    if (check < mytol):\n",
    "        print(\"finished!\")\n",
    "        print(check)\n",
    "        print(theta)\n",
    "        done = 1\n",
    "    theta = newtheta\n",
    "    print(check)\n",
    "    print(theta)"
   ]
  },
  {
   "cell_type": "code",
   "execution_count": null,
   "metadata": {
    "collapsed": true
   },
   "outputs": [],
   "source": []
  }
 ],
 "metadata": {
  "kernelspec": {
   "display_name": "Python [default]",
   "language": "python",
   "name": "python3"
  },
  "language_info": {
   "codemirror_mode": {
    "name": "ipython",
    "version": 3
   },
   "file_extension": ".py",
   "mimetype": "text/x-python",
   "name": "python",
   "nbconvert_exporter": "python",
   "pygments_lexer": "ipython3",
   "version": "3.5.4"
  }
 },
 "nbformat": 4,
 "nbformat_minor": 2
}
