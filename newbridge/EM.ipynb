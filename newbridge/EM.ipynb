{
 "cells": [
  {
   "cell_type": "code",
   "execution_count": 1,
   "metadata": {
    "collapsed": false
   },
   "outputs": [],
   "source": [
    "import numpy as np\n",
    "%matplotlib inline\n",
    "from matplotlib import pyplot as plt\n",
    "import scipy.special as poly\n",
    "from math import factorial"
   ]
  },
  {
   "cell_type": "code",
   "execution_count": 2,
   "metadata": {
    "collapsed": false
   },
   "outputs": [],
   "source": [
    "dof = 4\n",
    "numsteps = 25000\n",
    "savesteps = 100\n",
    "ft = 10.0\n",
    "ic = np.array([1.0])\n",
    "it = np.array([0.0])\n",
    "dt = ft / savesteps\n",
    "\n",
    "g = 1/2\n",
    "coef = np.array([1., 2., -1., -0.5])"
   ]
  },
  {
   "cell_type": "code",
   "execution_count": 3,
   "metadata": {
    "collapsed": false
   },
   "outputs": [],
   "source": [
    "def mypoly(x):\n",
    "    y = np.zeros((x.size, dof))\n",
    "    for i in range(x.size):\n",
    "        for j in range(dof):\n",
    "            H = poly.hermitenorm(j, monic = True)\n",
    "            # normalization constant = np.sqrt(np.sqrt(2 * np.pi) * factorial(j))\n",
    "            # for probabilist's Hermite (hermitenorm)\n",
    "            # normalization constant = np.sqrt(np.sqrt(np.pi) * (2**j) * factorial(j))\n",
    "            # for physicists' Hermite (hermite)\n",
    "            y[i,j] = H(x[i]) / np.sqrt(np.sqrt(2 * np.pi) * factorial(j))\n",
    "    return y"
   ]
  },
  {
   "cell_type": "code",
   "execution_count": 4,
   "metadata": {
    "collapsed": true
   },
   "outputs": [],
   "source": [
    "def drift(x, theta):\n",
    "    return (np.dot(mypoly(x), theta))"
   ]
  },
  {
   "cell_type": "code",
   "execution_count": 5,
   "metadata": {
    "collapsed": false
   },
   "outputs": [],
   "source": [
    "j = 1\n",
    "x = np.zeros(savesteps + 1)\n",
    "t = np.zeros(savesteps + 1)\n",
    "h = ft / numsteps\n",
    "h12 = np.sqrt(h)\n",
    "x[0] = ic\n",
    "t[0] = it\n",
    "\n",
    "for i in range(1, numsteps + 1):\n",
    "    ic = ic + drift(ic, coef) * h + g * h12 * np.random.standard_normal(1)\n",
    "    if (i % (numsteps / savesteps) == 0):\n",
    "        x[j] = ic\n",
    "        t[j] = i*h + it\n",
    "        j = j + 1"
   ]
  },
  {
   "cell_type": "code",
   "execution_count": 6,
   "metadata": {
    "collapsed": false,
    "scrolled": true
   },
   "outputs": [
    {
     "name": "stdout",
     "output_type": "stream",
     "text": [
      "[ 1.          1.03282867  1.06989415  1.27133465  1.41876155  1.13195285\n",
      "  1.42610796  1.49326222  1.88272049  2.09142152  2.30351256  2.4366033\n",
      "  2.38307792  2.37697814  2.80675452  2.76562645  2.6997692   2.43727284\n",
      "  2.20880072  2.25909351  2.44347341  2.66691219  2.81679409  2.7137146\n",
      "  2.69374983  2.72201635  2.88997044  2.71965413  2.78937695  2.6200135\n",
      "  2.73343844  2.40147303  2.30545862  2.4650136   2.33479235  2.34472571\n",
      "  2.26319632  2.19174731  2.3138602   2.52340569  2.65344083  2.6415656\n",
      "  2.48667553  2.57196122  2.45930668  2.42691466  2.10501214  2.17870588\n",
      "  2.33383427  2.46379795  2.31530566  2.59193151  2.75661442  2.71455014\n",
      "  2.813377    2.84266016  2.74284793  2.95644025  2.76142888  2.82916819\n",
      "  2.82481184  2.52268699  2.65641844  2.92004794  2.80909153  2.6710511\n",
      "  2.68540388  2.71289724  2.60811976  2.66389204  2.50896531  2.8536844\n",
      "  2.65188271  2.66454638  2.82870427  2.55084854  2.70455957  2.52514429\n",
      "  2.6797887   2.74452931  2.69504324  2.64694288  2.69706811  2.60036242\n",
      "  2.62238615  2.75639369  2.72967806  2.49680651  2.61065825  2.74717712\n",
      "  2.79227064  2.75758884  2.71950176  2.66750711  2.59586869  2.47456628\n",
      "  2.3734364   2.31881389  2.35225088  2.25761316  2.52261933]\n",
      "[  0.    0.1   0.2   0.3   0.4   0.5   0.6   0.7   0.8   0.9   1.    1.1\n",
      "   1.2   1.3   1.4   1.5   1.6   1.7   1.8   1.9   2.    2.1   2.2   2.3\n",
      "   2.4   2.5   2.6   2.7   2.8   2.9   3.    3.1   3.2   3.3   3.4   3.5\n",
      "   3.6   3.7   3.8   3.9   4.    4.1   4.2   4.3   4.4   4.5   4.6   4.7\n",
      "   4.8   4.9   5.    5.1   5.2   5.3   5.4   5.5   5.6   5.7   5.8   5.9\n",
      "   6.    6.1   6.2   6.3   6.4   6.5   6.6   6.7   6.8   6.9   7.    7.1\n",
      "   7.2   7.3   7.4   7.5   7.6   7.7   7.8   7.9   8.    8.1   8.2   8.3\n",
      "   8.4   8.5   8.6   8.7   8.8   8.9   9.    9.1   9.2   9.3   9.4   9.5\n",
      "   9.6   9.7   9.8   9.9  10. ]\n"
     ]
    },
    {
     "data": {
      "text/plain": [
       "[<matplotlib.lines.Line2D at 0x7fbb93553ef0>]"
      ]
     },
     "execution_count": 6,
     "metadata": {},
     "output_type": "execute_result"
    },
    {
     "data": {
      "image/png": "[encoded data removed]",
      "text/plain": [
       "<matplotlib.figure.Figure at 0x7fbb935d8780>"
      ]
     },
     "metadata": {},
     "output_type": "display_data"
    }
   ],
   "source": [
    "print(x)\n",
    "print(t)\n",
    "plt.plot(t, x)"
   ]
  },
  {
   "cell_type": "code",
   "execution_count": 7,
   "metadata": {
    "collapsed": true
   },
   "outputs": [],
   "source": [
    "def brownianbridge(xin, tin, n, index):\n",
    "    h = (tin[index + 1] - tin[index]) / n\n",
    "    tvec = tin[index] + (1+np.arange(n))*h\n",
    "    h12 = np.sqrt(h)\n",
    "    wincs = np.random.normal(scale=h12, size=n)\n",
    "    w = np.cumsum(wincs)\n",
    "    bridge = xin[index] + w - ((tvec - tin[index])/(tin[index + 1]-tin[index]))*(w[n-1] + xin[index] - xin[index + 1])\n",
    "    tvec = np.concatenate((t[[index]], tvec))\n",
    "    bridge = np.concatenate((x[[index]],bridge))\n",
    "    return tvec, bridge"
   ]
  },
  {
   "cell_type": "code",
   "execution_count": 8,
   "metadata": {
    "collapsed": true
   },
   "outputs": [],
   "source": [
    "# girsanov LOG likelihood\n",
    "def girsanov(path, dt, theta):\n",
    "    b = drift(path, theta)\n",
    "    int1 = np.dot(b[:-1], np.diff(path))\n",
    "    b2 = np.square(b)\n",
    "    int2 = np.sum(0.5*(b2[1:] + b2[:-1]))*dt\n",
    "    r = int1 - 0.5*int2\n",
    "    return r"
   ]
  },
  {
   "cell_type": "code",
   "execution_count": null,
   "metadata": {
    "collapsed": false
   },
   "outputs": [],
   "source": [
    "theta = np.array([1.5, 1., 0., -0.25])\n",
    "numsubintervals = 100\n",
    "h = (t[1] - t[0])/numsubintervals\n",
    "numpaths = 100\n",
    "burninpaths = 100"
   ]
  },
  {
   "cell_type": "code",
   "execution_count": null,
   "metadata": {
    "collapsed": false
   },
   "outputs": [
    {
     "name": "stdout",
     "output_type": "stream",
     "text": [
      "1\n",
      "Acceptance rate during burn-in: 0.98\n",
      "Acceptance rate post burn-in: 1.0\n",
      "Acceptance rate during burn-in: 1.0\n",
      "Acceptance rate post burn-in: 0.99\n",
      "Acceptance rate during burn-in: 1.0\n",
      "Acceptance rate post burn-in: 0.99\n",
      "Acceptance rate during burn-in: 0.99\n",
      "Acceptance rate post burn-in: 1.0\n",
      "Acceptance rate during burn-in: 1.0\n",
      "Acceptance rate post burn-in: 0.99\n",
      "Acceptance rate during burn-in: 1.0\n",
      "Acceptance rate post burn-in: 0.99\n",
      "Acceptance rate during burn-in: 1.0\n",
      "Acceptance rate post burn-in: 0.98\n",
      "Acceptance rate during burn-in: 1.0\n",
      "Acceptance rate post burn-in: 1.0\n",
      "Acceptance rate during burn-in: 1.0\n",
      "Acceptance rate post burn-in: 0.99\n",
      "Acceptance rate during burn-in: 1.0\n",
      "Acceptance rate post burn-in: 0.99\n",
      "Acceptance rate during burn-in: 1.0\n",
      "Acceptance rate post burn-in: 0.98\n",
      "Acceptance rate during burn-in: 0.99\n",
      "Acceptance rate post burn-in: 1.0\n",
      "Acceptance rate during burn-in: 1.0\n",
      "Acceptance rate post burn-in: 0.99\n",
      "Acceptance rate during burn-in: 0.99\n",
      "Acceptance rate post burn-in: 0.98\n",
      "Acceptance rate during burn-in: 0.99\n",
      "Acceptance rate post burn-in: 1.0\n",
      "Acceptance rate during burn-in: 0.99\n",
      "Acceptance rate post burn-in: 0.99\n",
      "Acceptance rate during burn-in: 0.99\n",
      "Acceptance rate post burn-in: 1.0\n",
      "Acceptance rate during burn-in: 0.99\n",
      "Acceptance rate post burn-in: 1.0\n",
      "Acceptance rate during burn-in: 1.0\n"
     ]
    }
   ],
   "source": [
    "done = False\n",
    "mytol = 10**(-3)\n",
    "numiter = 0\n",
    "while (done == False):\n",
    "    numiter = numiter + 1\n",
    "    print(numiter)\n",
    "    mmat = np.zeros((dof, dof))\n",
    "    rvec = np.zeros(dof)\n",
    "    \n",
    "    # for each interval of observed value (x_0 to x_n)\n",
    "    for i in range(x.size-1):\n",
    "        samples = np.zeros(numsubintervals)\n",
    "        tout, xcur = brownianbridge(x,t,numsubintervals, i)\n",
    "        oldlik = girsanov(path=xcur, dt=h, theta=theta)\n",
    "        arburn = np.zeros(burninpaths)\n",
    "        for jj in range(burninpaths):\n",
    "            _, prop = brownianbridge(x,t,numsubintervals,i)\n",
    "            proplik = girsanov(path=prop, dt=h, theta=theta)\n",
    "            rho = np.exp(proplik - oldlik)\n",
    "#             print(\"proplik:\", proplik, \"oldlik:\", oldlik, \"burnin rho\", rho)\n",
    "            if (rho > np.random.uniform()):\n",
    "                xcur = prop\n",
    "                oldlik = proplik\n",
    "                arburn[jj] = 1\n",
    "                \n",
    "        print(\"Acceptance rate during burn-in:\", np.mean(arburn))\n",
    "\n",
    "        # for each path being sampled (r = 0 to r = R)\n",
    "        arsamp = np.zeros(numpaths)\n",
    "        for jj in range(numpaths):\n",
    "            _, prop = brownianbridge(x,t,numsubintervals,i)\n",
    "            proplik = girsanov(path=prop, dt=h, theta=theta)\n",
    "            rho = np.exp(proplik - oldlik)\n",
    "            if (rho > np.random.uniform()):\n",
    "#                 print(\"proplik:\", proplik, \"oldlik:\", oldlik, \"sampling rho:\", rho)\n",
    "                xcur = prop\n",
    "                oldlik = proplik\n",
    "                arsamp[jj] = 1\n",
    "            samples = xcur\n",
    "            plt.plot(samples)\n",
    "            pp = mypoly(samples[:(-1)])\n",
    "            mmat = mmat + h * np.matmul(pp.T, pp) / numpaths\n",
    "            rvec = rvec + np.matmul((np.diff(samples)).T, pp) / numpaths\n",
    "            \n",
    "        print(\"Acceptance rate post burn-in:\", np.mean(arsamp))\n",
    "#         print(mmat)\n",
    "#         print(rvec)\n",
    "        \n",
    "    newtheta = np.linalg.solve(mmat, rvec)\n",
    "    check = np.sum(np.abs(newtheta - theta))\n",
    "    if (check < mytol):\n",
    "        print(\"finished!\")\n",
    "        print(check)\n",
    "        print(theta)\n",
    "        done = True\n",
    "    theta = newtheta\n",
    "    print(check)\n",
    "    print(theta)"
   ]
  },
  {
   "cell_type": "code",
   "execution_count": null,
   "metadata": {
    "collapsed": false
   },
   "outputs": [],
   "source": [
    "plt.plot(samples)"
   ]
  },
  {
   "cell_type": "code",
   "execution_count": null,
   "metadata": {
    "collapsed": false
   },
   "outputs": [],
   "source": [
    "x"
   ]
  },
  {
   "cell_type": "code",
   "execution_count": null,
   "metadata": {
    "collapsed": true
   },
   "outputs": [],
   "source": []
  }
 ],
 "metadata": {
  "kernelspec": {
   "display_name": "Python 3",
   "language": "python",
   "name": "python3"
  },
  "language_info": {
   "codemirror_mode": {
    "name": "ipython",
    "version": 3
   },
   "file_extension": ".py",
   "mimetype": "text/x-python",
   "name": "python",
   "nbconvert_exporter": "python",
   "pygments_lexer": "ipython3",
   "version": "3.6.0"
  }
 },
 "nbformat": 4,
 "nbformat_minor": 2
}
