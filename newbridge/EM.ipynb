{
 "cells": [
  {
   "cell_type": "code",
   "execution_count": 1,
   "metadata": {
    "collapsed": false
   },
   "outputs": [],
   "source": [
    "import numpy as np\n",
    "%matplotlib inline\n",
    "from matplotlib import pyplot as plt\n",
    "import scipy.special as poly\n",
    "from math import factorial"
   ]
  },
  {
   "cell_type": "code",
   "execution_count": 2,
   "metadata": {
    "collapsed": false
   },
   "outputs": [],
   "source": [
    "dof = 4\n",
    "numsteps = 25000\n",
    "savesteps = 10\n",
    "ft = 10.0\n",
    "ic = np.array([1.0])\n",
    "it = np.array([0.0])\n",
    "dt = ft / savesteps\n",
    "\n",
    "g = 1/2\n",
    "coef = np.array([1., 2., -1., -0.5])"
   ]
  },
  {
   "cell_type": "code",
   "execution_count": 3,
   "metadata": {
    "collapsed": false
   },
   "outputs": [],
   "source": [
    "def mypoly(x):\n",
    "    y = np.zeros((x.size, dof))\n",
    "    for i in range(x.size):\n",
    "        for j in range(dof):\n",
    "            H = poly.hermitenorm(j, monic = True)\n",
    "            # normalization constant = np.sqrt(np.sqrt(2 * np.pi) * factorial(j))\n",
    "            # for probabilist's Hermite (hermitenorm)\n",
    "            # normalization constant = np.sqrt(np.sqrt(np.pi) * (2**j) * factorial(j))\n",
    "            # for physicists' Hermite (hermite)\n",
    "            y[i,j] = H(x[i]) / np.sqrt(np.sqrt(2 * np.pi) * factorial(j))\n",
    "    return y"
   ]
  },
  {
   "cell_type": "code",
   "execution_count": 4,
   "metadata": {
    "collapsed": true
   },
   "outputs": [],
   "source": [
    "def drift(x, theta):\n",
    "    return (np.dot(mypoly(x), theta))"
   ]
  },
  {
   "cell_type": "code",
   "execution_count": 5,
   "metadata": {
    "collapsed": false
   },
   "outputs": [],
   "source": [
    "j = 1\n",
    "x = np.zeros(savesteps + 1)\n",
    "t = np.zeros(savesteps + 1)\n",
    "h = ft / numsteps\n",
    "h12 = np.sqrt(h)\n",
    "x[0] = ic\n",
    "t[0] = it\n",
    "\n",
    "for i in range(1, numsteps + 1):\n",
    "    ic = ic + drift(ic, coef) * h + g * h12 * np.random.standard_normal(1)\n",
    "    if (i % (numsteps / savesteps) == 0):\n",
    "        x[j] = ic\n",
    "        t[j] = i*h + it\n",
    "        j = j + 1"
   ]
  },
  {
   "cell_type": "code",
   "execution_count": 6,
   "metadata": {
    "collapsed": false,
    "scrolled": true
   },
   "outputs": [
    {
     "data": {
      "text/plain": [
       "[<matplotlib.lines.Line2D at 0x10ef97ef0>]"
      ]
     },
     "execution_count": 6,
     "metadata": {},
     "output_type": "execute_result"
    },
    {
     "data": {
      "image/png": "[encoded data removed]",
      "text/plain": [
       "<matplotlib.figure.Figure at 0x10ef00358>"
      ]
     },
     "metadata": {},
     "output_type": "display_data"
    }
   ],
   "source": [
    "plt.plot(t, x)"
   ]
  },
  {
   "cell_type": "code",
   "execution_count": 7,
   "metadata": {
    "collapsed": true
   },
   "outputs": [],
   "source": [
    "def brownianbridge(g, xin, tin, n, index):\n",
    "    h = (tin[index + 1] - tin[index]) / n\n",
    "    tvec = tin[index] + (1+np.arange(n))*h\n",
    "    h12 = np.sqrt(h)\n",
    "    wincs = np.random.normal(scale=h12*g, size=n)\n",
    "    w = np.cumsum(wincs)\n",
    "    bridge = xin[index] + w - ((tvec - tin[index])/(tin[index + 1]-tin[index]))*(w[n-1] + xin[index] - xin[index + 1])\n",
    "    tvec = np.concatenate((t[[index]], tvec))\n",
    "    bridge = np.concatenate((x[[index]],bridge))\n",
    "    return tvec, bridge"
   ]
  },
  {
   "cell_type": "code",
   "execution_count": 8,
   "metadata": {
    "collapsed": true
   },
   "outputs": [],
   "source": [
    "# girsanov LOG likelihood\n",
    "def girsanov(g, path, dt, theta):\n",
    "    b = drift(path, theta)\n",
    "    int1 = np.dot(b[:-1]/(g*g), np.diff(path))\n",
    "    b2 = np.square(b)/(g*g)\n",
    "    int2 = np.sum(0.5*(b2[1:] + b2[:-1]))*dt\n",
    "    r = int1 - 0.5*int2\n",
    "    return r"
   ]
  },
  {
   "cell_type": "code",
   "execution_count": 9,
   "metadata": {
    "collapsed": false
   },
   "outputs": [],
   "source": [
    "theta = np.array([1.5, 1., 0., -0.25])\n",
    "numsubintervals = 100\n",
    "h = (t[1] - t[0])/numsubintervals\n",
    "numpaths = 1000\n",
    "burninpaths = 10"
   ]
  },
  {
   "cell_type": "code",
   "execution_count": 10,
   "metadata": {
    "collapsed": false
   },
   "outputs": [
    {
     "name": "stdout",
     "output_type": "stream",
     "text": [
      "1\n",
      "Acceptance rate during burn-in: 0.9\n",
      "Acceptance rate post burn-in: 0.858\n",
      "Acceptance rate during burn-in: 0.4\n",
      "Acceptance rate post burn-in: 0.544\n",
      "Acceptance rate during burn-in: 0.9\n",
      "Acceptance rate post burn-in: 0.586\n",
      "Acceptance rate during burn-in: 1.0\n",
      "Acceptance rate post burn-in: 0.629\n",
      "Acceptance rate during burn-in: 0.6\n",
      "Acceptance rate post burn-in: 0.504\n",
      "Acceptance rate during burn-in: 0.5\n",
      "Acceptance rate post burn-in: 0.558\n",
      "Acceptance rate during burn-in: 0.7\n",
      "Acceptance rate post burn-in: 0.505\n",
      "Acceptance rate during burn-in: 0.6\n",
      "Acceptance rate post burn-in: 0.536\n",
      "Acceptance rate during burn-in: 0.9\n",
      "Acceptance rate post burn-in: 0.683\n",
      "Acceptance rate during burn-in: 1.0\n",
      "Acceptance rate post burn-in: 0.581\n",
      "25.7584102414\n",
      "[ -6.83001656  10.59149804  -6.23804955   1.34884609]\n",
      "2\n",
      "Acceptance rate during burn-in: 0.8\n",
      "Acceptance rate post burn-in: 0.628\n",
      "Acceptance rate during burn-in: 0.8\n",
      "Acceptance rate post burn-in: 0.851\n",
      "Acceptance rate during burn-in: 1.0\n",
      "Acceptance rate post burn-in: 0.76\n",
      "Acceptance rate during burn-in: 0.7\n",
      "Acceptance rate post burn-in: 0.731\n",
      "Acceptance rate during burn-in: 0.8\n",
      "Acceptance rate post burn-in: 0.845\n",
      "Acceptance rate during burn-in: 0.8\n",
      "Acceptance rate post burn-in: 0.875\n",
      "Acceptance rate during burn-in: 0.9\n",
      "Acceptance rate post burn-in: 0.871\n",
      "Acceptance rate during burn-in: 0.8\n",
      "Acceptance rate post burn-in: 0.892\n",
      "Acceptance rate during burn-in: 1.0\n",
      "Acceptance rate post burn-in: 0.727\n",
      "Acceptance rate during burn-in: 0.8\n",
      "Acceptance rate post burn-in: 0.765\n",
      "1.15336688021\n",
      "[ -6.09650824  10.34871759  -6.17842248   1.23139506]\n",
      "3\n",
      "Acceptance rate during burn-in: 0.6\n",
      "Acceptance rate post burn-in: 0.425\n",
      "Acceptance rate during burn-in: 0.8\n",
      "Acceptance rate post burn-in: 0.825\n",
      "Acceptance rate during burn-in: 0.7\n",
      "Acceptance rate post burn-in: 0.693\n",
      "Acceptance rate during burn-in: 0.5\n",
      "Acceptance rate post burn-in: 0.731\n",
      "Acceptance rate during burn-in: 0.8\n",
      "Acceptance rate post burn-in: 0.803\n",
      "Acceptance rate during burn-in: 0.8\n",
      "Acceptance rate post burn-in: 0.824\n",
      "Acceptance rate during burn-in: 0.5\n",
      "Acceptance rate post burn-in: 0.676\n",
      "Acceptance rate during burn-in: 0.7\n",
      "Acceptance rate post burn-in: 0.797\n",
      "Acceptance rate during burn-in: 0.7\n",
      "Acceptance rate post burn-in: 0.713\n",
      "Acceptance rate during burn-in: 0.8\n",
      "Acceptance rate post burn-in: 0.728\n",
      "13.7866833548\n",
      "[-0.84380885  5.23356012 -3.48635518  0.50463586]\n",
      "4\n",
      "Acceptance rate during burn-in: 0.8\n",
      "Acceptance rate post burn-in: 0.361\n",
      "Acceptance rate during burn-in: 0.7\n",
      "Acceptance rate post burn-in: 0.754\n",
      "Acceptance rate during burn-in: 0.6\n",
      "Acceptance rate post burn-in: 0.686\n",
      "Acceptance rate during burn-in: 0.7\n",
      "Acceptance rate post burn-in: 0.699\n",
      "Acceptance rate during burn-in: 0.7\n"
     ]
    },
    {
     "ename": "KeyboardInterrupt",
     "evalue": "",
     "output_type": "error",
     "traceback": [
      "\u001b[0;31m---------------------------------------------------------------------------\u001b[0m",
      "\u001b[0;31mKeyboardInterrupt\u001b[0m                         Traceback (most recent call last)",
      "\u001b[0;32m<ipython-input-10-d1322917c7a2>\u001b[0m in \u001b[0;36m<module>\u001b[0;34m()\u001b[0m\n\u001b[1;32m     29\u001b[0m         \u001b[0;32mfor\u001b[0m \u001b[0mjj\u001b[0m \u001b[0;32min\u001b[0m \u001b[0mrange\u001b[0m\u001b[0;34m(\u001b[0m\u001b[0mnumpaths\u001b[0m\u001b[0;34m)\u001b[0m\u001b[0;34m:\u001b[0m\u001b[0;34m\u001b[0m\u001b[0m\n\u001b[1;32m     30\u001b[0m             \u001b[0m_\u001b[0m\u001b[0;34m,\u001b[0m \u001b[0mprop\u001b[0m \u001b[0;34m=\u001b[0m \u001b[0mbrownianbridge\u001b[0m\u001b[0;34m(\u001b[0m\u001b[0mg\u001b[0m\u001b[0;34m,\u001b[0m\u001b[0mx\u001b[0m\u001b[0;34m,\u001b[0m\u001b[0mt\u001b[0m\u001b[0;34m,\u001b[0m\u001b[0mnumsubintervals\u001b[0m\u001b[0;34m,\u001b[0m\u001b[0mi\u001b[0m\u001b[0;34m)\u001b[0m\u001b[0;34m\u001b[0m\u001b[0m\n\u001b[0;32m---> 31\u001b[0;31m             \u001b[0mproplik\u001b[0m \u001b[0;34m=\u001b[0m \u001b[0mgirsanov\u001b[0m\u001b[0;34m(\u001b[0m\u001b[0mg\u001b[0m\u001b[0;34m=\u001b[0m\u001b[0mg\u001b[0m\u001b[0;34m,\u001b[0m \u001b[0mpath\u001b[0m\u001b[0;34m=\u001b[0m\u001b[0mprop\u001b[0m\u001b[0;34m,\u001b[0m \u001b[0mdt\u001b[0m\u001b[0;34m=\u001b[0m\u001b[0mh\u001b[0m\u001b[0;34m,\u001b[0m \u001b[0mtheta\u001b[0m\u001b[0;34m=\u001b[0m\u001b[0mtheta\u001b[0m\u001b[0;34m)\u001b[0m\u001b[0;34m\u001b[0m\u001b[0m\n\u001b[0m\u001b[1;32m     32\u001b[0m             \u001b[0mrho\u001b[0m \u001b[0;34m=\u001b[0m \u001b[0mnp\u001b[0m\u001b[0;34m.\u001b[0m\u001b[0mexp\u001b[0m\u001b[0;34m(\u001b[0m\u001b[0mproplik\u001b[0m \u001b[0;34m-\u001b[0m \u001b[0moldlik\u001b[0m\u001b[0;34m)\u001b[0m\u001b[0;34m\u001b[0m\u001b[0m\n\u001b[1;32m     33\u001b[0m             \u001b[0;32mif\u001b[0m \u001b[0;34m(\u001b[0m\u001b[0mrho\u001b[0m \u001b[0;34m>\u001b[0m \u001b[0mnp\u001b[0m\u001b[0;34m.\u001b[0m\u001b[0mrandom\u001b[0m\u001b[0;34m.\u001b[0m\u001b[0muniform\u001b[0m\u001b[0;34m(\u001b[0m\u001b[0;34m)\u001b[0m\u001b[0;34m)\u001b[0m\u001b[0;34m:\u001b[0m\u001b[0;34m\u001b[0m\u001b[0m\n",
      "\u001b[0;32m<ipython-input-8-85189e22a0ce>\u001b[0m in \u001b[0;36mgirsanov\u001b[0;34m(g, path, dt, theta)\u001b[0m\n\u001b[1;32m      1\u001b[0m \u001b[0;31m# girsanov LOG likelihood\u001b[0m\u001b[0;34m\u001b[0m\u001b[0;34m\u001b[0m\u001b[0m\n\u001b[1;32m      2\u001b[0m \u001b[0;32mdef\u001b[0m \u001b[0mgirsanov\u001b[0m\u001b[0;34m(\u001b[0m\u001b[0mg\u001b[0m\u001b[0;34m,\u001b[0m \u001b[0mpath\u001b[0m\u001b[0;34m,\u001b[0m \u001b[0mdt\u001b[0m\u001b[0;34m,\u001b[0m \u001b[0mtheta\u001b[0m\u001b[0;34m)\u001b[0m\u001b[0;34m:\u001b[0m\u001b[0;34m\u001b[0m\u001b[0m\n\u001b[0;32m----> 3\u001b[0;31m     \u001b[0mb\u001b[0m \u001b[0;34m=\u001b[0m \u001b[0mdrift\u001b[0m\u001b[0;34m(\u001b[0m\u001b[0mpath\u001b[0m\u001b[0;34m,\u001b[0m \u001b[0mtheta\u001b[0m\u001b[0;34m)\u001b[0m\u001b[0;34m\u001b[0m\u001b[0m\n\u001b[0m\u001b[1;32m      4\u001b[0m     \u001b[0mint1\u001b[0m \u001b[0;34m=\u001b[0m \u001b[0mnp\u001b[0m\u001b[0;34m.\u001b[0m\u001b[0mdot\u001b[0m\u001b[0;34m(\u001b[0m\u001b[0mb\u001b[0m\u001b[0;34m[\u001b[0m\u001b[0;34m:\u001b[0m\u001b[0;34m-\u001b[0m\u001b[0;36m1\u001b[0m\u001b[0;34m]\u001b[0m\u001b[0;34m/\u001b[0m\u001b[0;34m(\u001b[0m\u001b[0mg\u001b[0m\u001b[0;34m*\u001b[0m\u001b[0mg\u001b[0m\u001b[0;34m)\u001b[0m\u001b[0;34m,\u001b[0m \u001b[0mnp\u001b[0m\u001b[0;34m.\u001b[0m\u001b[0mdiff\u001b[0m\u001b[0;34m(\u001b[0m\u001b[0mpath\u001b[0m\u001b[0;34m)\u001b[0m\u001b[0;34m)\u001b[0m\u001b[0;34m\u001b[0m\u001b[0m\n\u001b[1;32m      5\u001b[0m     \u001b[0mb2\u001b[0m \u001b[0;34m=\u001b[0m \u001b[0mnp\u001b[0m\u001b[0;34m.\u001b[0m\u001b[0msquare\u001b[0m\u001b[0;34m(\u001b[0m\u001b[0mb\u001b[0m\u001b[0;34m)\u001b[0m\u001b[0;34m/\u001b[0m\u001b[0;34m(\u001b[0m\u001b[0mg\u001b[0m\u001b[0;34m*\u001b[0m\u001b[0mg\u001b[0m\u001b[0;34m)\u001b[0m\u001b[0;34m\u001b[0m\u001b[0m\n",
      "\u001b[0;32m<ipython-input-4-391be8ea38d8>\u001b[0m in \u001b[0;36mdrift\u001b[0;34m(x, theta)\u001b[0m\n\u001b[1;32m      1\u001b[0m \u001b[0;32mdef\u001b[0m \u001b[0mdrift\u001b[0m\u001b[0;34m(\u001b[0m\u001b[0mx\u001b[0m\u001b[0;34m,\u001b[0m \u001b[0mtheta\u001b[0m\u001b[0;34m)\u001b[0m\u001b[0;34m:\u001b[0m\u001b[0;34m\u001b[0m\u001b[0m\n\u001b[0;32m----> 2\u001b[0;31m     \u001b[0;32mreturn\u001b[0m \u001b[0;34m(\u001b[0m\u001b[0mnp\u001b[0m\u001b[0;34m.\u001b[0m\u001b[0mdot\u001b[0m\u001b[0;34m(\u001b[0m\u001b[0mmypoly\u001b[0m\u001b[0;34m(\u001b[0m\u001b[0mx\u001b[0m\u001b[0;34m)\u001b[0m\u001b[0;34m,\u001b[0m \u001b[0mtheta\u001b[0m\u001b[0;34m)\u001b[0m\u001b[0;34m)\u001b[0m\u001b[0;34m\u001b[0m\u001b[0m\n\u001b[0m",
      "\u001b[0;32m<ipython-input-3-843e44007788>\u001b[0m in \u001b[0;36mmypoly\u001b[0;34m(x)\u001b[0m\n\u001b[1;32m      3\u001b[0m     \u001b[0;32mfor\u001b[0m \u001b[0mi\u001b[0m \u001b[0;32min\u001b[0m \u001b[0mrange\u001b[0m\u001b[0;34m(\u001b[0m\u001b[0mx\u001b[0m\u001b[0;34m.\u001b[0m\u001b[0msize\u001b[0m\u001b[0;34m)\u001b[0m\u001b[0;34m:\u001b[0m\u001b[0;34m\u001b[0m\u001b[0m\n\u001b[1;32m      4\u001b[0m         \u001b[0;32mfor\u001b[0m \u001b[0mj\u001b[0m \u001b[0;32min\u001b[0m \u001b[0mrange\u001b[0m\u001b[0;34m(\u001b[0m\u001b[0mdof\u001b[0m\u001b[0;34m)\u001b[0m\u001b[0;34m:\u001b[0m\u001b[0;34m\u001b[0m\u001b[0m\n\u001b[0;32m----> 5\u001b[0;31m             \u001b[0mH\u001b[0m \u001b[0;34m=\u001b[0m \u001b[0mpoly\u001b[0m\u001b[0;34m.\u001b[0m\u001b[0mhermitenorm\u001b[0m\u001b[0;34m(\u001b[0m\u001b[0mj\u001b[0m\u001b[0;34m,\u001b[0m \u001b[0mmonic\u001b[0m \u001b[0;34m=\u001b[0m \u001b[0;32mTrue\u001b[0m\u001b[0;34m)\u001b[0m\u001b[0;34m\u001b[0m\u001b[0m\n\u001b[0m\u001b[1;32m      6\u001b[0m             \u001b[0;31m# normalization constant = np.sqrt(np.sqrt(2 * np.pi) * factorial(j))\u001b[0m\u001b[0;34m\u001b[0m\u001b[0;34m\u001b[0m\u001b[0m\n\u001b[1;32m      7\u001b[0m             \u001b[0;31m# for probabilist's Hermite (hermitenorm)\u001b[0m\u001b[0;34m\u001b[0m\u001b[0;34m\u001b[0m\u001b[0m\n",
      "\u001b[0;32m//anaconda/lib/python3.5/site-packages/scipy/special/orthogonal.py\u001b[0m in \u001b[0;36mhermitenorm\u001b[0;34m(n, monic)\u001b[0m\n\u001b[1;32m   1052\u001b[0m     \u001b[0;32melse\u001b[0m\u001b[0;34m:\u001b[0m\u001b[0;34m\u001b[0m\u001b[0m\n\u001b[1;32m   1053\u001b[0m         \u001b[0mn1\u001b[0m \u001b[0;34m=\u001b[0m \u001b[0mn\u001b[0m\u001b[0;34m\u001b[0m\u001b[0m\n\u001b[0;32m-> 1054\u001b[0;31m     \u001b[0mx\u001b[0m\u001b[0;34m,\u001b[0m \u001b[0mw\u001b[0m\u001b[0;34m,\u001b[0m \u001b[0mmu0\u001b[0m \u001b[0;34m=\u001b[0m \u001b[0mhe_roots\u001b[0m\u001b[0;34m(\u001b[0m\u001b[0mn1\u001b[0m\u001b[0;34m,\u001b[0m \u001b[0mmu\u001b[0m\u001b[0;34m=\u001b[0m\u001b[0;32mTrue\u001b[0m\u001b[0;34m)\u001b[0m\u001b[0;34m\u001b[0m\u001b[0m\n\u001b[0m\u001b[1;32m   1055\u001b[0m     \u001b[0mwfunc\u001b[0m \u001b[0;34m=\u001b[0m \u001b[0;32mlambda\u001b[0m \u001b[0mx\u001b[0m\u001b[0;34m:\u001b[0m \u001b[0mexp\u001b[0m\u001b[0;34m(\u001b[0m\u001b[0;34m-\u001b[0m\u001b[0mx\u001b[0m \u001b[0;34m*\u001b[0m \u001b[0mx\u001b[0m \u001b[0;34m/\u001b[0m \u001b[0;36m2.0\u001b[0m\u001b[0;34m)\u001b[0m\u001b[0;34m\u001b[0m\u001b[0m\n\u001b[1;32m   1056\u001b[0m     \u001b[0;32mif\u001b[0m \u001b[0mn\u001b[0m \u001b[0;34m==\u001b[0m \u001b[0;36m0\u001b[0m\u001b[0;34m:\u001b[0m\u001b[0;34m\u001b[0m\u001b[0m\n",
      "\u001b[0;32m//anaconda/lib/python3.5/site-packages/scipy/special/orthogonal.py\u001b[0m in \u001b[0;36mhe_roots\u001b[0;34m(n, mu)\u001b[0m\n\u001b[1;32m   1029\u001b[0m         \u001b[0mf\u001b[0m \u001b[0;34m=\u001b[0m \u001b[0mcephes\u001b[0m\u001b[0;34m.\u001b[0m\u001b[0meval_hermitenorm\u001b[0m\u001b[0;34m\u001b[0m\u001b[0m\n\u001b[1;32m   1030\u001b[0m         \u001b[0mdf\u001b[0m \u001b[0;34m=\u001b[0m \u001b[0;32mlambda\u001b[0m \u001b[0mn\u001b[0m\u001b[0;34m,\u001b[0m \u001b[0mx\u001b[0m\u001b[0;34m:\u001b[0m \u001b[0mn\u001b[0m \u001b[0;34m*\u001b[0m \u001b[0mcephes\u001b[0m\u001b[0;34m.\u001b[0m\u001b[0meval_hermitenorm\u001b[0m\u001b[0;34m(\u001b[0m\u001b[0mn\u001b[0m\u001b[0;34m-\u001b[0m\u001b[0;36m1\u001b[0m\u001b[0;34m,\u001b[0m \u001b[0mx\u001b[0m\u001b[0;34m)\u001b[0m\u001b[0;34m\u001b[0m\u001b[0m\n\u001b[0;32m-> 1031\u001b[0;31m         \u001b[0;32mreturn\u001b[0m \u001b[0m_gen_roots_and_weights\u001b[0m\u001b[0;34m(\u001b[0m\u001b[0mm\u001b[0m\u001b[0;34m,\u001b[0m \u001b[0mmu0\u001b[0m\u001b[0;34m,\u001b[0m \u001b[0man_func\u001b[0m\u001b[0;34m,\u001b[0m \u001b[0mbn_func\u001b[0m\u001b[0;34m,\u001b[0m \u001b[0mf\u001b[0m\u001b[0;34m,\u001b[0m \u001b[0mdf\u001b[0m\u001b[0;34m,\u001b[0m \u001b[0;32mTrue\u001b[0m\u001b[0;34m,\u001b[0m \u001b[0mmu\u001b[0m\u001b[0;34m)\u001b[0m\u001b[0;34m\u001b[0m\u001b[0m\n\u001b[0m\u001b[1;32m   1032\u001b[0m     \u001b[0;32melse\u001b[0m\u001b[0;34m:\u001b[0m\u001b[0;34m\u001b[0m\u001b[0m\n\u001b[1;32m   1033\u001b[0m         \u001b[0mnodes\u001b[0m\u001b[0;34m,\u001b[0m \u001b[0mweights\u001b[0m \u001b[0;34m=\u001b[0m \u001b[0m_h_roots_asy\u001b[0m\u001b[0;34m(\u001b[0m\u001b[0mm\u001b[0m\u001b[0;34m)\u001b[0m\u001b[0;34m\u001b[0m\u001b[0m\n",
      "\u001b[0;32m//anaconda/lib/python3.5/site-packages/scipy/special/orthogonal.py\u001b[0m in \u001b[0;36m_gen_roots_and_weights\u001b[0;34m(n, mu0, an_func, bn_func, f, df, symmetrize, mu)\u001b[0m\n\u001b[1;32m    191\u001b[0m \u001b[0;34m\u001b[0m\u001b[0m\n\u001b[1;32m    192\u001b[0m     \u001b[0mfm\u001b[0m \u001b[0;34m=\u001b[0m \u001b[0mf\u001b[0m\u001b[0;34m(\u001b[0m\u001b[0mn\u001b[0m\u001b[0;34m-\u001b[0m\u001b[0;36m1\u001b[0m\u001b[0;34m,\u001b[0m \u001b[0mx\u001b[0m\u001b[0;34m)\u001b[0m\u001b[0;34m\u001b[0m\u001b[0m\n\u001b[0;32m--> 193\u001b[0;31m     \u001b[0mfm\u001b[0m \u001b[0;34m/=\u001b[0m \u001b[0mnp\u001b[0m\u001b[0;34m.\u001b[0m\u001b[0mabs\u001b[0m\u001b[0;34m(\u001b[0m\u001b[0mfm\u001b[0m\u001b[0;34m)\u001b[0m\u001b[0;34m.\u001b[0m\u001b[0mmax\u001b[0m\u001b[0;34m(\u001b[0m\u001b[0;34m)\u001b[0m\u001b[0;34m\u001b[0m\u001b[0m\n\u001b[0m\u001b[1;32m    194\u001b[0m     \u001b[0mdy\u001b[0m \u001b[0;34m/=\u001b[0m \u001b[0mnp\u001b[0m\u001b[0;34m.\u001b[0m\u001b[0mabs\u001b[0m\u001b[0;34m(\u001b[0m\u001b[0mdy\u001b[0m\u001b[0;34m)\u001b[0m\u001b[0;34m.\u001b[0m\u001b[0mmax\u001b[0m\u001b[0;34m(\u001b[0m\u001b[0;34m)\u001b[0m\u001b[0;34m\u001b[0m\u001b[0m\n\u001b[1;32m    195\u001b[0m     \u001b[0mw\u001b[0m \u001b[0;34m=\u001b[0m \u001b[0;36m1.0\u001b[0m \u001b[0;34m/\u001b[0m \u001b[0;34m(\u001b[0m\u001b[0mfm\u001b[0m \u001b[0;34m*\u001b[0m \u001b[0mdy\u001b[0m\u001b[0;34m)\u001b[0m\u001b[0;34m\u001b[0m\u001b[0m\n",
      "\u001b[0;31mKeyboardInterrupt\u001b[0m: "
     ]
    }
   ],
   "source": [
    "done = False\n",
    "mytol = 1e-3\n",
    "numiter = 0\n",
    "while (done == False):\n",
    "    numiter = numiter + 1\n",
    "    print(numiter)\n",
    "    mmat = np.zeros((dof, dof))\n",
    "    rvec = np.zeros(dof)\n",
    "    \n",
    "    # for each interval of observed value (x_0 to x_n)\n",
    "    for i in range(x.size-1):\n",
    "        samples = np.zeros(numsubintervals)\n",
    "        tout, xcur = brownianbridge(g,x,t,numsubintervals, i)\n",
    "        oldlik = girsanov(g=g, path=xcur, dt=h, theta=theta)\n",
    "        arburn = np.zeros(burninpaths)\n",
    "        for jj in range(burninpaths):\n",
    "            _, prop = brownianbridge(g,x,t,numsubintervals,i)\n",
    "            proplik = girsanov(g=g, path=prop, dt=h, theta=theta)\n",
    "            rho = np.exp(proplik - oldlik)\n",
    "            if (rho > np.random.uniform()):\n",
    "                xcur = prop\n",
    "                oldlik = proplik\n",
    "                arburn[jj] = 1\n",
    "                \n",
    "        print(\"Acceptance rate during burn-in:\", np.mean(arburn))\n",
    "\n",
    "        # for each path being sampled (r = 0 to r = R)\n",
    "        arsamp = np.zeros(numpaths)\n",
    "        for jj in range(numpaths):\n",
    "            _, prop = brownianbridge(g,x,t,numsubintervals,i)\n",
    "            proplik = girsanov(g=g, path=prop, dt=h, theta=theta)\n",
    "            rho = np.exp(proplik - oldlik)\n",
    "            if (rho > np.random.uniform()):\n",
    "                xcur = prop\n",
    "                oldlik = proplik\n",
    "                arsamp[jj] = 1\n",
    "            samples = xcur\n",
    "            pp = mypoly(samples[:(-1)])\n",
    "            mmat = mmat + h * np.matmul(pp.T, pp) / numpaths\n",
    "            rvec = rvec + np.matmul((np.diff(samples)).T, pp) / numpaths    \n",
    "        print(\"Acceptance rate post burn-in:\", np.mean(arsamp))\n",
    "    newtheta = np.linalg.solve(mmat, rvec)\n",
    "    check = np.sum(np.abs(newtheta - theta))\n",
    "    if (check < mytol):\n",
    "        print(\"finished!\")\n",
    "        print(check)\n",
    "        print(theta)\n",
    "        done = True\n",
    "    theta = newtheta\n",
    "    print(check)\n",
    "    print(theta)"
   ]
  },
  {
   "cell_type": "code",
   "execution_count": null,
   "metadata": {
    "collapsed": true
   },
   "outputs": [],
   "source": []
  }
 ],
 "metadata": {
  "anaconda-cloud": {},
  "kernelspec": {
   "display_name": "Python [Root]",
   "language": "python",
   "name": "Python [Root]"
  },
  "language_info": {
   "codemirror_mode": {
    "name": "ipython",
    "version": 3
   },
   "file_extension": ".py",
   "mimetype": "text/x-python",
   "name": "python",
   "nbconvert_exporter": "python",
   "pygments_lexer": "ipython3",
   "version": "3.5.2"
  }
 },
 "nbformat": 4,
 "nbformat_minor": 2
}
