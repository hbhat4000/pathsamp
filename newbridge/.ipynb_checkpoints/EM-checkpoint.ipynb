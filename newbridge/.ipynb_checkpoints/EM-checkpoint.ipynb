{
 "cells": [
  {
   "cell_type": "code",
   "execution_count": 1,
   "metadata": {
    "collapsed": false
   },
   "outputs": [],
   "source": [
    "import numpy as np\n",
    "%matplotlib inline\n",
    "from matplotlib import pyplot as plt\n",
    "import scipy.special as poly"
   ]
  },
  {
   "cell_type": "code",
   "execution_count": 2,
   "metadata": {
    "collapsed": false
   },
   "outputs": [],
   "source": [
    "numsteps = 100\n",
    "burnin = 50\n",
    "dof = 4\n",
    "n = 100 + 1\n",
    "totsteps = 25000\n",
    "savesteps = 100\n",
    "completedata = np.zeros(numsteps)\n",
    "mmat = np.zeros((dof, dof))\n",
    "rvec = np.zeros(dof)\n",
    "ft = 10.0\n",
    "\n",
    "x = np.zeros(savesteps + 1)\n",
    "t = np.arange(0, ft + 0.1, 0.1)\n",
    "h = (t[1]-t[0])/(n-1)\n",
    "h12 = np.sqrt(h)\n",
    "g = 1/2\n",
    "coef = np.array([1., 2., -1., -0.5])"
   ]
  },
  {
   "cell_type": "code",
   "execution_count": 3,
   "metadata": {
    "collapsed": true
   },
   "outputs": [],
   "source": [
    "def frozendrift(x, coef):\n",
    "    y = np.zeros(coef.size)\n",
    "    for i in range(dof):\n",
    "        H = poly.hermitenorm(i)\n",
    "        y[i] = H(x)\n",
    "    z = np.dot(y, coef)\n",
    "    return z"
   ]
  },
  {
   "cell_type": "code",
   "execution_count": 4,
   "metadata": {
    "collapsed": true
   },
   "outputs": [],
   "source": [
    "def drift(x, theta):\n",
    "    y = np.zeros(x.size)\n",
    "    for i in range(x.size):\n",
    "        for j in range(dof):\n",
    "            H = poly.hermitenorm(j)\n",
    "            y[i] = y[i] + theta[j] * H(x[i])\n",
    "    return y"
   ]
  },
  {
   "cell_type": "code",
   "execution_count": 5,
   "metadata": {
    "collapsed": false
   },
   "outputs": [],
   "source": [
    "traj = 0.0\n",
    "j = 1\n",
    "x[0] = traj\n",
    "t[0] = 0.0\n",
    "for i in range(0, totsteps):\n",
    "    traj = traj + frozendrift(traj, coef) * h + g * h12 * np.random.rand(1)\n",
    "    if (i % (totsteps/savesteps) == 0):\n",
    "        x[j] = traj\n",
    "#         t[j] = i*h\n",
    "        j = j + 1"
   ]
  },
  {
   "cell_type": "code",
   "execution_count": 6,
   "metadata": {
    "collapsed": false
   },
   "outputs": [
    {
     "name": "stdout",
     "output_type": "stream",
     "text": [
      "[ 0.          0.01421191  2.47186471  2.8720532   2.90824345  2.8392004\n",
      "  2.848797    2.89305485  2.87519051  2.92569719  2.85038569  2.9124194\n",
      "  2.84900183  2.84655082  2.89464001  2.86539378  2.84945143  2.8578959\n",
      "  2.84285088  2.8596511   2.84480838  2.84357988  2.85073614  2.86042998\n",
      "  2.84905966  2.92562136  2.85800736  2.90862073  2.83292357  2.85059787\n",
      "  2.82210165  2.78648945  2.85789083  2.8135527   2.82924722  2.85562744\n",
      "  2.86187175  2.92674402  2.85716662  2.86973647  2.84520162  2.91916844\n",
      "  2.88125944  2.87889921  2.85178953  2.90896882  2.88652391  2.84684646\n",
      "  2.8524739   2.85331276  2.83714319  2.79533352  2.89780912  2.8779901\n",
      "  2.84559886  2.84250356  2.89366958  2.8661069   2.84059762  2.87453882\n",
      "  2.90694848  2.86080005  2.83653807  2.88245455  2.82985017  2.84765695\n",
      "  2.84710752  2.93257093  2.87848355  2.82047858  2.88137743  2.85477675\n",
      "  2.90660841  2.90474576  2.81931258  2.86644278  2.83760735  2.87803411\n",
      "  2.83396719  2.84289297  2.84879679  2.84402562  2.84927498  2.89213578\n",
      "  2.88208696  2.85596197  2.84540008  2.8684239   2.86991032  2.8594755\n",
      "  2.90416208  2.87134814  2.82989768  2.84136827  2.86266825  2.86631235\n",
      "  2.86510437  2.80710347  2.86983156  2.84105389]\n",
      "[ 0.   0.1  0.2  0.3  0.4  0.5  0.6  0.7  0.8  0.9  1.   1.1  1.2  1.3  1.4\n",
      "  1.5  1.6  1.7  1.8  1.9  2.   2.1  2.2  2.3  2.4  2.5  2.6  2.7  2.8  2.9\n",
      "  3.   3.1  3.2  3.3  3.4  3.5  3.6  3.7  3.8  3.9  4.   4.1  4.2  4.3  4.4\n",
      "  4.5  4.6  4.7  4.8  4.9  5.   5.1  5.2  5.3  5.4  5.5  5.6  5.7  5.8  5.9\n",
      "  6.   6.1  6.2  6.3  6.4  6.5  6.6  6.7  6.8  6.9  7.   7.1  7.2  7.3  7.4\n",
      "  7.5  7.6  7.7  7.8  7.9  8.   8.1  8.2  8.3  8.4  8.5  8.6  8.7  8.8  8.9\n",
      "  9.   9.1  9.2  9.3  9.4  9.5  9.6  9.7  9.8  9.9]\n"
     ]
    },
    {
     "data": {
      "image/png": "[encoded data removed]",
      "text/plain": [
       "<matplotlib.figure.Figure at 0x7f82f6103f28>"
      ]
     },
     "metadata": {},
     "output_type": "display_data"
    }
   ],
   "source": [
    "x = x[:(-1)]\n",
    "t = t[:(-1)]\n",
    "plt.plot(t, x)\n",
    "print(x)\n",
    "print(t)"
   ]
  },
  {
   "cell_type": "code",
   "execution_count": 7,
   "metadata": {
    "collapsed": true
   },
   "outputs": [],
   "source": [
    "def brownianbridge(xin, tin, h):\n",
    "    n = (tin[1] - tin[0]) / h\n",
    "    tvec = tin[0] + (1+np.arange(n))*h\n",
    "    h12 = np.sqrt(h)\n",
    "    wincs = np.random.normal(scale=h12, size=n)\n",
    "    w = np.cumsum(wincs)\n",
    "    bridge = xin[0] + w - ((tvec - tin[0])/(tin[1]-tin[0]))*(w[n-1] + xin[0] - xin[1])\n",
    "    return tvec, bridge"
   ]
  },
  {
   "cell_type": "code",
   "execution_count": 8,
   "metadata": {
    "collapsed": false
   },
   "outputs": [
    {
     "name": "stderr",
     "output_type": "stream",
     "text": [
      "/home/shagun/anaconda3/lib/python3.6/site-packages/ipykernel/__main__.py:5: VisibleDeprecationWarning: using a non-integer number instead of an integer will result in an error in the future\n",
      "/home/shagun/anaconda3/lib/python3.6/site-packages/ipykernel/__main__.py:7: VisibleDeprecationWarning: using a non-integer number instead of an integer will result in an error in the future\n"
     ]
    },
    {
     "data": {
      "text/plain": [
       "array([ 0.   ,  0.001,  0.002,  0.003,  0.004,  0.005,  0.006,  0.007,\n",
       "        0.008,  0.009,  0.01 ,  0.011,  0.012,  0.013,  0.014,  0.015,\n",
       "        0.016,  0.017,  0.018,  0.019,  0.02 ,  0.021,  0.022,  0.023,\n",
       "        0.024,  0.025,  0.026,  0.027,  0.028,  0.029,  0.03 ,  0.031,\n",
       "        0.032,  0.033,  0.034,  0.035,  0.036,  0.037,  0.038,  0.039,\n",
       "        0.04 ,  0.041,  0.042,  0.043,  0.044,  0.045,  0.046,  0.047,\n",
       "        0.048,  0.049,  0.05 ,  0.051,  0.052,  0.053,  0.054,  0.055,\n",
       "        0.056,  0.057,  0.058,  0.059,  0.06 ,  0.061,  0.062,  0.063,\n",
       "        0.064,  0.065,  0.066,  0.067,  0.068,  0.069,  0.07 ,  0.071,\n",
       "        0.072,  0.073,  0.074,  0.075,  0.076,  0.077,  0.078,  0.079,\n",
       "        0.08 ,  0.081,  0.082,  0.083,  0.084,  0.085,  0.086,  0.087,\n",
       "        0.088,  0.089,  0.09 ,  0.091,  0.092,  0.093,  0.094,  0.095,\n",
       "        0.096,  0.097,  0.098,  0.099,  0.1  ])"
      ]
     },
     "execution_count": 8,
     "metadata": {},
     "output_type": "execute_result"
    },
    {
     "data": {
      "image/png": "[encoded data removed]",
      "text/plain": [
       "<matplotlib.figure.Figure at 0x7f82f6036198>"
      ]
     },
     "metadata": {},
     "output_type": "display_data"
    }
   ],
   "source": [
    "tout, bout = brownianbridge(x,t,h)\n",
    "tout = np.concatenate((t[[0]],tout))\n",
    "bout = np.concatenate((x[[0]],bout))\n",
    "plt.plot(tout,bout)\n",
    "tout"
   ]
  },
  {
   "cell_type": "code",
   "execution_count": 9,
   "metadata": {
    "collapsed": false
   },
   "outputs": [],
   "source": [
    "theta = np.array([1., 1., -1., -0.25])"
   ]
  },
  {
   "cell_type": "code",
   "execution_count": 10,
   "metadata": {
    "collapsed": true
   },
   "outputs": [],
   "source": [
    "# girsanov LOG likelihood\n",
    "def girsanov(path, dt, theta):\n",
    "    b = drift(path, theta)\n",
    "    int1 = np.dot(b[:-1], np.diff(path))\n",
    "    b2 = np.square(b)\n",
    "    int2 = np.sum(0.5*(b2[1:] + b2[:-1]))*dt\n",
    "    r = int1 - 0.5*int2\n",
    "    return r"
   ]
  },
  {
   "cell_type": "code",
   "execution_count": null,
   "metadata": {
    "collapsed": false
   },
   "outputs": [],
   "source": [
    "def mypoly(x):\n",
    "    y = np.zeros((x.size, dof))\n",
    "    for i in range(x.size):\n",
    "        for j in range(dof):\n",
    "            H = poly.hermitenorm(j)\n",
    "            y[i,j] = H(x[i])\n",
    "    return y"
   ]
  },
  {
   "cell_type": "code",
   "execution_count": null,
   "metadata": {
    "collapsed": false
   },
   "outputs": [
    {
     "name": "stdout",
     "output_type": "stream",
     "text": [
      "1\n"
     ]
    },
    {
     "name": "stderr",
     "output_type": "stream",
     "text": [
      "/home/shagun/anaconda3/lib/python3.6/site-packages/ipykernel/__main__.py:5: VisibleDeprecationWarning: using a non-integer number instead of an integer will result in an error in the future\n",
      "/home/shagun/anaconda3/lib/python3.6/site-packages/ipykernel/__main__.py:7: VisibleDeprecationWarning: using a non-integer number instead of an integer will result in an error in the future\n"
     ]
    },
    {
     "name": "stdout",
     "output_type": "stream",
     "text": [
      "394.769222949\n",
      "[  -2.62650765  283.40239775   -3.00791849  106.48239906]\n",
      "2\n",
      "325.564542378\n",
      "[  -3.39272863  523.3161662    -4.00894372  190.36592678]\n",
      "3\n",
      "119.98112785\n",
      "[ -10.78190674  601.02982963  -11.57077337  217.68238344]\n",
      "4\n",
      "123.088686436\n",
      "[ -10.60030776  691.9045239   -11.33718483  249.48118807]\n",
      "5\n",
      "31.0759288415\n",
      "[ -12.54659487  712.01795207  -13.29474072  256.53984574]\n",
      "6\n",
      "80.4779674947\n",
      "[  -9.20957113  766.74607305   -9.85504384  275.51297163]\n",
      "7\n",
      "34.8649169635\n",
      "[ -12.26472314  787.81105867  -13.04097072  283.07182408]\n",
      "8\n",
      "16.6051266132\n",
      "[  -8.26279071  793.99968423   -8.93808815  285.38351012]\n",
      "9\n",
      "20.2791018315\n",
      "[  -8.42351814  808.56812771   -9.10289626  290.76863293]\n",
      "10\n",
      "62.5561564793\n",
      "[  -8.35440849  854.84710772   -9.01359327  306.88739676]\n",
      "11\n",
      "69.8704066956\n",
      "[  -6.19226801  903.51848456   -6.81683804  323.72753089]\n",
      "12\n",
      "52.8952739155\n",
      "[  -6.72377997  941.99475402   -7.38861095  337.04325047]\n",
      "13\n",
      "58.521178539\n",
      "[  -6.82486537  985.15981809   -7.56227379  352.1246167 ]\n",
      "14\n",
      "66.3860218785\n",
      "[   -6.9777829   1034.21555396    -7.73245371   369.13180526]\n",
      "15\n",
      "139.225965001\n",
      "[ -2.22180705e-01   1.12765711e+03  -8.65746179e-01   4.01293907e+02]\n",
      "16\n",
      "20.3435181916\n",
      "[   -1.49515531  1140.73756198    -2.16995759   405.97978469]\n",
      "17\n",
      "24.3544882489\n",
      "[  1.09751826e-01   1.15651402e+03  -5.38315794e-01   4.11321264e+02]\n",
      "18\n",
      "16.6251850477\n",
      "[ -3.37967855e-01   1.14474685e+03  -9.73459136e-01   4.07346117e+02]\n",
      "19\n",
      "7.37358254159\n",
      "[ -8.46157889e-01   1.14951730e+03  -1.48183394e+00   4.08932686e+02]\n",
      "20\n",
      "37.2284850663\n",
      "[   -1.52637643  1122.80392378    -2.15631087   399.7722683 ]\n",
      "21\n",
      "46.3190412508\n",
      "[   -3.54257755  1154.25967558    -4.20445987   410.57120762]\n",
      "22\n",
      "40.8567278121\n",
      "[   -2.7940286   1183.45044186    -3.44166859   420.72582892]\n",
      "23\n",
      "32.9670791736\n",
      "[   -1.65576353  1206.29786898    -2.29644342   428.56199074]\n",
      "24\n",
      "3.27224616889\n",
      "[   -2.31882437  1204.88556862    -2.97596546   428.04462781]\n",
      "25\n",
      "3.26900545695\n",
      "[   -3.5320547   1204.21929344    -4.21755192   427.89671433]\n",
      "26\n",
      "41.6125190867\n",
      "[   -5.5438177   1232.20025969    -6.23412425   437.49993183]\n",
      "27\n",
      "16.0414131548\n",
      "[   -6.40911241  1242.81816604    -7.12182514   441.17044304]\n",
      "28\n",
      "19.922025689\n",
      "[   -4.98194001  1255.51796318    -5.66313562   445.50680966]\n",
      "29\n",
      "56.0791255557\n",
      "[   -3.27633971  1294.69035506    -3.91454024   458.95934765]\n",
      "30\n",
      "22.7258254547\n",
      "[   -5.26142774  1308.5916173     -5.91477865   463.79858442]\n",
      "31\n",
      "28.8049933262\n",
      "[   -3.94352936  1328.03065723    -4.57481781   470.5066786 ]\n",
      "32\n",
      "51.6965763165\n",
      "[   -5.32457981  1364.59820193    -5.9624594    482.86701817]\n",
      "33\n",
      "4.53048094972\n",
      "[   -5.65672055  1367.39538107    -6.29601218   483.93462646]\n",
      "34\n",
      "5.69168135361\n",
      "[   -7.04638426  1369.50899164    -7.70994884   484.70909687]\n",
      "35\n",
      "2.1084663886\n",
      "[   -7.20773212  1370.81221862    -7.88726886   485.1756684 ]\n",
      "36\n",
      "12.6831343987\n",
      "[   -7.35175049  1361.5544855     -8.03908258   482.04609921]\n",
      "37\n",
      "58.795788956\n",
      "[   -8.04815128  1404.35940683    -8.74837322   496.63127541]\n",
      "38\n",
      "22.771105973\n",
      "[   -8.45753258  1420.69237896    -9.16560489   502.24279628]\n",
      "39\n",
      "22.1767698676\n",
      "[   -8.62202788  1436.93351629    -9.34744175   507.83209666]\n",
      "40\n",
      "109.058201585\n",
      "[   -9.2973254   1517.22564365   -10.02809787   535.24221723]\n",
      "41\n",
      "9.04135034684\n",
      "[   -9.59262074  1510.8810447    -10.34503544   533.15769874]\n",
      "42\n",
      "1.11179916685\n",
      "[  -10.04165288  1510.72782799   -10.81375157   533.11686455]\n",
      "43\n",
      "18.7801149844\n",
      "[  -10.31103081  1497.12379251   -11.11492591   528.51133731]\n",
      "44\n",
      "9.46247366622\n",
      "[  -11.0906179   1503.03588739   -11.87570493   530.52134998]\n",
      "45\n",
      "43.0131250581\n",
      "[  -10.99849679  1535.00927014   -11.79886616   541.3921324 ]\n",
      "46\n",
      "6.35736826862\n",
      "[  -10.86303312  1530.42786399   -11.6768562    539.87364391]\n",
      "47\n",
      "11.3671091734\n",
      "[  -11.53646377  1537.84116309   -12.37181491   542.45906461]\n",
      "48\n",
      "2.35895377307\n",
      "[  -11.89460576  1539.0167956    -12.74069225   542.91536655]\n",
      "49\n",
      "5.09049396199\n",
      "[  -12.35650177  1535.94409939   -13.21483674   541.8336093 ]\n",
      "50\n",
      "19.6538615642\n",
      "[  -13.52531178  1522.9732546    -14.40935875   537.51392454]\n",
      "51\n",
      "6.98866130198\n",
      "[  -16.08443103  1521.58634431   -17.02218625   537.08412027]\n",
      "52\n",
      "28.9233775612\n",
      "[  -17.51296224  1541.01798665   -18.47885958   543.69065095]\n",
      "53\n",
      "11.348420548\n",
      "[  -17.97401623  1533.24812252   -18.93016748   541.02445642]\n",
      "54\n",
      "13.0187268944\n",
      "[  -18.47248994  1542.18306857   -19.43274181   544.10718922]\n",
      "55\n",
      "24.8987627304\n",
      "[  -19.34678646  1559.43101147   -20.33008289   549.98637145]\n",
      "56\n",
      "17.7781336195\n",
      "[  -20.65833378  1570.68697791   -21.66176907   553.86530513]\n",
      "57\n"
     ]
    }
   ],
   "source": [
    "done = 0\n",
    "mytol = np.power(10, -3)\n",
    "numiter = 0\n",
    "while (done == 0):\n",
    "    numiter = numiter + 1\n",
    "    print(numiter)\n",
    "    tout, xcur = brownianbridge(x,t,h)\n",
    "    oldlik = girsanov(path=xcur, dt=h, theta=theta)\n",
    "\n",
    "    for jj in range(numsteps + burnin):\n",
    "        _, prop = brownianbridge(x,t,h)\n",
    "        proplik = girsanov(path=prop, dt=h, theta=theta)\n",
    "        rho = np.exp(proplik - oldlik)\n",
    "        if (rho > np.random.uniform()):\n",
    "            xcur = prop\n",
    "            oldlik = proplik\n",
    "        # ignore samples during burnin phase\n",
    "        if (jj > burnin):\n",
    "            pp = mypoly(xcur[:(-1)])\n",
    "            mmat = mmat + h * np.matmul(pp.T, pp) / numsteps\n",
    "            rvec = rvec + np.matmul((np.diff(xcur)).T, pp) / numsteps\n",
    "\n",
    "    newtheta = np.linalg.solve(mmat, rvec)\n",
    "    check = np.sum(np.abs(newtheta - theta))\n",
    "    if (check < mytol):\n",
    "        print(\"finished!\")\n",
    "        print(check)\n",
    "        print(theta)\n",
    "        done = 1\n",
    "    theta = newtheta\n",
    "    print(check)\n",
    "    print(theta)"
   ]
  }
 ],
 "metadata": {
  "kernelspec": {
   "display_name": "Python 3",
   "language": "python",
   "name": "python3"
  },
  "language_info": {
   "codemirror_mode": {
    "name": "ipython",
    "version": 3
   },
   "file_extension": ".py",
   "mimetype": "text/x-python",
   "name": "python",
   "nbconvert_exporter": "python",
   "pygments_lexer": "ipython3",
   "version": "3.6.0"
  }
 },
 "nbformat": 4,
 "nbformat_minor": 2
}
