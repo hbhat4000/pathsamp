{
 "cells": [
  {
   "cell_type": "code",
   "execution_count": 1,
   "metadata": {
    "collapsed": true
   },
   "outputs": [],
   "source": [
    "# DIY diffusion bridge using MH sampling and Girsanov formula\n",
    "# 2d version\n",
    "\n",
    "import numpy as np\n",
    "%matplotlib inline\n",
    "from matplotlib import pyplot as plt"
   ]
  },
  {
   "cell_type": "code",
   "execution_count": 2,
   "metadata": {
    "collapsed": true
   },
   "outputs": [],
   "source": [
    "from scipy.integrate import ode"
   ]
  },
  {
   "cell_type": "code",
   "execution_count": 3,
   "metadata": {
    "collapsed": true
   },
   "outputs": [],
   "source": [
    "def f(t, y):\n",
    "    return [y[1], -np.sin(y[0])]"
   ]
  },
  {
   "cell_type": "code",
   "execution_count": 4,
   "metadata": {
    "collapsed": false
   },
   "outputs": [],
   "source": [
    "r = ode(f).set_integrator('dopri5')"
   ]
  },
  {
   "cell_type": "code",
   "execution_count": 5,
   "metadata": {
    "collapsed": true
   },
   "outputs": [],
   "source": [
    "y0 = np.array([1.,0.])\n",
    "t0 = 0."
   ]
  },
  {
   "cell_type": "code",
   "execution_count": 6,
   "metadata": {
    "collapsed": false
   },
   "outputs": [
    {
     "data": {
      "text/plain": [
       "<scipy.integrate._ode.ode at 0x7f0f72385ba8>"
      ]
     },
     "execution_count": 6,
     "metadata": {},
     "output_type": "execute_result"
    }
   ],
   "source": [
    "r.set_initial_value(y0, t0)"
   ]
  },
  {
   "cell_type": "code",
   "execution_count": 7,
   "metadata": {
    "collapsed": false
   },
   "outputs": [],
   "source": [
    "t1 = 6.7/16\n",
    "numsteps = 1000\n",
    "dt = (t1-t0)/numsteps\n",
    "traj = np.zeros((numsteps, 2))\n",
    "j = 0\n",
    "while r.successful() and j < numsteps:\n",
    "    r.integrate(r.t+dt)\n",
    "    traj[j, :] = r.y\n",
    "    j += 1"
   ]
  },
  {
   "cell_type": "code",
   "execution_count": 8,
   "metadata": {
    "collapsed": false
   },
   "outputs": [
    {
     "data": {
      "text/plain": [
       "[<matplotlib.lines.Line2D at 0x7f0f723205f8>]"
      ]
     },
     "execution_count": 8,
     "metadata": {},
     "output_type": "execute_result"
    },
    {
     "data": {
      "image/png": "[encoded data removed]",
      "text/plain": [
       "<matplotlib.figure.Figure at 0x7f0f72385e80>"
      ]
     },
     "metadata": {},
     "output_type": "display_data"
    }
   ],
   "source": [
    "plt.plot(traj[:,0],traj[:,1])"
   ]
  },
  {
   "cell_type": "code",
   "execution_count": 9,
   "metadata": {
    "collapsed": false
   },
   "outputs": [],
   "source": [
    "# x = np.array([[-1.0,0.0],[0.0,1.0]])\n",
    "x = traj[[0,999],:]\n",
    "t = np.array([0., 6.7/16])"
   ]
  },
  {
   "cell_type": "code",
   "execution_count": 10,
   "metadata": {
    "collapsed": false
   },
   "outputs": [],
   "source": [
    "gamma = np.array([.075,.1])"
   ]
  },
  {
   "cell_type": "code",
   "execution_count": 11,
   "metadata": {
    "collapsed": true
   },
   "outputs": [],
   "source": [
    "def brownianbridgeM(gvec, xin, tin, n):\n",
    "    h = (tin[1]-tin[0])/n\n",
    "    tvec = tin[0] + (1+np.arange(n))*h\n",
    "    h12 = np.sqrt(h)\n",
    "    wincs = np.random.multivariate_normal(mean=np.zeros(len(gvec)),\n",
    "                                          cov=h*np.diag(np.square(gvec)),\n",
    "                                          size=n)\n",
    "    w = np.cumsum(wincs,axis=0).T\n",
    "    bridge = xin[0,:,None] + w\n",
    "    bridge -= ((tvec - tin[0])/(tin[1]-tin[0]))*(w[:,n-1,None] + xin[0,:,None] - xin[1,:,None])\n",
    "    return tvec, bridge"
   ]
  },
  {
   "cell_type": "code",
   "execution_count": 12,
   "metadata": {
    "collapsed": false
   },
   "outputs": [],
   "source": [
    "# define drift function\n",
    "def drift(x):\n",
    "    f = np.zeros(x.shape)\n",
    "    f[0,:] = x[1,:]\n",
    "    f[1,:] = -np.sin(x[0,:])\n",
    "    return f"
   ]
  },
  {
   "cell_type": "code",
   "execution_count": 13,
   "metadata": {
    "collapsed": false
   },
   "outputs": [],
   "source": [
    "xaux = np.array([[0.0,0.0],[0.0,0.0]])"
   ]
  },
  {
   "cell_type": "code",
   "execution_count": 14,
   "metadata": {
    "collapsed": true
   },
   "outputs": [],
   "source": [
    "# girsanov LOG likelihood\n",
    "def girsanovM(gvec, path, dt):\n",
    "    print(\"path shape\", path.shape)\n",
    "    b = drift(path)\n",
    "    print(\"b shape\", b.shape)\n",
    "    u = np.dot(np.diag(np.power(gvec,-2)), b)\n",
    "    print(\"u shape\", u.shape)\n",
    "    int1 = np.tensordot(u[:,:-1], np.diff(path,axis=1))\n",
    "    # int2 = np.tensordot(u, b)\n",
    "    u2 = np.einsum('ij,ji->i',u.T,b)\n",
    "    int2 = np.sum(0.5*(u2[1:] + u2[:-1]))*dt\n",
    "    r = int1 - 0.5*int2\n",
    "    return r"
   ]
  },
  {
   "cell_type": "code",
   "execution_count": 15,
   "metadata": {
    "collapsed": false
   },
   "outputs": [
    {
     "name": "stdout",
     "output_type": "stream",
     "text": [
      "(2, 1000)\n",
      "(2, 1000)\n",
      "(2, 1000)\n",
      "(2, 1000)\n",
      "(2, 1000)\n",
      "(2, 1000)\n",
      "(2, 1000)\n",
      "(2, 1000)\n",
      "(2, 1000)\n",
      "(2, 1000)\n",
      "(2, 1000)\n",
      "(2, 1000)\n",
      "(2, 1000)\n",
      "(2, 1000)\n",
      "(2, 1000)\n",
      "(2, 1000)\n",
      "(2, 1000)\n",
      "(2, 1000)\n",
      "(2, 1000)\n",
      "(2, 1000)\n",
      "(2, 1000)\n",
      "(2, 1000)\n",
      "(2, 1000)\n",
      "(2, 1000)\n",
      "(2, 1000)\n",
      "(2, 1000)\n",
      "(2, 1000)\n",
      "(2, 1000)\n",
      "(2, 1000)\n",
      "(2, 1000)\n",
      "(2, 1000)\n",
      "(2, 1000)\n",
      "(2, 1000)\n",
      "(2, 1000)\n",
      "(2, 1000)\n",
      "(2, 1000)\n",
      "(2, 1000)\n",
      "(2, 1000)\n",
      "(2, 1000)\n",
      "(2, 1000)\n",
      "(2, 1000)\n",
      "(2, 1000)\n",
      "(2, 1000)\n",
      "(2, 1000)\n",
      "(2, 1000)\n",
      "(2, 1000)\n",
      "(2, 1000)\n",
      "(2, 1000)\n",
      "(2, 1000)\n",
      "(2, 1000)\n",
      "(2, 1000)\n",
      "(2, 1000)\n",
      "(2, 1000)\n",
      "(2, 1000)\n",
      "(2, 1000)\n",
      "(2, 1000)\n",
      "(2, 1000)\n",
      "(2, 1000)\n",
      "(2, 1000)\n",
      "(2, 1000)\n",
      "(2, 1000)\n",
      "(2, 1000)\n",
      "(2, 1000)\n",
      "(2, 1000)\n",
      "(2, 1000)\n",
      "(2, 1000)\n",
      "(2, 1000)\n",
      "(2, 1000)\n",
      "(2, 1000)\n",
      "(2, 1000)\n",
      "(2, 1000)\n",
      "(2, 1000)\n",
      "(2, 1000)\n",
      "(2, 1000)\n",
      "(2, 1000)\n",
      "(2, 1000)\n",
      "(2, 1000)\n",
      "(2, 1000)\n",
      "(2, 1000)\n",
      "(2, 1000)\n",
      "(2, 1000)\n",
      "(2, 1000)\n",
      "(2, 1000)\n",
      "(2, 1000)\n",
      "(2, 1000)\n",
      "(2, 1000)\n",
      "(2, 1000)\n",
      "(2, 1000)\n",
      "(2, 1000)\n",
      "(2, 1000)\n",
      "(2, 1000)\n",
      "(2, 1000)\n",
      "(2, 1000)\n",
      "(2, 1000)\n",
      "(2, 1000)\n",
      "(2, 1000)\n",
      "(2, 1000)\n",
      "(2, 1000)\n",
      "(2, 1000)\n",
      "(2, 1000)\n",
      "(2, 1000)\n",
      "(2, 1000)\n",
      "(2, 1000)\n",
      "(2, 1000)\n",
      "(2, 1000)\n",
      "(2, 1000)\n",
      "(2, 1000)\n",
      "(2, 1000)\n",
      "(2, 1000)\n",
      "(2, 1000)\n",
      "(2, 1000)\n",
      "(2, 1000)\n",
      "(2, 1000)\n",
      "(2, 1000)\n",
      "(2, 1000)\n",
      "(2, 1000)\n",
      "(2, 1000)\n",
      "(2, 1000)\n",
      "(2, 1000)\n",
      "(2, 1000)\n",
      "(2, 1000)\n",
      "(2, 1000)\n",
      "(2, 1000)\n",
      "(2, 1000)\n",
      "(2, 1000)\n",
      "(2, 1000)\n",
      "(2, 1000)\n",
      "(2, 1000)\n",
      "(2, 1000)\n",
      "(2, 1000)\n",
      "(2, 1000)\n",
      "(2, 1000)\n",
      "(2, 1000)\n",
      "(2, 1000)\n",
      "(2, 1000)\n",
      "(2, 1000)\n",
      "(2, 1000)\n",
      "(2, 1000)\n",
      "(2, 1000)\n",
      "(2, 1000)\n",
      "(2, 1000)\n",
      "(2, 1000)\n",
      "(2, 1000)\n",
      "(2, 1000)\n",
      "(2, 1000)\n",
      "(2, 1000)\n",
      "(2, 1000)\n",
      "(2, 1000)\n",
      "(2, 1000)\n",
      "(2, 1000)\n",
      "(2, 1000)\n",
      "(2, 1000)\n",
      "(2, 1000)\n",
      "(2, 1000)\n",
      "(2, 1000)\n",
      "(2, 1000)\n",
      "(2, 1000)\n",
      "(2, 1000)\n",
      "(2, 1000)\n",
      "(2, 1000)\n",
      "(2, 1000)\n",
      "(2, 1000)\n",
      "(2, 1000)\n",
      "(2, 1000)\n",
      "(2, 1000)\n",
      "(2, 1000)\n",
      "(2, 1000)\n",
      "(2, 1000)\n",
      "(2, 1000)\n",
      "(2, 1000)\n",
      "(2, 1000)\n",
      "(2, 1000)\n",
      "(2, 1000)\n",
      "(2, 1000)\n",
      "(2, 1000)\n",
      "(2, 1000)\n",
      "(2, 1000)\n",
      "(2, 1000)\n",
      "(2, 1000)\n",
      "(2, 1000)\n",
      "(2, 1000)\n",
      "(2, 1000)\n",
      "(2, 1000)\n",
      "(2, 1000)\n",
      "(2, 1000)\n",
      "(2, 1000)\n",
      "(2, 1000)\n",
      "(2, 1000)\n",
      "(2, 1000)\n",
      "(2, 1000)\n",
      "(2, 1000)\n",
      "(2, 1000)\n",
      "(2, 1000)\n",
      "(2, 1000)\n",
      "(2, 1000)\n",
      "(2, 1000)\n",
      "(2, 1000)\n",
      "(2, 1000)\n",
      "(2, 1000)\n",
      "(2, 1000)\n",
      "(2, 1000)\n",
      "(2, 1000)\n",
      "(2, 1000)\n",
      "(2, 1000)\n",
      "(2, 1000)\n",
      "(2, 1000)\n",
      "(2, 1000)\n",
      "(2, 1000)\n",
      "(2, 1000)\n",
      "(2, 1000)\n",
      "(2, 1000)\n",
      "(2, 1000)\n",
      "(2, 1000)\n",
      "(2, 1000)\n",
      "(2, 1000)\n",
      "(2, 1000)\n",
      "(2, 1000)\n",
      "(2, 1000)\n",
      "(2, 1000)\n",
      "(2, 1000)\n",
      "(2, 1000)\n",
      "(2, 1000)\n",
      "(2, 1000)\n",
      "(2, 1000)\n",
      "(2, 1000)\n",
      "(2, 1000)\n",
      "(2, 1000)\n",
      "(2, 1000)\n",
      "(2, 1000)\n",
      "(2, 1000)\n",
      "(2, 1000)\n",
      "(2, 1000)\n",
      "(2, 1000)\n",
      "(2, 1000)\n",
      "(2, 1000)\n",
      "(2, 1000)\n",
      "(2, 1000)\n",
      "(2, 1000)\n",
      "(2, 1000)\n",
      "(2, 1000)\n",
      "(2, 1000)\n",
      "(2, 1000)\n",
      "(2, 1000)\n",
      "(2, 1000)\n",
      "(2, 1000)\n",
      "(2, 1000)\n",
      "(2, 1000)\n",
      "(2, 1000)\n",
      "(2, 1000)\n",
      "(2, 1000)\n",
      "(2, 1000)\n",
      "(2, 1000)\n",
      "(2, 1000)\n",
      "(2, 1000)\n",
      "(2, 1000)\n",
      "(2, 1000)\n",
      "(2, 1000)\n",
      "(2, 1000)\n",
      "(2, 1000)\n",
      "(2, 1000)\n",
      "(2, 1000)\n",
      "(2, 1000)\n",
      "(2, 1000)\n",
      "(2, 1000)\n",
      "(2, 1000)\n",
      "(2, 1000)\n",
      "(2, 1000)\n",
      "(2, 1000)\n",
      "(2, 1000)\n",
      "(2, 1000)\n",
      "(2, 1000)\n",
      "(2, 1000)\n",
      "(2, 1000)\n",
      "(2, 1000)\n",
      "(2, 1000)\n",
      "(2, 1000)\n",
      "(2, 1000)\n",
      "(2, 1000)\n",
      "(2, 1000)\n",
      "(2, 1000)\n",
      "(2, 1000)\n",
      "(2, 1000)\n",
      "(2, 1000)\n",
      "(2, 1000)\n",
      "(2, 1000)\n",
      "(2, 1000)\n",
      "(2, 1000)\n",
      "(2, 1000)\n",
      "(2, 1000)\n",
      "(2, 1000)\n",
      "(2, 1000)\n",
      "(2, 1000)\n",
      "(2, 1000)\n",
      "(2, 1000)\n",
      "(2, 1000)\n",
      "(2, 1000)\n",
      "(2, 1000)\n",
      "(2, 1000)\n",
      "(2, 1000)\n",
      "(2, 1000)\n",
      "(2, 1000)\n",
      "(2, 1000)\n",
      "(2, 1000)\n",
      "Acceptance rate during burn-in: 0.54\n",
      "(2, 1000)\n",
      "(2, 1000)\n",
      "(2, 1000)\n",
      "(2, 1000)\n",
      "(2, 1000)\n",
      "(2, 1000)\n",
      "(2, 1000)\n",
      "(2, 1000)\n",
      "(2, 1000)\n",
      "(2, 1000)\n",
      "(2, 1000)\n",
      "(2, 1000)\n",
      "(2, 1000)\n",
      "(2, 1000)\n",
      "(2, 1000)\n",
      "(2, 1000)\n",
      "(2, 1000)\n",
      "(2, 1000)\n",
      "(2, 1000)\n",
      "(2, 1000)\n",
      "(2, 1000)\n",
      "(2, 1000)\n",
      "(2, 1000)\n",
      "(2, 1000)\n",
      "(2, 1000)\n",
      "(2, 1000)\n",
      "(2, 1000)\n",
      "(2, 1000)\n",
      "(2, 1000)\n",
      "(2, 1000)\n",
      "Acceptance rate post burn-in: 0.3\n"
     ]
    },
    {
     "data": {
      "image/png": "[encoded data removed]",
      "text/plain": [
       "<matplotlib.figure.Figure at 0x7f0f723bf908>"
      ]
     },
     "metadata": {},
     "output_type": "display_data"
    }
   ],
   "source": [
    "# MH sampler\n",
    "numsteps = 10\n",
    "burnin = 100\n",
    "n = 1000\n",
    "h = (t[1]-t[0])/n\n",
    "\n",
    "fig, ax = plt.subplots( nrows=1, ncols=1 )\n",
    "\n",
    "# tout, xcur = brownianbridgeM(gamma,xaux,t,n)\n",
    "# xcur += traj.T\n",
    "tout, xcur = brownianbridgeM(gamma,x,t,n)\n",
    "oldlik = girsanovM(gvec=gamma, path=xcur, dt=h)\n",
    "arburn = np.zeros(burnin)\n",
    "for jj in range(burnin):\n",
    "    # _, prop = brownianbridgeM(gamma,xaux,t,n)\n",
    "    # prop += traj.T\n",
    "    _, prop = brownianbridgeM(gamma,x,t,n)\n",
    "    proplik = girsanovM(gvec=gamma, path=prop, dt=h)\n",
    "    rho = proplik - oldlik\n",
    "    if (rho >= np.log(np.random.uniform())):\n",
    "        xcur = prop\n",
    "        oldlik = proplik\n",
    "        arburn[jj] = 1\n",
    "        \n",
    "print(\"Acceptance rate during burn-in:\", np.mean(arburn))\n",
    "\n",
    "arsamp = np.zeros(numsteps)\n",
    "for jj in range(numsteps):\n",
    "    # _, prop = brownianbridgeM(gamma,xaux,t,n)\n",
    "    # prop += traj.T\n",
    "    _, prop = brownianbridgeM(gamma,x,t,n)\n",
    "    proplik = girsanovM(gvec=gamma, path=prop, dt=h)\n",
    "    rho = proplik - oldlik\n",
    "    if (rho >= np.log(np.random.uniform())):\n",
    "        xcur = prop\n",
    "        oldlik = proplik\n",
    "        arsamp[jj] = 1\n",
    "        ax.plot(xcur[0,:],xcur[1,:])\n",
    "    # samples[jj,:] = xcur\n",
    "\n",
    "print(\"Acceptance rate post burn-in:\", np.mean(arsamp))"
   ]
  },
  {
   "cell_type": "code",
   "execution_count": 16,
   "metadata": {
    "collapsed": false
   },
   "outputs": [],
   "source": [
    "fig.savefig('bridge2d')"
   ]
  },
  {
   "cell_type": "code",
   "execution_count": 17,
   "metadata": {
    "collapsed": true
   },
   "outputs": [],
   "source": [
    "plt.close(fig)"
   ]
  },
  {
   "cell_type": "code",
   "execution_count": 18,
   "metadata": {
    "collapsed": false
   },
   "outputs": [
    {
     "data": {
      "text/plain": [
       "array([[  9.99999926e-01,  -3.52365969e-04],\n",
       "       [  9.26817157e-01,  -3.46641239e-01]])"
      ]
     },
     "execution_count": 18,
     "metadata": {},
     "output_type": "execute_result"
    }
   ],
   "source": [
    "x"
   ]
  },
  {
   "cell_type": "code",
   "execution_count": 19,
   "metadata": {
    "collapsed": false
   },
   "outputs": [
    {
     "data": {
      "text/plain": [
       "0.41875000000000001"
      ]
     },
     "execution_count": 19,
     "metadata": {},
     "output_type": "execute_result"
    }
   ],
   "source": [
    "t[1]"
   ]
  },
  {
   "cell_type": "code",
   "execution_count": null,
   "metadata": {
    "collapsed": true
   },
   "outputs": [],
   "source": []
  }
 ],
 "metadata": {
  "anaconda-cloud": {},
  "kernelspec": {
   "display_name": "Python 3",
   "language": "python",
   "name": "python3"
  },
  "language_info": {
   "codemirror_mode": {
    "name": "ipython",
    "version": 3
   },
   "file_extension": ".py",
   "mimetype": "text/x-python",
   "name": "python",
   "nbconvert_exporter": "python",
   "pygments_lexer": "ipython3",
   "version": "3.6.0"
  }
 },
 "nbformat": 4,
 "nbformat_minor": 1
}
