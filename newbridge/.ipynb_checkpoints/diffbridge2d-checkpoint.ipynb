{
 "cells": [
  {
   "cell_type": "code",
   "execution_count": 1,
   "metadata": {},
   "outputs": [],
   "source": [
    "# DIY diffusion bridge using MH sampling and Girsanov formula\n",
    "# 2d version\n",
    "\n",
    "import numpy as np\n",
    "%matplotlib inline\n",
    "from matplotlib import pyplot as plt\n",
    "from scipy.integrate import ode\n",
    "from mpl_toolkits.mplot3d import Axes3D\n"
   ]
  },
  {
   "cell_type": "code",
   "execution_count": 2,
   "metadata": {
    "collapsed": true
   },
   "outputs": [],
   "source": [
    "def f(t, y):\n",
    "    return [y[1], -np.sin(y[0])]"
   ]
  },
  {
   "cell_type": "code",
   "execution_count": 3,
   "metadata": {
    "collapsed": true
   },
   "outputs": [],
   "source": [
    "r = ode(f).set_integrator('dopri5')"
   ]
  },
  {
   "cell_type": "code",
   "execution_count": 4,
   "metadata": {
    "collapsed": true
   },
   "outputs": [],
   "source": [
    "y = np.array([[0., 0.], [0.5, 0.5], [1., 1.], [1.5, .5], [2., 2.]])\n",
    "t = [0., 1., 2., 3., 4.]"
   ]
  },
  {
   "cell_type": "code",
   "execution_count": 5,
   "metadata": {},
   "outputs": [
    {
     "data": {
      "text/plain": [
       "<scipy.integrate._ode.ode at 0x7f407ced3390>"
      ]
     },
     "execution_count": 5,
     "metadata": {},
     "output_type": "execute_result"
    }
   ],
   "source": [
    "r.set_initial_value(y, t)"
   ]
  },
  {
   "cell_type": "code",
   "execution_count": 6,
   "metadata": {},
   "outputs": [
    {
     "name": "stderr",
     "output_type": "stream",
     "text": [
      "/home/shagun/anaconda3/envs/tensorflow/lib/python3.5/site-packages/scipy/integrate/_ode.py:1095: UserWarning: dopri5: input is not consistent\n",
      "  self.messages.get(istate, unexpected_istate_msg)))\n"
     ]
    },
    {
     "ename": "ValueError",
     "evalue": "could not broadcast input array from shape (5,2) into shape (5)",
     "output_type": "error",
     "traceback": [
      "\u001b[0;31m---------------------------------------------------------------------------\u001b[0m",
      "\u001b[0;31mValueError\u001b[0m                                Traceback (most recent call last)",
      "\u001b[0;32m<ipython-input-6-5cd3a838d651>\u001b[0m in \u001b[0;36m<module>\u001b[0;34m()\u001b[0m\n\u001b[1;32m      6\u001b[0m \u001b[0;32mwhile\u001b[0m \u001b[0mr\u001b[0m\u001b[0;34m.\u001b[0m\u001b[0msuccessful\u001b[0m\u001b[0;34m(\u001b[0m\u001b[0;34m)\u001b[0m \u001b[0;32mand\u001b[0m \u001b[0mj\u001b[0m \u001b[0;34m<\u001b[0m \u001b[0mnumsteps\u001b[0m\u001b[0;34m:\u001b[0m\u001b[0;34m\u001b[0m\u001b[0m\n\u001b[1;32m      7\u001b[0m     \u001b[0mr\u001b[0m\u001b[0;34m.\u001b[0m\u001b[0mintegrate\u001b[0m\u001b[0;34m(\u001b[0m\u001b[0mr\u001b[0m\u001b[0;34m.\u001b[0m\u001b[0mt\u001b[0m\u001b[0;34m[\u001b[0m\u001b[0;36m0\u001b[0m\u001b[0;34m]\u001b[0m\u001b[0;34m+\u001b[0m\u001b[0mdt\u001b[0m\u001b[0;34m)\u001b[0m\u001b[0;34m\u001b[0m\u001b[0m\n\u001b[0;32m----> 8\u001b[0;31m     \u001b[0mtraj\u001b[0m\u001b[0;34m[\u001b[0m\u001b[0mj\u001b[0m\u001b[0;34m,\u001b[0m \u001b[0;34m:\u001b[0m\u001b[0;34m]\u001b[0m \u001b[0;34m=\u001b[0m \u001b[0mr\u001b[0m\u001b[0;34m.\u001b[0m\u001b[0my\u001b[0m\u001b[0;34m\u001b[0m\u001b[0m\n\u001b[0m\u001b[1;32m      9\u001b[0m     \u001b[0mj\u001b[0m \u001b[0;34m+=\u001b[0m \u001b[0;36m1\u001b[0m\u001b[0;34m\u001b[0m\u001b[0m\n",
      "\u001b[0;31mValueError\u001b[0m: could not broadcast input array from shape (5,2) into shape (5)"
     ]
    }
   ],
   "source": [
    "t1 = 6.7/16\n",
    "numsteps = 1000\n",
    "dt = (t[1]-t[0])/numsteps\n",
    "traj = np.zeros((numsteps, 5))\n",
    "j = 0\n",
    "while r.successful() and j < numsteps:\n",
    "    r.integrate(r.t[0]+dt)\n",
    "    traj[j, :] = r.y\n",
    "    j += 1"
   ]
  },
  {
   "cell_type": "code",
   "execution_count": 7,
   "metadata": {},
   "outputs": [
    {
     "data": {
      "text/plain": [
       "[<matplotlib.lines.Line2D at 0x7f404bf8ecf8>]"
      ]
     },
     "execution_count": 7,
     "metadata": {},
     "output_type": "execute_result"
    },
    {
     "data": {
      "image/png": "[encoded data removed]",
      "text/plain": [
       "<matplotlib.figure.Figure at 0x7f407cef9d68>"
      ]
     },
     "metadata": {},
     "output_type": "display_data"
    }
   ],
   "source": [
    "plt.plot(traj[:,0],traj[:,1])"
   ]
  },
  {
   "cell_type": "code",
   "execution_count": 8,
   "metadata": {
    "collapsed": true
   },
   "outputs": [],
   "source": [
    "# x = np.array([[-1.0,0.0],[0.0,1.0]])\n",
    "# x = traj[[0, 999, 1999, 2999, 3999],:]\n",
    "# t = np.array([0., 6.7/16])\n",
    "x = np.array([[0., 0.], [0.5, -0.3], [1., 1.5], [1.5, .4], [2., .6]])\n",
    "t = [0., 1., 2., 3., 4.]"
   ]
  },
  {
   "cell_type": "code",
   "execution_count": 9,
   "metadata": {
    "collapsed": true
   },
   "outputs": [],
   "source": [
    "gamma = np.array([.2,.25])"
   ]
  },
  {
   "cell_type": "code",
   "execution_count": 10,
   "metadata": {
    "collapsed": true
   },
   "outputs": [],
   "source": [
    "def brownianbridgeM(gvec, xin, tin, n):\n",
    "    h = (tin[1]-tin[0])/n\n",
    "    tvec = tin[0] + (1+np.arange(n))*h\n",
    "    h12 = np.sqrt(h)\n",
    "    wincs = np.random.multivariate_normal(mean=np.zeros(len(gvec)),\n",
    "                                          cov=h*np.diag(np.square(gvec)),\n",
    "                                          size=n)\n",
    "    w = np.cumsum(wincs,axis=0).T\n",
    "    bridge = xin[0,:,None] + w\n",
    "    bridge -= ((tvec - tin[0])/(tin[1]-tin[0]))*(w[:,n-1,None] + xin[0,:,None] - xin[1,:,None])\n",
    "    return tvec, bridge"
   ]
  },
  {
   "cell_type": "code",
   "execution_count": 11,
   "metadata": {
    "collapsed": true
   },
   "outputs": [],
   "source": [
    "# define drift function\n",
    "def drift(x):\n",
    "    f = np.zeros(x.shape)\n",
    "    f[0,:] = x[1,:]\n",
    "    f[1,:] = -np.sin(x[0,:])\n",
    "    return f"
   ]
  },
  {
   "cell_type": "code",
   "execution_count": 12,
   "metadata": {
    "collapsed": true
   },
   "outputs": [],
   "source": [
    "xaux = np.array([[0.0,0.0],[0.0,0.0]])"
   ]
  },
  {
   "cell_type": "code",
   "execution_count": 13,
   "metadata": {
    "collapsed": true
   },
   "outputs": [],
   "source": [
    "# girsanov LOG likelihood\n",
    "def girsanovM(gvec, path, dt):\n",
    "    b = drift(path)\n",
    "    u = np.dot(np.diag(np.power(gvec,-2)), b)\n",
    "    int1 = np.tensordot(u[:,:-1], np.diff(path,axis=1))\n",
    "    # int2 = np.tensordot(u, b)\n",
    "    u2 = np.einsum('ij,ji->i',u.T,b)\n",
    "    int2 = np.sum(0.5*(u2[1:] + u2[:-1]))*dt\n",
    "    r = int1 - 0.5*int2\n",
    "    return r"
   ]
  },
  {
   "cell_type": "code",
   "execution_count": 17,
   "metadata": {},
   "outputs": [
    {
     "name": "stdout",
     "output_type": "stream",
     "text": [
      "Acceptance rate during burn-in: 0.17\n",
      "Acceptance rate post burn-in: 0.192\n",
      "Acceptance rate during burn-in: 0.11\n",
      "Acceptance rate post burn-in: 0.011\n",
      "Acceptance rate during burn-in: 0.34\n",
      "Acceptance rate post burn-in: 0.138\n",
      "Acceptance rate during burn-in: 0.7\n",
      "Acceptance rate post burn-in: 0.706\n"
     ]
    },
    {
     "data": {
      "image/png": "[encoded data removed]",
      "text/plain": [
       "<matplotlib.figure.Figure at 0x7f40480a6dd8>"
      ]
     },
     "metadata": {},
     "output_type": "display_data"
    }
   ],
   "source": [
    "# MH sampler\n",
    "numsteps = 1000\n",
    "burnin = 100\n",
    "n = 100\n",
    "h = (t[1]-t[0])/n\n",
    "fig = plt.figure()\n",
    "ax = fig.gca(projection='3d')\n",
    "\n",
    "# tout, xcur = brownianbridgeM(gamma,xaux,t,n)\n",
    "# xcur += traj.T\n",
    "for i in range(x.shape[0]-1):\n",
    "    samples = np.zeros((2,numsteps,n))\n",
    "    tout, xcur = brownianbridgeM(gamma,x[i:i+2],t[i:i+2],n)\n",
    "    oldlik = girsanovM(gvec=gamma, path=xcur, dt=h)\n",
    "    arburn = np.zeros(burnin)\n",
    "    for jj in range(burnin):\n",
    "        # _, prop = brownianbridgeM(gamma,xaux,t,n)\n",
    "        # prop += traj.T\n",
    "        _, prop = brownianbridgeM(gamma,x[i:i+2],t[i:i+2],n)\n",
    "        proplik = girsanovM(gvec=gamma, path=prop, dt=h)\n",
    "        rho = proplik - oldlik\n",
    "        if (rho >= np.log(np.random.uniform())):\n",
    "            xcur = prop\n",
    "            oldlik = proplik\n",
    "            arburn[jj] = 1\n",
    "\n",
    "    print(\"Acceptance rate during burn-in:\", np.mean(arburn))\n",
    "\n",
    "    arsamp = np.zeros(numsteps)\n",
    "    for jj in range(numsteps):\n",
    "        # _, prop = brownianbridgeM(gamma,xaux,t,n)\n",
    "        # prop += traj.T\n",
    "        tout, prop = brownianbridgeM(gamma,x[i:i+2],t[i:i+2],n)\n",
    "        proplik = girsanovM(gvec=gamma, path=prop, dt=h)\n",
    "        rho = proplik - oldlik\n",
    "        if (rho >= np.log(np.random.uniform())):\n",
    "            xcur = prop\n",
    "            oldlik = proplik\n",
    "            arsamp[jj] = 1\n",
    "        ax.plot(tout, xcur[0,:],xcur[1,:], color='grey', alpha=0.2)\n",
    "        samples[:,jj,:] = xcur\n",
    "    ax.plot(tout, np.mean(samples[0], axis=0), np.mean(samples[1], axis=0), 'r', linewidth=3)\n",
    "    print(\"Acceptance rate post burn-in:\", np.mean(arsamp))\n",
    "# plt.vlines(t, -1, 1)\n",
    "plt.plot(t, x[:, 0], x[:, 1], 'bo')\n",
    "plt.grid()\n",
    "plt.xlabel(r'$t$')\n",
    "plt.ylabel(r'$x_0$')\n",
    "plt.zlabel(r'$x_1$')\n",
    "plt.show()"
   ]
  },
  {
   "cell_type": "code",
   "execution_count": 15,
   "metadata": {},
   "outputs": [
    {
     "name": "stdout",
     "output_type": "stream",
     "text": [
      "(100,)\n",
      "3.01\n"
     ]
    }
   ],
   "source": [
    "print(tout.shape)\n",
    "print(tout[0])\n",
    "tplot = np.zeros((1000, 100))\n",
    "for i in range(1000):\n",
    "    for j in range(100):\n",
    "        tplot[i, j] = tout[j]"
   ]
  },
  {
   "cell_type": "code",
   "execution_count": 16,
   "metadata": {},
   "outputs": [
    {
     "data": {
      "image/png": "[encoded data removed]",
      "text/plain": [
       "<matplotlib.figure.Figure at 0x7f404bf5ef60>"
      ]
     },
     "metadata": {},
     "output_type": "display_data"
    }
   ],
   "source": [
    "\n",
    "\n",
    "for i in range(100):\n",
    "    ax.plot(tout, samples[0, i, :], samples[1, i, :], color='grey', alpha=0.2)\n",
    "plt.grid()\n",
    "ax.plot([t[3]], [x[3, 0]], [x[3, 1]], 'bo')\n",
    "ax.plot([t[4]], [x[4, 0]], [x[4, 1]], 'bo')\n",
    "ax.plot(tout, np.mean(samples[0], axis=0), np.mean(samples[1], axis=0), 'r', linewidth=3)\n",
    "plt.show()"
   ]
  },
  {
   "cell_type": "code",
   "execution_count": null,
   "metadata": {
    "collapsed": true
   },
   "outputs": [],
   "source": [
    "samples"
   ]
  },
  {
   "cell_type": "code",
   "execution_count": null,
   "metadata": {},
   "outputs": [],
   "source": [
    "[t[3]]"
   ]
  },
  {
   "cell_type": "code",
   "execution_count": null,
   "metadata": {
    "collapsed": true
   },
   "outputs": [],
   "source": []
  }
 ],
 "metadata": {
  "kernelspec": {
   "display_name": "Python [default]",
   "language": "python",
   "name": "python3"
  },
  "language_info": {
   "codemirror_mode": {
    "name": "ipython",
    "version": 3
   },
   "file_extension": ".py",
   "mimetype": "text/x-python",
   "name": "python",
   "nbconvert_exporter": "python",
   "pygments_lexer": "ipython3",
   "version": "3.5.4"
  }
 },
 "nbformat": 4,
 "nbformat_minor": 2
}
