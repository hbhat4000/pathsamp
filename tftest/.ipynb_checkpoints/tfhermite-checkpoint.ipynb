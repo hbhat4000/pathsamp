{
 "cells": [
  {
   "cell_type": "code",
   "execution_count": 1,
   "metadata": {},
   "outputs": [],
   "source": [
    "import numpy as np\n",
    "import tensorflow as tf"
   ]
  },
  {
   "cell_type": "code",
   "execution_count": 2,
   "metadata": {},
   "outputs": [],
   "source": [
    "import scipy.special"
   ]
  },
  {
   "cell_type": "code",
   "execution_count": 3,
   "metadata": {},
   "outputs": [],
   "source": [
    "maxdeg = 3\n",
    "dim = 2"
   ]
  },
  {
   "cell_type": "code",
   "execution_count": 4,
   "metadata": {},
   "outputs": [],
   "source": [
    "smd = maxdeg + 1\n",
    "dof = int(scipy.special.binom(smd + dim - 1, dim))\n",
    "digits = \"0123456789ABCDEFGHIJKLMNOPQRSTUVWXYZ\""
   ]
  },
  {
   "cell_type": "code",
   "execution_count": 5,
   "metadata": {},
   "outputs": [],
   "source": [
    "def padder(x):\n",
    "    if len(x) < dim:\n",
    "        return '0' * (dim - len(x)) + x\n",
    "    else:\n",
    "        return x\n",
    "\n",
    "def int2str(x):\n",
    "    if x < 0:\n",
    "        return \"-\" + int2str(-x)\n",
    "    return (\"\" if x < smd else int2str(x // smd)) + digits[x % smd]\n",
    "\n",
    "def padint2str(x):\n",
    "    return padder(int2str(x))\n"
   ]
  },
  {
   "cell_type": "code",
   "execution_count": 6,
   "metadata": {},
   "outputs": [],
   "source": [
    "def index_mapping():\n",
    "    index = 0\n",
    "    index_map = {}\n",
    "    allpos = list(map(padint2str, range(smd ** dim)))\n",
    "    for d in range(smd):\n",
    "        for s in allpos:\n",
    "            y = list(map(int, s))[::-1]\n",
    "            if sum(y) == d:\n",
    "                index_map[tuple(y)] = index\n",
    "                index += 1\n",
    "\n",
    "    return index_map\n"
   ]
  },
  {
   "cell_type": "code",
   "execution_count": 7,
   "metadata": {},
   "outputs": [],
   "source": [
    "indmap = index_mapping()"
   ]
  },
  {
   "cell_type": "code",
   "execution_count": 8,
   "metadata": {},
   "outputs": [],
   "source": [
    "ns = np.zeros(9)\n",
    "for ii in range(9):\n",
    "    ns[ii] = 1.0/np.sqrt(np.sqrt(2 * np.pi) * scipy.special.factorial(ii))"
   ]
  },
  {
   "cell_type": "code",
   "execution_count": 9,
   "metadata": {},
   "outputs": [],
   "source": [
    "h2omat = np.zeros((9,9))\n",
    "for ii in range(9):\n",
    "    h2omat[ii, ii] = 1.0 #ns[ii]\n",
    "\n",
    "h2omat[0, 2] = -h2omat[2, 2]\n",
    "h2omat[1, 3] = -3 * h2omat[3, 3]\n",
    "h2omat[2, 4] = -6 * h2omat[4, 4]\n",
    "h2omat[0, 4] = 3 * h2omat[4, 4]\n",
    "h2omat[3, 5] = -10 * h2omat[5, 5]\n",
    "h2omat[1, 5] = 15 * h2omat[5, 5]\n",
    "h2omat[4, 6] = -15 * h2omat[6, 6]\n",
    "h2omat[2, 6] = 45 * h2omat[6, 6]\n",
    "h2omat[0, 6] = -15 * h2omat[6, 6]\n",
    "h2omat[5, 7] = -21 * h2omat[7, 7]\n",
    "h2omat[3, 7] = 105 * h2omat[7, 7]\n",
    "h2omat[1, 7] = -105 * h2omat[7, 7]\n",
    "h2omat[6, 8] = -28 * h2omat[8, 8]\n",
    "h2omat[4, 8] = 210 * h2omat[8, 8]\n",
    "h2omat[2, 8] = -420 * h2omat[8, 8]\n",
    "h2omat[0, 8] = 105 * h2omat[8, 8]\n",
    "h2omat = h2omat[0:smd, 0:smd]"
   ]
  },
  {
   "cell_type": "code",
   "execution_count": 10,
   "metadata": {},
   "outputs": [],
   "source": [
    "transmat = np.full((dof, dof), 1.)\n",
    "for row_index in indmap:\n",
    "    for col_index in indmap:\n",
    "        for d in range(dim):\n",
    "            transmat[indmap[row_index], indmap[col_index]] *= h2omat[row_index[d], col_index[d]]"
   ]
  },
  {
   "cell_type": "code",
   "execution_count": 79,
   "metadata": {},
   "outputs": [],
   "source": [
    "tfh2omat = tf.constant(np.flip(h2omat,axis=0).T,dtype=tf.float32)"
   ]
  },
  {
   "cell_type": "code",
   "execution_count": 80,
   "metadata": {},
   "outputs": [],
   "source": [
    "x = tf.placeholder(dtype=tf.float32, shape=None)"
   ]
  },
  {
   "cell_type": "code",
   "execution_count": 81,
   "metadata": {},
   "outputs": [],
   "source": [
    "def tfherm(n):\n",
    "    return tf.math.polyval(tf.unstack(tfh2omat[n]), x)"
   ]
  },
  {
   "cell_type": "code",
   "execution_count": 86,
   "metadata": {},
   "outputs": [],
   "source": [
    "def tfbasis():\n",
    "    # hermout = tf.ones(shape=[npts, dof], dtype=tf.float32)\n",
    "    \n",
    "    # Hcached = tf.zeros(shape=[npts, dim, smd], dtype=tf.float32)\n",
    "    # for d in range(smd):\n",
    "    #     Hcached[:, :, d] = tfherm(d, x)\n",
    "    \n",
    "    Hcached = tf.map_fn(fn=tfherm,\n",
    "                        elems=np.arange(smd,dtype=np.int32),\n",
    "                        back_prop=False,\n",
    "                        dtype=tf.float32)\n",
    "\n",
    "    #for index in indmap:\n",
    "    #    for d in range(dim):\n",
    "    #        hermout[:, indmap[index]] *= Hcached[:, d, index[d]]\n",
    "\n",
    "    return Hcached"
   ]
  },
  {
   "cell_type": "code",
   "execution_count": 89,
   "metadata": {},
   "outputs": [
    {
     "data": {
      "text/plain": [
       "<tf.Tensor 'map_18/TensorArrayStack/TensorArrayGatherV3:0' shape=<unknown> dtype=float32>"
      ]
     },
     "execution_count": 89,
     "metadata": {},
     "output_type": "execute_result"
    }
   ],
   "source": [
    "tfbasis()"
   ]
  },
  {
   "cell_type": "code",
   "execution_count": 87,
   "metadata": {},
   "outputs": [],
   "source": [
    "with tf.Session() as sess:\n",
    "    test = sess.run(tfbasis(), feed_dict = {x : np.array([0.,1.])})"
   ]
  },
  {
   "cell_type": "code",
   "execution_count": 88,
   "metadata": {},
   "outputs": [
    {
     "name": "stdout",
     "output_type": "stream",
     "text": [
      "[[ 1.  1.]\n",
      " [ 0.  1.]\n",
      " [-1.  0.]\n",
      " [ 0. -2.]]\n"
     ]
    }
   ],
   "source": [
    "print(test)"
   ]
  },
  {
   "cell_type": "code",
   "execution_count": null,
   "metadata": {},
   "outputs": [],
   "source": [
    "print(h2omat[0])"
   ]
  }
 ],
 "metadata": {
  "kernelspec": {
   "display_name": "Python 3",
   "language": "python",
   "name": "python3"
  },
  "language_info": {
   "codemirror_mode": {
    "name": "ipython",
    "version": 3
   },
   "file_extension": ".py",
   "mimetype": "text/x-python",
   "name": "python",
   "nbconvert_exporter": "python",
   "pygments_lexer": "ipython3",
   "version": "3.7.3"
  }
 },
 "nbformat": 4,
 "nbformat_minor": 2
}
