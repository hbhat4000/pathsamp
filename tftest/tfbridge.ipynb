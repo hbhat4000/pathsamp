{
 "cells": [
  {
   "cell_type": "code",
   "execution_count": 1,
   "metadata": {},
   "outputs": [],
   "source": [
    "import numpy as np\n",
    "import tensorflow as tf"
   ]
  },
  {
   "cell_type": "code",
   "execution_count": 2,
   "metadata": {},
   "outputs": [],
   "source": [
    "import tensorflow_probability as tfp\n",
    "tfd = tfp.distributions"
   ]
  },
  {
   "cell_type": "code",
   "execution_count": 3,
   "metadata": {},
   "outputs": [],
   "source": [
    "# amazingly, this fixes plotting on Harish's Mac!\n",
    "import os\n",
    "os.environ['KMP_DUPLICATE_LIB_OK']='True'"
   ]
  },
  {
   "cell_type": "code",
   "execution_count": 4,
   "metadata": {},
   "outputs": [],
   "source": [
    "# generate random trajectory\n",
    "npts = 20\n",
    "d = 2\n",
    "xpts = np.reshape(np.random.normal(size=npts*d),[npts, d])\n",
    "tpts = np.arange(npts, dtype=np.float32)\n",
    "g = np.array([0.75, 0.75], dtype=np.float32)"
   ]
  },
  {
   "cell_type": "code",
   "execution_count": 5,
   "metadata": {},
   "outputs": [],
   "source": [
    "# npdeltat = tpts[1] - tpts[0]\n",
    "# npdt = npdeltat / numsubintervals\n",
    "# nptvec = tpts[0] + (1 + np.arange(numsubintervals)) * npdt\n",
    "# npwincs = np.random.multivariate_normal(mean=np.zeros(d),\n",
    "#                                               cov=npdt*np.diag(np.square(g)),\n",
    "#                                               size=numsubintervals)\n",
    "# npw = np.cumsum(npwincs, axis=0).T\n",
    "# npbridge = xpts[0, :, None] + npw\n",
    "# npdeltax = np.expand_dims(xpts[1] - xpts[0], 1)\n",
    "# npinterval = ((nptvec - tpts[0]) / (tpts[1] - tpts[0])) * (npw[:, numsubintervals - 1, None] - npdeltax)\n",
    "# npbridge -= npinterval\n",
    "# npbridge = np.concatenate((xpts[0, :, None], npbridge), axis=1).T"
   ]
  },
  {
   "cell_type": "code",
   "execution_count": 6,
   "metadata": {},
   "outputs": [],
   "source": [
    "# print(((nptvec - tpts[0]) / (tpts[1] - tpts[0])).shape)\n",
    "# print(npw[:, numsubintervals - 1, None].shape)\n",
    "# print(npdeltax.shape)\n",
    "# print(npinterval.shape)"
   ]
  },
  {
   "cell_type": "code",
   "execution_count": 7,
   "metadata": {},
   "outputs": [],
   "source": [
    "numsubintervals = 100"
   ]
  },
  {
   "cell_type": "code",
   "execution_count": 8,
   "metadata": {},
   "outputs": [],
   "source": [
    "x = tf.placeholder(tf.float32, shape=(None, d), name=\"data\")\n",
    "t = tf.placeholder(tf.float32, shape=(None), name=\"time\")"
   ]
  },
  {
   "cell_type": "code",
   "execution_count": 9,
   "metadata": {},
   "outputs": [],
   "source": [
    "xdbl = tf.transpose(tf.stack([x[:-1], x[1:]]),[1,0,2])\n",
    "tdbl = tf.transpose(tf.stack([t[:-1], t[1:]]))"
   ]
  },
  {
   "cell_type": "code",
   "execution_count": 10,
   "metadata": {},
   "outputs": [
    {
     "data": {
      "text/plain": [
       "TensorShape([Dimension(None), Dimension(2), Dimension(2)])"
      ]
     },
     "execution_count": 10,
     "metadata": {},
     "output_type": "execute_result"
    }
   ],
   "source": [
    "xdbl.shape"
   ]
  },
  {
   "cell_type": "code",
   "execution_count": 11,
   "metadata": {},
   "outputs": [
    {
     "data": {
      "text/plain": [
       "TensorShape(None)"
      ]
     },
     "execution_count": 11,
     "metadata": {},
     "output_type": "execute_result"
    }
   ],
   "source": [
    "tdbl.shape"
   ]
  },
  {
   "cell_type": "code",
   "execution_count": 12,
   "metadata": {},
   "outputs": [],
   "source": [
    "gvec = tf.placeholder(tf.float32, shape=(d), name=\"gvec\")"
   ]
  },
  {
   "cell_type": "code",
   "execution_count": 13,
   "metadata": {},
   "outputs": [
    {
     "name": "stderr",
     "output_type": "stream",
     "text": [
      "WARNING: Logging before flag parsing goes to stderr.\n",
      "W0627 15:32:05.218829 4613584320 deprecation.py:323] From /Users/hbhat/anaconda3/lib/python3.7/site-packages/tensorflow_probability/python/distributions/transformed_distribution.py:49: add_dispatch_support.<locals>.wrapper (from tensorflow.python.ops.array_ops) is deprecated and will be removed in a future version.\n",
      "Instructions for updating:\n",
      "Use tf.where in 2.0, which has the same broadcast rule as np.where\n"
     ]
    }
   ],
   "source": [
    "# tf brownian bridge!\n",
    "def brownianbridge(xtpair):\n",
    "    xpair = xtpair[0]\n",
    "    tpair = xtpair[1]\n",
    "    deltat = tpair[1] - tpair[0]\n",
    "    dt = deltat / numsubintervals\n",
    "    tvec = tpair[0] + (tf.range(1.0,1.0+numsubintervals)) * dt\n",
    "    mvn = tfd.MultivariateNormalDiag(loc=np.zeros(d, dtype=np.float32), scale_diag=tf.sqrt(dt)*gvec)\n",
    "    mvnsamp = tfd.Sample(mvn, sample_shape=numsubintervals)\n",
    "    wincs = mvnsamp.sample()\n",
    "    w = tf.cumsum(wincs, axis=0)\n",
    "    bridge = xpair[0] + w\n",
    "    deltax = tf.expand_dims(xpair[1] - xpair[0], 1)\n",
    "    part1 = ((tvec - tpair[0]) / deltat)\n",
    "    part2 = tf.expand_dims(w[(numsubintervals - 1), :], 1) - deltax\n",
    "    internal = tf.transpose(part1*part2)\n",
    "    bridge = bridge - internal\n",
    "    tvec2 = tf.concat([tf.expand_dims(tpair[0], 0), tvec], axis=0)\n",
    "    bridge2 = tf.concat([tf.expand_dims(xpair[0],0), bridge], axis=0)\n",
    "    return tvec2, bridge2\n",
    "\n",
    "allbridges = tf.map_fn(fn=brownianbridge,elems=(xdbl,tdbl),back_prop=False)"
   ]
  },
  {
   "cell_type": "code",
   "execution_count": 14,
   "metadata": {},
   "outputs": [],
   "source": [
    "init = tf.global_variables_initializer()"
   ]
  },
  {
   "cell_type": "code",
   "execution_count": 15,
   "metadata": {},
   "outputs": [],
   "source": [
    "with tf.Session() as sess:\n",
    "    init.run()\n",
    "    alltest = sess.run(allbridges, feed_dict = {x : xpts, t : tpts, gvec : g})\n",
    "    "
   ]
  },
  {
   "cell_type": "code",
   "execution_count": 17,
   "metadata": {},
   "outputs": [
    {
     "name": "stdout",
     "output_type": "stream",
     "text": [
      "2\n",
      "(19, 101)\n",
      "(19, 101, 2)\n"
     ]
    }
   ],
   "source": [
    "print(len(alltest))\n",
    "print(alltest[0].shape)\n",
    "print(alltest[1].shape)"
   ]
  },
  {
   "cell_type": "code",
   "execution_count": 18,
   "metadata": {},
   "outputs": [
    {
     "name": "stdout",
     "output_type": "stream",
     "text": [
      "Using matplotlib backend: Qt5Agg\n"
     ]
    }
   ],
   "source": [
    "import matplotlib\n",
    "%matplotlib\n",
    "import matplotlib.pyplot as plt\n"
   ]
  },
  {
   "cell_type": "code",
   "execution_count": 27,
   "metadata": {},
   "outputs": [
    {
     "data": {
      "image/png": "[encoded data removed]",
      "text/plain": [
       "<Figure size 1080x360 with 2 Axes>"
      ]
     },
     "metadata": {
      "needs_background": "light"
     },
     "output_type": "display_data"
    }
   ],
   "source": [
    "# for i in range(npts-1):\n",
    "#     test = alltest[1][i]\n",
    "#     plt.plot(test[:,0], test[:,1])\n",
    "#     plt.scatter(xpts[i,0],xpts[i,1],color='green')\n",
    "#     plt.scatter(xpts[i+1,0],xpts[i+1,1],color='red')\n",
    "#     plt.show()\n",
    "\n",
    "f, (ax1, ax2) = plt.subplots(1, 2)\n",
    "f.set_figheight(5)\n",
    "f.set_figwidth(15)\n",
    "\n",
    "for i in range(npts-1):\n",
    "    thistvec = alltest[0][i]\n",
    "    thisbridge = alltest[1][i]\n",
    "    ax1.plot(thistvec, thisbridge[:,0], color='black')\n",
    "    ax2.plot(thistvec, thisbridge[:,1], color='black')\n",
    "\n",
    "ax1.scatter(tpts, xpts[:,0], color='red')\n",
    "ax2.scatter(tpts, xpts[:,1], color='red')\n",
    "plt.show()"
   ]
  },
  {
   "cell_type": "code",
   "execution_count": 25,
   "metadata": {},
   "outputs": [
    {
     "name": "stdout",
     "output_type": "stream",
     "text": [
      "[-1.2924273  0.3147093]\n",
      "[-1.29242726  0.31470931]\n",
      "[ 1.7416949 -1.960196 ]\n",
      "[ 1.74169487 -1.96019607]\n"
     ]
    }
   ],
   "source": [
    "print(test[1][0,:])\n",
    "print(xpts[0])\n",
    "print(test[1][100,:])\n",
    "print(xpts[1])"
   ]
  },
  {
   "cell_type": "code",
   "execution_count": null,
   "metadata": {},
   "outputs": [],
   "source": []
  }
 ],
 "metadata": {
  "kernelspec": {
   "display_name": "Python 3",
   "language": "python",
   "name": "python3"
  },
  "language_info": {
   "codemirror_mode": {
    "name": "ipython",
    "version": 3
   },
   "file_extension": ".py",
   "mimetype": "text/x-python",
   "name": "python",
   "nbconvert_exporter": "python",
   "pygments_lexer": "ipython3",
   "version": "3.7.3"
  }
 },
 "nbformat": 4,
 "nbformat_minor": 2
}
