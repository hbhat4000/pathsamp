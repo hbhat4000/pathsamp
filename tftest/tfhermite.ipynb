{
 "cells": [
  {
   "cell_type": "code",
   "execution_count": 1,
   "metadata": {},
   "outputs": [],
   "source": [
    "import numpy as np\n",
    "import tensorflow as tf"
   ]
  },
  {
   "cell_type": "code",
   "execution_count": 2,
   "metadata": {},
   "outputs": [],
   "source": [
    "import scipy.special"
   ]
  },
  {
   "cell_type": "code",
   "execution_count": 3,
   "metadata": {},
   "outputs": [],
   "source": [
    "maxdeg = 3\n",
    "dim = 2"
   ]
  },
  {
   "cell_type": "code",
   "execution_count": 4,
   "metadata": {},
   "outputs": [],
   "source": [
    "smd = maxdeg + 1\n",
    "dof = int(scipy.special.binom(smd + dim - 1, dim))\n",
    "digits = \"0123456789ABCDEFGHIJKLMNOPQRSTUVWXYZ\""
   ]
  },
  {
   "cell_type": "code",
   "execution_count": 5,
   "metadata": {},
   "outputs": [],
   "source": [
    "def padder(x):\n",
    "    if len(x) < dim:\n",
    "        return '0' * (dim - len(x)) + x\n",
    "    else:\n",
    "        return x\n",
    "\n",
    "def int2str(x):\n",
    "    if x < 0:\n",
    "        return \"-\" + int2str(-x)\n",
    "    return (\"\" if x < smd else int2str(x // smd)) + digits[x % smd]\n",
    "\n",
    "def padint2str(x):\n",
    "    return padder(int2str(x))\n"
   ]
  },
  {
   "cell_type": "code",
   "execution_count": 6,
   "metadata": {},
   "outputs": [],
   "source": [
    "def index_mapping():\n",
    "    index = 0\n",
    "    index_map = {}\n",
    "    allpos = list(map(padint2str, range(smd ** dim)))\n",
    "    for d in range(smd):\n",
    "        for s in allpos:\n",
    "            y = list(map(int, s))[::-1]\n",
    "            if sum(y) == d:\n",
    "                index_map[tuple(y)] = index\n",
    "                index += 1\n",
    "\n",
    "    return index_map\n"
   ]
  },
  {
   "cell_type": "code",
   "execution_count": 7,
   "metadata": {},
   "outputs": [],
   "source": [
    "indmap = index_mapping()"
   ]
  },
  {
   "cell_type": "code",
   "execution_count": 8,
   "metadata": {},
   "outputs": [],
   "source": [
    "ns = np.zeros(9)\n",
    "for ii in range(9):\n",
    "    ns[ii] = 1.0/np.sqrt(np.sqrt(2 * np.pi) * scipy.special.factorial(ii))"
   ]
  },
  {
   "cell_type": "code",
   "execution_count": 9,
   "metadata": {},
   "outputs": [],
   "source": [
    "h2omat = np.zeros((9,9))\n",
    "for ii in range(9):\n",
    "    h2omat[ii, ii] = 1.0 #ns[ii]\n",
    "\n",
    "h2omat[0, 2] = -h2omat[2, 2]\n",
    "h2omat[1, 3] = -3 * h2omat[3, 3]\n",
    "h2omat[2, 4] = -6 * h2omat[4, 4]\n",
    "h2omat[0, 4] = 3 * h2omat[4, 4]\n",
    "h2omat[3, 5] = -10 * h2omat[5, 5]\n",
    "h2omat[1, 5] = 15 * h2omat[5, 5]\n",
    "h2omat[4, 6] = -15 * h2omat[6, 6]\n",
    "h2omat[2, 6] = 45 * h2omat[6, 6]\n",
    "h2omat[0, 6] = -15 * h2omat[6, 6]\n",
    "h2omat[5, 7] = -21 * h2omat[7, 7]\n",
    "h2omat[3, 7] = 105 * h2omat[7, 7]\n",
    "h2omat[1, 7] = -105 * h2omat[7, 7]\n",
    "h2omat[6, 8] = -28 * h2omat[8, 8]\n",
    "h2omat[4, 8] = 210 * h2omat[8, 8]\n",
    "h2omat[2, 8] = -420 * h2omat[8, 8]\n",
    "h2omat[0, 8] = 105 * h2omat[8, 8]\n",
    "h2omat = h2omat[0:smd, 0:smd]"
   ]
  },
  {
   "cell_type": "code",
   "execution_count": 10,
   "metadata": {},
   "outputs": [],
   "source": [
    "transmat = np.full((dof, dof), 1.)\n",
    "for row_index in indmap:\n",
    "    for col_index in indmap:\n",
    "        for d in range(dim):\n",
    "            transmat[indmap[row_index], indmap[col_index]] *= h2omat[row_index[d], col_index[d]]"
   ]
  },
  {
   "cell_type": "code",
   "execution_count": 11,
   "metadata": {},
   "outputs": [],
   "source": [
    "indlist = []\n",
    "for d in range(dim):\n",
    "    for index in indmap:\n",
    "        indlist.append([d, index[d]])"
   ]
  },
  {
   "cell_type": "code",
   "execution_count": 12,
   "metadata": {},
   "outputs": [],
   "source": [
    "derivindlists = [[]]*dim\n",
    "# selfindlists = [[]]*dim\n",
    "for s in range(dim):\n",
    "    derivindlists[s] = []\n",
    "    # selfindlists[s] = []\n",
    "    for d in range(dim):\n",
    "        for index in indmap:\n",
    "            if d == s:\n",
    "                if index[d] >= 1:\n",
    "                    derivindlists[s].append([0, d, index[d]-1])\n",
    "                else:\n",
    "                    derivindlists[s].append([1, 0, 0])\n",
    "            else:\n",
    "                derivindlists[s].append([0, d, index[d]])\n"
   ]
  },
  {
   "cell_type": "code",
   "execution_count": 13,
   "metadata": {},
   "outputs": [
    {
     "name": "stdout",
     "output_type": "stream",
     "text": [
      "20\n",
      "20\n"
     ]
    }
   ],
   "source": [
    "print(len(indlist))\n",
    "print(len(derivindlists[1]))"
   ]
  },
  {
   "cell_type": "code",
   "execution_count": 43,
   "metadata": {},
   "outputs": [],
   "source": [
    "prefaclist = [[]]*dim\n",
    "for d in range(dim):\n",
    "    prefaclist[d] = np.ones(dof)\n",
    "    for index in indmap:\n",
    "        nf = ns[index[d]]/ns[index[d]-1]\n",
    "        prefaclist[d][indmap[index]] *= nf*index[d]\n",
    "    \n",
    "    prefaclist[d] = tf.expand_dims(tf.constant(prefaclist[d], dtype=tf.float32),1)"
   ]
  },
  {
   "cell_type": "code",
   "execution_count": 15,
   "metadata": {},
   "outputs": [
    {
     "data": {
      "text/plain": [
       "array([0.        , 0.        , 1.        , 0.        , 1.        ,\n",
       "       1.41421356, 0.        , 1.        , 1.41421356, 1.73205081])"
      ]
     },
     "execution_count": 15,
     "metadata": {},
     "output_type": "execute_result"
    }
   ],
   "source": [
    "prefaclist[0]\n",
    "prefaclist[1]"
   ]
  },
  {
   "cell_type": "code",
   "execution_count": 16,
   "metadata": {},
   "outputs": [],
   "source": [
    "tfh2omat = tf.constant(np.flip(h2omat,axis=0).T,dtype=tf.float32)"
   ]
  },
  {
   "cell_type": "code",
   "execution_count": 17,
   "metadata": {},
   "outputs": [],
   "source": [
    "x = tf.placeholder(dtype=tf.float32, shape=[None, dim])"
   ]
  },
  {
   "cell_type": "code",
   "execution_count": 18,
   "metadata": {},
   "outputs": [],
   "source": [
    "def tfherm(n):\n",
    "    return tf.math.polyval(tf.unstack(tfh2omat[n]), x)"
   ]
  },
  {
   "cell_type": "code",
   "execution_count": 75,
   "metadata": {},
   "outputs": [],
   "source": [
    "def tfbasis(npts):\n",
    "    Hcached = tf.map_fn(fn=tfherm,\n",
    "                        elems=np.arange(smd,dtype=np.int32),\n",
    "                        back_prop=False,\n",
    "                        dtype=tf.float32)\n",
    "\n",
    "    Hcached = tf.transpose(Hcached,[2,0,1])  \n",
    "    # Hcached has dimensions (dim, smd, npts)\n",
    "    hermout = tf.reduce_prod(tf.reshape(tf.gather_nd(Hcached, indlist),[dim,dof,npts]),axis=0)\n",
    "    hermout = tf.transpose(hermout,[1,0])\n",
    "    return hermout"
   ]
  },
  {
   "cell_type": "code",
   "execution_count": 76,
   "metadata": {},
   "outputs": [],
   "source": [
    "def tfgradient(npts):\n",
    "    Hcached = tf.map_fn(fn=tfherm,\n",
    "                        elems=np.arange(smd,dtype=np.int32),\n",
    "                        back_prop=False,\n",
    "                        dtype=tf.float32)\n",
    "\n",
    "    Hcached = tf.transpose(Hcached,[2,0,1])  \n",
    "    derivhermout = []\n",
    "    bigten = tf.stack([Hcached, tf.zeros([dim,smd,npts])])\n",
    "    for derivdim in range(dim):\n",
    "        part = tf.gather_nd(bigten, derivindlists[derivdim])\n",
    "        # part2 = tf.gather_nd(bigten, selfindlists[derivdim])\n",
    "        derivhermout.append(\n",
    "            tf.reduce_prod(tf.reshape(part,[dim,dof,npts]),axis=0)\n",
    "        )\n",
    "        derivhermout[derivdim] *= prefaclist[derivdim]\n",
    "    \n",
    "    derivhermout = tf.transpose(tf.stack(derivhermout),[0,2,1])\n",
    "    return derivhermout\n",
    "        "
   ]
  },
  {
   "cell_type": "code",
   "execution_count": 77,
   "metadata": {},
   "outputs": [],
   "source": [
    "with tf.Session() as sess:\n",
    "    test = sess.run(tfbasis(3), feed_dict = {x : np.array([[3.,-4.],[-1.13,2.08],[-7.13,9.08]])})\n"
   ]
  },
  {
   "cell_type": "code",
   "execution_count": 66,
   "metadata": {},
   "outputs": [],
   "source": [
    "Hcached = np.transpose(test3, [2, 0, 1])\n",
    "hermout = np.full((dim, 3, dof), 1.)\n",
    "\n",
    "basisout = np.full((3, dof), 1.)\n",
    "for index in indmap:\n",
    "    for d in range(dim):\n",
    "        basisout[:, indmap[index]] *= Hcached[:, d, index[d]]\n",
    "\n",
    "for derivdim in range(dim):\n",
    "    for index in indmap:\n",
    "        for d in range(dim):\n",
    "            if d==derivdim:\n",
    "                nf = ns[index[d]]/ns[index[d]-1]\n",
    "                hermout[derivdim, :, indmap[index]] *= Hcached[:, d, index[d]-1]*index[d]*nf\n",
    "            if d != derivdim:\n",
    "                hermout[derivdim, :, indmap[index]] *= Hcached[:, d, index[d]]\n"
   ]
  },
  {
   "cell_type": "code",
   "execution_count": 79,
   "metadata": {},
   "outputs": [
    {
     "data": {
      "text/plain": [
       "array([[[  0.        ,   1.        ,  -0.        ,   4.2426405 ,\n",
       "          -4.        ,   0.        ,  13.85640621, -16.97056198,\n",
       "          15.        ,  -0.        ],\n",
       "        [  0.        ,   1.        ,   0.        ,  -1.59806132,\n",
       "           2.07999992,   0.        ,   0.47960475,  -3.32396743,\n",
       "           3.3263998 ,   0.        ],\n",
       "        [ -0.        ,   1.        ,  -0.        , -10.08334255,\n",
       "           9.07999992,  -0.        ,  86.32004547, -91.5567496 ,\n",
       "          81.44639587,  -0.        ]],\n",
       "\n",
       "       [[ -0.        ,  -0.        ,   1.        ,  -0.        ,\n",
       "           3.        ,  -5.65685415,  -0.        ,   8.        ,\n",
       "         -16.97056246,  25.98076248],\n",
       "        [  0.        ,  -0.        ,   1.        ,   0.        ,\n",
       "          -1.13      ,   2.94156408,   0.        ,   0.27689993,\n",
       "          -3.3239674 ,   5.76149321],\n",
       "        [  0.        ,  -0.        ,   1.        ,   0.        ,\n",
       "          -7.13000011,  12.84105873,  -0.        ,  49.83690262,\n",
       "         -91.55675022, 141.06929016]]])"
      ]
     },
     "execution_count": 79,
     "metadata": {},
     "output_type": "execute_result"
    }
   ],
   "source": [
    "hermout"
   ]
  },
  {
   "cell_type": "code",
   "execution_count": 80,
   "metadata": {},
   "outputs": [
    {
     "data": {
      "text/plain": [
       "(3, 10)"
      ]
     },
     "execution_count": 80,
     "metadata": {},
     "output_type": "execute_result"
    }
   ],
   "source": [
    "test.shape"
   ]
  },
  {
   "cell_type": "code",
   "execution_count": 81,
   "metadata": {},
   "outputs": [
    {
     "data": {
      "text/plain": [
       "(3, 10)"
      ]
     },
     "execution_count": 81,
     "metadata": {},
     "output_type": "execute_result"
    }
   ],
   "source": [
    "basisout.shape"
   ]
  },
  {
   "cell_type": "code",
   "execution_count": 82,
   "metadata": {},
   "outputs": [
    {
     "data": {
      "text/plain": [
       "2.104320594753517e-05"
      ]
     },
     "execution_count": 82,
     "metadata": {},
     "output_type": "execute_result"
    }
   ],
   "source": [
    "np.sum(np.abs(test - basisout))"
   ]
  },
  {
   "cell_type": "code",
   "execution_count": null,
   "metadata": {},
   "outputs": [],
   "source": []
  }
 ],
 "metadata": {
  "kernelspec": {
   "display_name": "Python 3",
   "language": "python",
   "name": "python3"
  },
  "language_info": {
   "codemirror_mode": {
    "name": "ipython",
    "version": 3
   },
   "file_extension": ".py",
   "mimetype": "text/x-python",
   "name": "python",
   "nbconvert_exporter": "python",
   "pygments_lexer": "ipython3",
   "version": "3.7.3"
  }
 },
 "nbformat": 4,
 "nbformat_minor": 2
}
