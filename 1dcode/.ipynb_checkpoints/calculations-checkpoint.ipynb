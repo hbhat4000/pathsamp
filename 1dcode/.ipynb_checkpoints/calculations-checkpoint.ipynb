{
 "cells": [
  {
   "cell_type": "code",
   "execution_count": 1,
   "metadata": {
    "collapsed": true
   },
   "outputs": [],
   "source": [
    "import numpy as np\n",
    "import polynomial_functions as pfn\n",
    "import em_functions as em\n",
    "import parameters as prm\n",
    "\n",
    "%matplotlib inline\n",
    "from matplotlib import pyplot as plt\n",
    "\n",
    "import pickle"
   ]
  },
  {
   "cell_type": "code",
   "execution_count": 13,
   "metadata": {
    "collapsed": true
   },
   "outputs": [],
   "source": [
    "def H(x, degree):\n",
    "    switcher = {\n",
    "        0: 0.63161877774606470129,\n",
    "        1: 0.63161877774606470129 * x,\n",
    "        2: 0.44662192086900116570 * (np.power(x, 2) - 1),\n",
    "        3: 0.25785728623970555997 * (np.power(x, 3) - 3 * x),\n",
    "        4: 0.12892864311985277998 * (np.power(x, 4) - 6 * np.power(x, 2) + 3),\n",
    "    }\n",
    "    return switcher.get(degree, \"Polynomial degree exceeded\")\n",
    "\n",
    "# this function defines our hermite basis functions\n",
    "# x must be a numpy array, a column vector of points\n",
    "# (x = vector of points at which we seek to evaluate the basis functions)\n",
    "# dof is the number of degrees of freedom, i.e., the number of basis functions.\n",
    "def hermite_basis(x):\n",
    "    theta = np.full((x.shape[0], 10), 1.)\n",
    "    index_map = index_mapping()\n",
    "\n",
    "    Hcached = np.zeros((x.shape[0], x.shape[1], 4))\n",
    "    for d in range(4):\n",
    "        Hcached[:, :, d] = H(x, d)\n",
    "    print(Hcached)\n",
    "\n",
    "    for index in index_map:\n",
    "        for d in range(2):\n",
    "            print(index)\n",
    "            print(d)\n",
    "            print(index[d])\n",
    "            print(Hcached[:, d, index[d]])\n",
    "            theta[:, index_map[index]] *= Hcached[:, d, index[d]]\n",
    "\n",
    "    return theta\n",
    "\n",
    "def old_hermite_basis(x):\n",
    "    theta = np.full((x.shape[0], 10), 1.)\n",
    "    index_map = index_mapping()\n",
    "\n",
    "    for index in index_map:\n",
    "        for d in range(2):\n",
    "            theta[:, index_map[index]] *= np.H(x[:, d], index[d])\n",
    "\n",
    "    return theta\n",
    "\n",
    "def index_mapping():\n",
    "    index = 0\n",
    "    index_map = {}\n",
    "\n",
    "    for d in range(0, 4):\n",
    "        for j in range(0, d + 1):\n",
    "            for i in range(0, d + 1):\n",
    "                if (i + j == d):\n",
    "                    index_set = (i, j)\n",
    "                    index_map[index_set] = index\n",
    "                    index += 1\n",
    "    print(index_map)\n",
    "    return index_map"
   ]
  },
  {
   "cell_type": "code",
   "execution_count": 16,
   "metadata": {},
   "outputs": [
    {
     "name": "stdout",
     "output_type": "stream",
     "text": [
      "{(0, 1): 2, (2, 0): 3, (0, 0): 0, (3, 0): 6, (1, 0): 1, (1, 2): 8, (0, 3): 9, (1, 1): 4, (2, 1): 7, (0, 2): 5}\n",
      "[[[  0.63161878   0.63161878   0.          -0.51571457]]\n",
      "\n",
      " [[  0.63161878   1.26323756   1.33986576   0.51571457]]\n",
      "\n",
      " [[  0.63161878   1.89485633   3.57297537   4.64143115]]\n",
      "\n",
      " [[  0.63161878   2.52647511   6.69932881  13.40857888]]\n",
      "\n",
      " [[  0.63161878   3.15809389  10.7189261   28.36430149]]\n",
      "\n",
      " [[  0.63161878   3.78971267  15.63176723  51.05574268]]]\n",
      "(0, 1)\n",
      "0\n",
      "0\n",
      "[ 0.63161878  0.63161878  0.63161878  0.63161878  0.63161878  0.63161878]\n",
      "(0, 1)\n",
      "1\n",
      "1\n"
     ]
    },
    {
     "ename": "IndexError",
     "evalue": "index 1 is out of bounds for axis 1 with size 1",
     "output_type": "error",
     "traceback": [
      "\u001b[0;31m---------------------------------------------------------------------------\u001b[0m",
      "\u001b[0;31mIndexError\u001b[0m                                Traceback (most recent call last)",
      "\u001b[0;32m<ipython-input-16-cb85d6091ca8>\u001b[0m in \u001b[0;36m<module>\u001b[0;34m()\u001b[0m\n\u001b[1;32m      1\u001b[0m \u001b[0mx\u001b[0m \u001b[0;34m=\u001b[0m \u001b[0mnp\u001b[0m\u001b[0;34m.\u001b[0m\u001b[0marray\u001b[0m\u001b[0;34m(\u001b[0m\u001b[0;34m[\u001b[0m\u001b[0;34m[\u001b[0m\u001b[0;36m1.\u001b[0m\u001b[0;34m]\u001b[0m\u001b[0;34m,\u001b[0m \u001b[0;34m[\u001b[0m\u001b[0;36m2.\u001b[0m\u001b[0;34m]\u001b[0m\u001b[0;34m,\u001b[0m \u001b[0;34m[\u001b[0m\u001b[0;36m3.\u001b[0m\u001b[0;34m]\u001b[0m\u001b[0;34m,\u001b[0m \u001b[0;34m[\u001b[0m\u001b[0;36m4.\u001b[0m\u001b[0;34m]\u001b[0m\u001b[0;34m,\u001b[0m \u001b[0;34m[\u001b[0m\u001b[0;36m5.\u001b[0m\u001b[0;34m]\u001b[0m\u001b[0;34m,\u001b[0m \u001b[0;34m[\u001b[0m\u001b[0;36m6.\u001b[0m\u001b[0;34m]\u001b[0m\u001b[0;34m]\u001b[0m\u001b[0;34m)\u001b[0m\u001b[0;34m\u001b[0m\u001b[0m\n\u001b[0;32m----> 2\u001b[0;31m \u001b[0mherm\u001b[0m \u001b[0;34m=\u001b[0m \u001b[0mhermite_basis\u001b[0m\u001b[0;34m(\u001b[0m\u001b[0mx\u001b[0m\u001b[0;34m)\u001b[0m\u001b[0;34m\u001b[0m\u001b[0m\n\u001b[0m",
      "\u001b[0;32m<ipython-input-13-b2eaebf10241>\u001b[0m in \u001b[0;36mhermite_basis\u001b[0;34m(x)\u001b[0m\n\u001b[1;32m     27\u001b[0m             \u001b[0mprint\u001b[0m\u001b[0;34m(\u001b[0m\u001b[0md\u001b[0m\u001b[0;34m)\u001b[0m\u001b[0;34m\u001b[0m\u001b[0m\n\u001b[1;32m     28\u001b[0m             \u001b[0mprint\u001b[0m\u001b[0;34m(\u001b[0m\u001b[0mindex\u001b[0m\u001b[0;34m[\u001b[0m\u001b[0md\u001b[0m\u001b[0;34m]\u001b[0m\u001b[0;34m)\u001b[0m\u001b[0;34m\u001b[0m\u001b[0m\n\u001b[0;32m---> 29\u001b[0;31m             \u001b[0mprint\u001b[0m\u001b[0;34m(\u001b[0m\u001b[0mHcached\u001b[0m\u001b[0;34m[\u001b[0m\u001b[0;34m:\u001b[0m\u001b[0;34m,\u001b[0m \u001b[0md\u001b[0m\u001b[0;34m,\u001b[0m \u001b[0mindex\u001b[0m\u001b[0;34m[\u001b[0m\u001b[0md\u001b[0m\u001b[0;34m]\u001b[0m\u001b[0;34m]\u001b[0m\u001b[0;34m)\u001b[0m\u001b[0;34m\u001b[0m\u001b[0m\n\u001b[0m\u001b[1;32m     30\u001b[0m             \u001b[0mtheta\u001b[0m\u001b[0;34m[\u001b[0m\u001b[0;34m:\u001b[0m\u001b[0;34m,\u001b[0m \u001b[0mindex_map\u001b[0m\u001b[0;34m[\u001b[0m\u001b[0mindex\u001b[0m\u001b[0;34m]\u001b[0m\u001b[0;34m]\u001b[0m \u001b[0;34m*=\u001b[0m \u001b[0mHcached\u001b[0m\u001b[0;34m[\u001b[0m\u001b[0;34m:\u001b[0m\u001b[0;34m,\u001b[0m \u001b[0md\u001b[0m\u001b[0;34m,\u001b[0m \u001b[0mindex\u001b[0m\u001b[0;34m[\u001b[0m\u001b[0md\u001b[0m\u001b[0;34m]\u001b[0m\u001b[0;34m]\u001b[0m\u001b[0;34m\u001b[0m\u001b[0m\n\u001b[1;32m     31\u001b[0m \u001b[0;34m\u001b[0m\u001b[0m\n",
      "\u001b[0;31mIndexError\u001b[0m: index 1 is out of bounds for axis 1 with size 1"
     ]
    }
   ],
   "source": [
    "x = np.array([[1.], [2.], [3.], [4.], [5.], [6.]])\n",
    "herm = hermite_basis(x)"
   ]
  },
  {
   "cell_type": "code",
   "execution_count": null,
   "metadata": {
    "collapsed": true
   },
   "outputs": [],
   "source": []
  }
 ],
 "metadata": {
  "kernelspec": {
   "display_name": "Python [default]",
   "language": "python",
   "name": "python3"
  },
  "language_info": {
   "codemirror_mode": {
    "name": "ipython",
    "version": 3
   },
   "file_extension": ".py",
   "mimetype": "text/x-python",
   "name": "python",
   "nbconvert_exporter": "python",
   "pygments_lexer": "ipython3",
   "version": "3.5.4"
  }
 },
 "nbformat": 4,
 "nbformat_minor": 2
}
