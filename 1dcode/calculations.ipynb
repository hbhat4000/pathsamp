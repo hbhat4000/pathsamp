{
 "cells": [
  {
   "cell_type": "code",
   "execution_count": 1,
   "metadata": {
    "collapsed": true
   },
   "outputs": [],
   "source": [
    "import numpy as np\n",
    "import polynomial_functions as pfn\n",
    "import em_functions as em\n",
    "import parameters as prm\n",
    "\n",
    "%matplotlib inline\n",
    "from matplotlib import pyplot as plt\n",
    "\n",
    "import pickle"
   ]
  },
  {
   "cell_type": "code",
   "execution_count": 29,
   "metadata": {
    "collapsed": true
   },
   "outputs": [],
   "source": [
    "def H(x, degree):\n",
    "    switcher = {\n",
    "        0: 0.63161877774606470129,\n",
    "        1: 0.63161877774606470129 * x,\n",
    "        2: 0.44662192086900116570 * (np.power(x, 2) - 1),\n",
    "        3: 0.25785728623970555997 * (np.power(x, 3) - 3 * x),\n",
    "        4: 0.12892864311985277998 * (np.power(x, 4) - 6 * np.power(x, 2) + 3),\n",
    "    }\n",
    "    return switcher.get(degree, \"Polynomial degree exceeded\")\n",
    "\n",
    "# this function defines our hermite basis functions\n",
    "# x must be a numpy array, a column vector of points\n",
    "# (x = vector of points at which we seek to evaluate the basis functions)\n",
    "# dof is the number of degrees of freedom, i.e., the number of basis functions.\n",
    "def hermite_basis(x):\n",
    "    theta = np.full((x.shape[0], 4), 1.)\n",
    "    index_map = index_mapping()\n",
    "\n",
    "    Hcached = np.zeros((x.shape[0], x.shape[1], 4))\n",
    "    for d in range(4):\n",
    "        Hcached[:, :, d] = H(x, d)\n",
    "\n",
    "    for index in index_map:\n",
    "        for d in range(1):\n",
    "            theta[:, index_map[index]] *= Hcached[:, d, index[d]]\n",
    "\n",
    "    return theta\n",
    "\n",
    "def old_hermite_basis(x):\n",
    "    theta = np.full((x.shape[0], 4), 1.)\n",
    "    index_map = index_mapping()\n",
    "\n",
    "    for index in index_map:\n",
    "        for d in range(1):\n",
    "            theta[:, index_map[index]] *= H(x[:, d], index[d])\n",
    "\n",
    "    return theta\n",
    "\n",
    "def index_mapping():\n",
    "    index = 0\n",
    "    index_map = {}\n",
    "\n",
    "    for d in range(0, 4):\n",
    "        for i in range(0, d + 1):\n",
    "            if (i == d):\n",
    "                index_set = (i, i)\n",
    "                index_map[index_set] = index\n",
    "                index += 1\n",
    "\n",
    "                return index_map"
   ]
  },
  {
   "cell_type": "code",
   "execution_count": 30,
   "metadata": {
    "scrolled": false
   },
   "outputs": [
    {
     "name": "stdout",
     "output_type": "stream",
     "text": [
      "[[ 0.63161878  1.          1.          1.        ]\n",
      " [ 0.63161878  1.          1.          1.        ]\n",
      " [ 0.63161878  1.          1.          1.        ]\n",
      " [ 0.63161878  1.          1.          1.        ]\n",
      " [ 0.63161878  1.          1.          1.        ]\n",
      " [ 0.63161878  1.          1.          1.        ]]\n",
      "[[ 0.63161878  1.          1.          1.        ]\n",
      " [ 0.63161878  1.          1.          1.        ]\n",
      " [ 0.63161878  1.          1.          1.        ]\n",
      " [ 0.63161878  1.          1.          1.        ]\n",
      " [ 0.63161878  1.          1.          1.        ]\n",
      " [ 0.63161878  1.          1.          1.        ]]\n",
      "[[ 0.  0.  0.  0.]\n",
      " [ 0.  0.  0.  0.]\n",
      " [ 0.  0.  0.  0.]\n",
      " [ 0.  0.  0.  0.]\n",
      " [ 0.  0.  0.  0.]\n",
      " [ 0.  0.  0.  0.]]\n"
     ]
    }
   ],
   "source": [
    "x = np.array([[1.], [2.], [3.], [4.], [5.], [6.]])\n",
    "old_herm = old_hermite_basis(x)\n",
    "print(old_herm)\n",
    "herm = hermite_basis(x)\n",
    "print(herm)\n",
    "print(herm-old_herm)"
   ]
  },
  {
   "cell_type": "code",
   "execution_count": null,
   "metadata": {
    "collapsed": true
   },
   "outputs": [],
   "source": []
  }
 ],
 "metadata": {
  "kernelspec": {
   "display_name": "Python [default]",
   "language": "python",
   "name": "python3"
  },
  "language_info": {
   "codemirror_mode": {
    "name": "ipython",
    "version": 3
   },
   "file_extension": ".py",
   "mimetype": "text/x-python",
   "name": "python",
   "nbconvert_exporter": "python",
   "pygments_lexer": "ipython3",
   "version": "3.5.4"
  }
 },
 "nbformat": 4,
 "nbformat_minor": 2
}
