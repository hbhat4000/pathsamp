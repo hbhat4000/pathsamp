{
 "cells": [
  {
   "cell_type": "code",
   "execution_count": 1,
   "metadata": {
    "collapsed": true
   },
   "outputs": [],
   "source": [
    "import numpy as np\n",
    "import newbridge as nb\n",
    "import parameters as prm\n",
    "\n",
    "%matplotlib inline\n",
    "from matplotlib import pyplot as plt\n",
    "\n",
    "import pickle"
   ]
  },
  {
   "cell_type": "code",
   "execution_count": 2,
   "metadata": {
    "collapsed": false
   },
   "outputs": [
    {
     "name": "stdout",
     "output_type": "stream",
     "text": [
      "1 1.05377403526\n",
      "2 0.755613312784\n",
      "3 0.889059791308\n",
      "4 0.828821064399\n",
      "5 0.974757437189\n",
      "6 0.915793355847\n",
      "7 0.885100598412\n",
      "8 0.847542678357\n",
      "9 0.93370677747\n",
      "10 0.768798437344\n"
     ]
    },
    {
     "data": {
      "image/png": "[encoded data removed]",
      "text/plain": [
       "<matplotlib.figure.Figure at 0x7f5d05442940>"
      ]
     },
     "metadata": {},
     "output_type": "display_data"
    }
   ],
   "source": [
    "meta_list = []\n",
    "for i in range(1, 11):\n",
    "    with open('./varying_subintervals/subint_' + str(i) + '.pkl','rb') as f:\n",
    "        error_list, theta_list, estimated_theta, true_theta, errors, em_param, data_param, euler_param, sim_param = pickle.load(f)\n",
    "    meta_list.append((error_list, theta_list, estimated_theta, true_theta, errors, em_param, data_param, euler_param, sim_param))\n",
    "    \n",
    "for subint in meta_list:\n",
    "    sint = subint[5].numsubintervals\n",
    "    print(sint, subint[4][0])\n",
    "    plt.plot(sint, subint[4][0])\n",
    "plt.show()"
   ]
  },
  {
   "cell_type": "code",
   "execution_count": 3,
   "metadata": {
    "collapsed": false
   },
   "outputs": [
    {
     "name": "stdout",
     "output_type": "stream",
     "text": [
      "1.25298506688 [ 0.00965967] [-0.09034033]\n",
      "1.2385463977 [ 0.0195985] [-0.0804015]\n",
      "0.930012692446 [ 0.02893332] [-0.07106668]\n",
      "0.573458609959 [ 0.03906646] [-0.06093354]\n",
      "0.109507694087 [ 0.04929813] [-0.05070187]\n",
      "0.273218974461 [ 0.06022502] [-0.03977498]\n",
      "0.571772871414 [ 0.06911309] [-0.03088691]\n",
      "0.279583035957 [ 0.07886525] [-0.02113475]\n",
      "0.194969024603 [ 0.09083272] [-0.00916728]\n",
      "0.0697955629559 [ 0.09880483] [-0.00119517]\n"
     ]
    }
   ],
   "source": [
    "meta_list = []\n",
    "for i in range(1, 11):\n",
    "    with open('./varying_num_timeseries/ts_' + str(i) + '.pkl','rb') as f:\n",
    "        error_list, theta_list, estimated_theta, true_theta, inferred_gvec, errors, em_param, data_param, euler_param, sim_param = pickle.load(f)\n",
    "    meta_list.append((error_list, theta_list, estimated_theta, true_theta, inferred_gvec, errors, em_param, data_param, euler_param, sim_param))\n",
    "    \n",
    "for ts in meta_list:\n",
    "    print(ts[5][0], ts[4], ts[5][4])"
   ]
  },
  {
   "cell_type": "code",
   "execution_count": 4,
   "metadata": {
    "collapsed": false
   },
   "outputs": [
    {
     "data": {
      "image/png": "[encoded data removed]",
      "text/plain": [
       "<matplotlib.figure.Figure at 0x7f5d02fc5da0>"
      ]
     },
     "metadata": {},
     "output_type": "display_data"
    }
   ],
   "source": [
    "for i in range(0, 10):\n",
    "    plt.plot(i, i**2)\n",
    "plt.show()"
   ]
  },
  {
   "cell_type": "code",
   "execution_count": null,
   "metadata": {
    "collapsed": true
   },
   "outputs": [],
   "source": []
  }
 ],
 "metadata": {
  "kernelspec": {
   "display_name": "Python 3",
   "language": "python",
   "name": "python3"
  },
  "language_info": {
   "codemirror_mode": {
    "name": "ipython",
    "version": 3
   },
   "file_extension": ".py",
   "mimetype": "text/x-python",
   "name": "python",
   "nbconvert_exporter": "python",
   "pygments_lexer": "ipython3",
   "version": "3.6.0"
  }
 },
 "nbformat": 4,
 "nbformat_minor": 2
}
