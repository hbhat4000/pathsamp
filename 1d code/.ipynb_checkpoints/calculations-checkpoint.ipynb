{
 "cells": [
  {
   "cell_type": "code",
   "execution_count": 1,
   "metadata": {
    "collapsed": true
   },
   "outputs": [],
   "source": [
    "import numpy as np\n",
    "import newbridge as nb\n",
    "import parameters as prm\n",
    "%matplotlib inline\n",
    "from matplotlib import pyplot as plt"
   ]
  },
  {
   "cell_type": "code",
   "execution_count": 2,
   "metadata": {
    "collapsed": true
   },
   "outputs": [],
   "source": [
    "# load data\n",
    "import pickle\n",
    "with open('./data/nem_1D_noise1.pkl','rb') as f:\n",
    "    xout, tout, x_without_noise, euler_param, sim_param = pickle.load(f)"
   ]
  },
  {
   "cell_type": "code",
   "execution_count": 3,
   "metadata": {
    "collapsed": false
   },
   "outputs": [
    {
     "name": "stdout",
     "output_type": "stream",
     "text": [
      "(10, 101, 1)\n",
      "(10, 101)\n"
     ]
    }
   ],
   "source": [
    "print(xout.shape)\n",
    "print(tout.shape)"
   ]
  },
  {
   "cell_type": "code",
   "execution_count": 4,
   "metadata": {
    "collapsed": false
   },
   "outputs": [
    {
     "name": "stdout",
     "output_type": "stream",
     "text": [
      "{0: 0, 1: 1, 2: 2, 3: 3}\n"
     ]
    }
   ],
   "source": [
    "print(nb.index_mapping())"
   ]
  },
  {
   "cell_type": "code",
   "execution_count": 12,
   "metadata": {
    "collapsed": true
   },
   "outputs": [],
   "source": [
    "theta = np.array([1., 2., 2., 4.])\n",
    "polytheta = nb.hermite_to_ordinary(theta)\n",
    "hermtheta = np.array([nb.H(0, theta[0]), nb.H(1, theta[1]), nb.H(2, theta[2]), nb.H(3, theta[3])])"
   ]
  },
  {
   "cell_type": "code",
   "execution_count": 13,
   "metadata": {
    "collapsed": false
   },
   "outputs": [
    {
     "name": "stdout",
     "output_type": "stream",
     "text": [
      "[ 0.63161878  2.1787625   0.         -0.51571457]\n",
      "[  0.63161878   1.26323756   1.33986576  13.40857888]\n"
     ]
    }
   ],
   "source": [
    "print(newtheta)\n",
    "print(hermtheta)"
   ]
  },
  {
   "cell_type": "code",
   "execution_count": 21,
   "metadata": {
    "collapsed": false
   },
   "outputs": [],
   "source": [
    "def H(degree, x):\n",
    "    switcher = {\n",
    "        0: 0.63161877774606470129,\n",
    "        1: 0.63161877774606470129 * x,\n",
    "        2: 0.44662192086900116570 * (np.power(x, 2) - 1),\n",
    "        3: 0.25785728623970555997 * (np.power(x, 3) - 3 * x),\n",
    "        4: 0.12892864311985277998 * (np.power(x, 4) - 6 * np.power(x, 2) + 3),\n",
    "    }\n",
    "    return switcher.get(degree, \"Polynomial degree exceeded\")\n",
    "\n",
    "def index_mapping():\n",
    "    index = 0\n",
    "    index_map = {}\n",
    "\n",
    "    for d in range(0, prm.num_hermite_terms):\n",
    "        for i in range(0, d + 1):\n",
    "            if (i == d):\n",
    "                index_set = (i)\n",
    "                index_map[index_set] = index\n",
    "                index += 1\n",
    "\n",
    "    return index_map\n",
    "\n",
    "def hermite_to_ordinary(theta):\n",
    "    transformation = np.zeros((prm.dof, prm.dof))\n",
    "    index_map = index_mapping()\n",
    "    index = 0\n",
    "    \n",
    "    mat = np.zeros((prm.num_hermite_terms, prm.num_hermite_terms))\n",
    "    mat[0, 0] = H(0, 1)\n",
    "    mat[1, 1] = H(1, 1)\n",
    "    mat[2, 2] = H(2, 1)\n",
    "    mat[2, 0] = -mat[2, 2]\n",
    "    mat[3, 3] = H(3, 1)\n",
    "    mat[3, 1] = -3 * mat[3, 3]\n",
    "    print(mat)\n",
    "\n",
    "    for d in range(0, prm.num_hermite_terms):\n",
    "        for i in range(0, d + 1):\n",
    "            if (i == d):\n",
    "                transformation[index, index] = mat[i, i]\n",
    "                if (i >= 2):\n",
    "                    new_index_set = (i - 2)\n",
    "                    new_index = index_map[new_index_set]\n",
    "                    transformation[new_index, index] = mat[i - 2, i]\n",
    "                    \n",
    "                index += 1\n",
    "    \n",
    "    print(transformation)\n",
    "    transformed_theta = np.matmul(transformation, theta)\n",
    "    return np.transpose(transformed_theta)"
   ]
  },
  {
   "cell_type": "code",
   "execution_count": 23,
   "metadata": {
    "collapsed": false
   },
   "outputs": [
    {
     "name": "stdout",
     "output_type": "stream",
     "text": [
      "[[ 0.63161878  0.          0.          0.        ]\n",
      " [ 0.          0.63161878  0.          0.        ]\n",
      " [ 0.          0.          0.          0.        ]\n",
      " [ 0.          0.          0.         -0.51571457]]\n",
      "[ 0.63161878  1.26323756  0.         -2.06285829]\n"
     ]
    }
   ],
   "source": [
    "theta = np.array([1., 2., 3., 4.])\n",
    "print(hermite_to_ordinary(theta))"
   ]
  },
  {
   "cell_type": "code",
   "execution_count": null,
   "metadata": {
    "collapsed": true
   },
   "outputs": [],
   "source": []
  }
 ],
 "metadata": {
  "kernelspec": {
   "display_name": "Python 3",
   "language": "python",
   "name": "python3"
  },
  "language_info": {
   "codemirror_mode": {
    "name": "ipython",
    "version": 3
   },
   "file_extension": ".py",
   "mimetype": "text/x-python",
   "name": "python",
   "nbconvert_exporter": "python",
   "pygments_lexer": "ipython3",
   "version": "3.6.0"
  }
 },
 "nbformat": 4,
 "nbformat_minor": 2
}
