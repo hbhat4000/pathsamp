{
 "cells": [
  {
   "cell_type": "code",
   "execution_count": 1,
   "metadata": {},
   "outputs": [],
   "source": [
    "import numpy as np\n",
    "import newbridge as nb\n",
    "import parameters as prm\n",
    "%matplotlib inline\n",
    "from matplotlib import pyplot as plt"
   ]
  },
  {
   "cell_type": "code",
   "execution_count": 2,
   "metadata": {},
   "outputs": [],
   "source": [
    "# load data\n",
    "import pickle\n",
    "with open('nem_1D_test.pkl','rb') as f:\n",
    "    xout, tout, x_without_noise, euler_param, sim_param = pickle.load(f)"
   ]
  },
  {
   "cell_type": "code",
   "execution_count": 3,
   "metadata": {},
   "outputs": [
    {
     "name": "stdout",
     "output_type": "stream",
     "text": [
      "(13, 101, 1)\n",
      "(13, 101)\n"
     ]
    }
   ],
   "source": [
    "print(xout.shape)\n",
    "print(tout.shape)"
   ]
  },
  {
   "cell_type": "code",
   "execution_count": 5,
   "metadata": {},
   "outputs": [
    {
     "data": {
      "text/plain": [
       "<matplotlib.legend.Legend at 0x7f2dfb978668>"
      ]
     },
     "execution_count": 5,
     "metadata": {},
     "output_type": "execute_result"
    },
    {
     "data": {
      "image/png": "[encoded data removed]",
      "text/plain": [
       "<matplotlib.figure.Figure at 0x7f2dfb99a160>"
      ]
     },
     "metadata": {},
     "output_type": "display_data"
    }
   ],
   "source": [
    "p0, = plt.plot(tout[0, :], xout[0, :, 0], label='time series 0')\n",
    "p1, = plt.plot(tout[0, :], xout[1, :, 0], label='time series 1')\n",
    "p2, = plt.plot(tout[0, :], xout[2, :, 0], label='time series 2')\n",
    "p3, = plt.plot(tout[0, :], xout[3, :, 0], label='time series 3')\n",
    "p4, = plt.plot(tout[0, :], xout[4, :, 0], label='time series 4')\n",
    "p5, = plt.plot(tout[0, :], xout[5, :, 0], label='time series 5')\n",
    "p6, = plt.plot(tout[0, :], xout[6, :, 0], label='time series 6')\n",
    "p7, = plt.plot(tout[0, :], xout[7, :, 0], label='time series 7')\n",
    "p8, = plt.plot(tout[0, :], xout[8, :, 0], label='time series 8')\n",
    "p9, = plt.plot(tout[0, :], xout[9, :, 0], label='time series 9')\n",
    "p10, = plt.plot(tout[0, :], xout[10, :, 0], label='time series 10')\n",
    "p11, = plt.plot(tout[0, :], xout[11, :, 0], label='time series 11')\n",
    "p12, = plt.plot(tout[0, :], xout[12, :, 0], label='time series 12')\n",
    "\n",
    "plt.legend(handles = [p0, p1, p2, p3, p4, p5, p6, p7, p8, p9, p10, p11, p12], bbox_to_anchor = (1.05, 1), loc = 2, borderaxespad = 0.)"
   ]
  },
  {
   "cell_type": "code",
   "execution_count": null,
   "metadata": {
    "collapsed": true
   },
   "outputs": [],
   "source": [
    "# Plotting one trajectory with same initial conditions\n",
    "#  and different level of noise\n",
    "\n",
    "# Note: sim_param.gvec has the level of noise recorded when the data is generated\n",
    "with open('nem_1D_noise1.pkl', 'rb') as f:\n",
    "    xout_1, tout_1, x_without_noise, euler_param, sim_param = pickle.load(f) \n",
    "with open('nem_1D_noise2.pkl', 'rb') as f:\n",
    "    xout_2, tout_2, x_without_noise, euler_param, sim_param = pickle.load(f)\n",
    "with open('nem_1D_noise3.pkl', 'rb') as f:\n",
    "    xout_3, tout_3, x_without_noise, euler_param, sim_param = pickle.load(f)\n",
    "with open('nem_1D_noise4.pkl', 'rb') as f:\n",
    "    xout_4, tout_4, x_without_noise, euler_param, sim_param = pickle.load(f)\n",
    "with open('nem_1D_noise5.pkl', 'rb') as f:\n",
    "    xout_5, tout_5, x_without_noise, euler_param, sim_param = pickle.load(f)\n",
    "with open('nem_1D_noise6.pkl', 'rb') as f:\n",
    "    xout_6, tout_6, x_without_noise, euler_param, sim_param = pickle.load(f)\n",
    "with open('nem_1D_noise7.pkl', 'rb') as f:\n",
    "    xout_7, tout_7, x_without_noise, euler_param, sim_param = pickle.load(f)\n",
    "with open('nem_1D_noise8.pkl', 'rb') as f:\n",
    "    xout_8, tout_8, x_without_noise, euler_param, sim_param = pickle.load(f)\n",
    "with open('nem_1D_noise9.pkl', 'rb') as f:\n",
    "    xout_9, tout_9, x_without_noise, euler_param, sim_param = pickle.load(f)"
   ]
  },
  {
   "cell_type": "code",
   "execution_count": null,
   "metadata": {},
   "outputs": [],
   "source": [
    "p0, = plt.plot(tout_1[0, :], xout_1[0, :, 0], label='noise = 0.5')\n",
    "p1, = plt.plot(tout_2[0, :], xout_2[0, :, 0], label='noise = 0.25')\n",
    "p2, = plt.plot(tout_3[0, :], xout_3[0, :, 0], label='noise = 0.1')\n",
    "p3, = plt.plot(tout_4[0, :], xout_4[0, :, 0], label='noise = 0.05')\n",
    "p4, = plt.plot(tout_5[0, :], xout_5[0, :, 0], label='noise = 0.025')\n",
    "p5, = plt.plot(tout_6[0, :], xout_6[0, :, 0], label='noise = 0.01')\n",
    "p6, = plt.plot(tout_7[0, :], xout_7[0, :, 0], label='noise = 0.005')\n",
    "p7, = plt.plot(tout_8[0, :], xout_8[0, :, 0], label='noise = 0.001')\n",
    "p8, = plt.plot(tout_9[0, :], xout_9[0, :, 0], label='noise = 0.0001')\n",
    "plt.legend(handles = [p0, p1, p2, p3, p4, p5, p6, p7, p8], bbox_to_anchor = (1.05, 1), loc = 2, borderaxespad = 0.)"
   ]
  },
  {
   "cell_type": "code",
   "execution_count": null,
   "metadata": {
    "collapsed": true
   },
   "outputs": [],
   "source": []
  }
 ],
 "metadata": {
  "kernelspec": {
   "display_name": "Python [default]",
   "language": "python",
   "name": "python3"
  },
  "language_info": {
   "codemirror_mode": {
    "name": "ipython",
    "version": 3
   },
   "file_extension": ".py",
   "mimetype": "text/x-python",
   "name": "python",
   "nbconvert_exporter": "python",
   "pygments_lexer": "ipython3",
   "version": "3.5.4"
  }
 },
 "nbformat": 4,
 "nbformat_minor": 2
}
