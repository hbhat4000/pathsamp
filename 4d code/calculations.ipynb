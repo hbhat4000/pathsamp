{
 "cells": [
  {
   "cell_type": "code",
   "execution_count": 1,
   "metadata": {
    "collapsed": true
   },
   "outputs": [],
   "source": [
    "import numpy as np\n",
    "import newbridge as nb\n",
    "import parameters as prm\n",
    "%matplotlib inline\n",
    "from matplotlib import pyplot as plt"
   ]
  },
  {
   "cell_type": "code",
   "execution_count": 3,
   "metadata": {
    "collapsed": false
   },
   "outputs": [],
   "source": [
    "# load data\n",
    "import pickle\n",
    "with open('./data/noise_2.pkl','rb') as f:\n",
    "    xout, tout, x_without_noise, euler_param, sim_param = pickle.load(f)"
   ]
  },
  {
   "cell_type": "code",
   "execution_count": 4,
   "metadata": {
    "collapsed": false
   },
   "outputs": [
    {
     "name": "stdout",
     "output_type": "stream",
     "text": [
      "(10, 1001, 4)\n",
      "(10, 1001)\n"
     ]
    }
   ],
   "source": [
    "print(xout.shape)\n",
    "print(tout.shape)"
   ]
  },
  {
   "cell_type": "code",
   "execution_count": 5,
   "metadata": {
    "collapsed": true
   },
   "outputs": [],
   "source": [
    "def H(degree, x):\n",
    "    switcher = {\n",
    "        0: 0.63161877774606470129,\n",
    "        1: 0.63161877774606470129 * x,\n",
    "        2: 0.44662192086900116570 * (np.power(x, 2) - 1),\n",
    "        3: 0.25785728623970555997 * (np.power(x, 3) - 3 * x),\n",
    "        4: 0.12892864311985277998 * (np.power(x, 4) - 6 * np.power(x, 2) + 3),\n",
    "    }\n",
    "    return switcher.get(degree, \"Polynomial degree exceeded\")\n",
    "\n",
    "def hermite_basis(x):\n",
    "#     y = np.zeros((x.shape[0], x.shape[1]))\n",
    "    index = 0\n",
    "\n",
    "    for d in range(0, 7):\n",
    "        for i in range(0, d + 1):\n",
    "            for j in range(0, d + 1):\n",
    "                if (i + j == d):\n",
    "#                                     print(d, i, j, k, l, m, n, index)\n",
    "#                                     y[:, index] = H(i, x[:, 0]) * H(j, x[:, 1]) * H(k, x[:, 2]) * H(l, x[:, 3]) * H(m, x[:, 4]) * H(n, x[:, 5])\n",
    "                    index += 1\n",
    "\n",
    "    print(index)\n",
    "#     return y"
   ]
  },
  {
   "cell_type": "code",
   "execution_count": 6,
   "metadata": {
    "collapsed": false
   },
   "outputs": [
    {
     "name": "stdout",
     "output_type": "stream",
     "text": [
      "28\n"
     ]
    }
   ],
   "source": [
    "x = np.array([[1., 2., 3., 4., 5., 6.], [2., 4., 6., 8., 9., 10.]])\n",
    "y = hermite_basis(x)"
   ]
  },
  {
   "cell_type": "code",
   "execution_count": 7,
   "metadata": {
    "collapsed": false
   },
   "outputs": [
    {
     "name": "stdout",
     "output_type": "stream",
     "text": [
      "35\n"
     ]
    }
   ],
   "source": [
    "import numpy as np\n",
    "def choose(degree, dim):\n",
    "    return np.math.factorial(degree) / (np.math.factorial(dim) * np.math.factorial(degree - dim))\n",
    "\n",
    "degree = 4\n",
    "dim = 4\n",
    "dof = int(choose(degree + dim - 1, dim))\n",
    "print(dof)"
   ]
  },
  {
   "cell_type": "code",
   "execution_count": 8,
   "metadata": {
    "collapsed": true
   },
   "outputs": [],
   "source": [
    "def H(degree, x):\n",
    "    switcher = {\n",
    "        0: 0.63161877774606470129,\n",
    "        1: 0.63161877774606470129 * x,\n",
    "        2: 0.44662192086900116570 * (np.power(x, 2) - 1),\n",
    "        3: 0.25785728623970555997 * (np.power(x, 3) - 3 * x),\n",
    "        4: 0.12892864311985277998 * (np.power(x, 4) - 6 * np.power(x, 2) + 3),\n",
    "    }\n",
    "    return switcher.get(degree, \"Polynomial degree exceeded\")\n",
    "\n",
    "def hermite_basis(x):\n",
    "    y = np.zeros((x.shape[0], prm.dof))\n",
    "    index = 0\n",
    "\n",
    "    for d in range(0, prm.num_hermite_terms):\n",
    "        for i in range(0, d + 1):\n",
    "            for j in range(0, d + 1):\n",
    "                for k in range(0, d + 1):\n",
    "                    for l in range(0, d + 1):\n",
    "                        if (i + j + k + l == d):\n",
    "                            # print(\"d\", d, \"i\", i, \"j\", j, \"k\", k, \"l\", l, \"index\", index)\n",
    "                            y[:, index] = H(i, x[:, 0]) * H(j, x[:, 1]) * H(k, x[:, 2]) * H(l, x[:, 3])\n",
    "                            index += 1\n",
    "\n",
    "    return y\n",
    "\n",
    "def index_mapping():\n",
    "    index = 0\n",
    "    index_map = {}\n",
    "\n",
    "    for d in range(0, prm.num_hermite_terms):\n",
    "        for i in range(0, d + 1):\n",
    "            for j in range(0, d + 1):\n",
    "                for k in range(0, d + 1):\n",
    "                    for l in range(0, d + 1):\n",
    "                        if (i + j + k + l == d):\n",
    "                            index_set = (i, j, k, l)\n",
    "                            index_map[index_set] = index\n",
    "                            index += 1\n",
    "\n",
    "    return index_map\n",
    "\n",
    "def hermite_to_ordinary(theta):\n",
    "    transformation = np.zeros((prm.dof, prm.dof))\n",
    "    y = np.zeros((x.shape[0], prm.dof))\n",
    "    index_map = index_mapping()\n",
    "    index = 0\n",
    "    \n",
    "    mat = np.zeros((prm.num_hermite_terms, prm.num_hermite_terms))\n",
    "    mat[0, 0] = H(0, 1)\n",
    "    mat[1, 1] = H(1, 1)\n",
    "    mat[2, 2] = H(2, 1)\n",
    "    mat[2, 0] = -mat[2, 2]\n",
    "    mat[3, 3] = H(3, 1)\n",
    "    mat[3, 1] = -3 * mat[3, 3]\n",
    "\n",
    "    for d in range(0, prm.num_hermite_terms):\n",
    "        for i in range(0, d + 1):\n",
    "            for j in range(0, d + 1):\n",
    "                for k in range(0, d + 1):\n",
    "                    for l in range(0, d + 1):\n",
    "                        if (i + j + k + l == d):\n",
    "                            if (i >= 2):\n",
    "                                new_index_set = (i - 2, j, k, l)\n",
    "                                new_index = index_map[new_index_set]\n",
    "                                transformation[new_index, index] = mat[i, i - 2] * mat[j, j] * mat[k, k] * mat[l, l]\n",
    "                            if (j >= 2):\n",
    "                                new_index_set = (i, j - 2, k, l)\n",
    "                                new_index = index_map[new_index_set]\n",
    "                                transformation[new_index, index] = mat[i, i] * mat[j, j - 2] * mat[k, k] * mat[l, l]\n",
    "                            if (k >= 2):\n",
    "                                new_index_set = (i, j, k - 2, l)\n",
    "                                new_index = index_map[new_index_set]\n",
    "                                transformation[new_index, index] = mat[i, i] * mat[j, j] * mat[k, k - 2] * mat[l, l]\n",
    "                            if (l >= 2):\n",
    "                                new_index_set = (i, j, k, l - 2)\n",
    "                                new_index = index_map[new_index_set]\n",
    "                                transformation[new_index, index] = mat[i, i] * mat[j, j] * mat[k, k] * mat[l, l - 2]\n",
    "                            \n",
    "                            # assuming max polynomial degree = 3, then cases would be \n",
    "                            # (3, 0, 0, 0) or (2, 1, 0, 0) or (1, 1, 1, 0) or (0, 0, 0, 0)\n",
    "                            # i.e., at max 1 component has 2 parts\n",
    "                            # Note: degree 4 is much more complicated because it has \n",
    "                            # (4, 0, 0, 0), (2, 2, 0, 0) and (3, 1, 0, 0)\n",
    "                            transformation[index, index] = mat[i, i] * mat[j, j] * mat[k, k] * mat[l, l]\n",
    "                            index += 1\n",
    "                            \n",
    "    transformed_theta = np.matmul(transformation, np.transpose(theta))\n",
    "    return np.transpose(transformed_theta)"
   ]
  },
  {
   "cell_type": "code",
   "execution_count": 9,
   "metadata": {
    "collapsed": false
   },
   "outputs": [],
   "source": [
    "x = np.array([[1., 2., 3., 4.], [2., 4., 6., 8.]])\n",
    "theta = hermite_basis(x)\n",
    "new_theta = hermite_to_ordinary(theta)"
   ]
  },
  {
   "cell_type": "code",
   "execution_count": 10,
   "metadata": {
    "collapsed": false
   },
   "outputs": [
    {
     "name": "stdout",
     "output_type": "stream",
     "text": [
      "[[  0.15915494   0.15915494]\n",
      " [  0.63661977   1.27323954]\n",
      " [  0.47746483   0.95492966]\n",
      " [  0.31830989   0.63661977]\n",
      " [  0.15915494   0.31830989]\n",
      " [  1.68809309   7.08999099]\n",
      " [  1.90985932   7.63943727]\n",
      " [  0.90031632   3.93888388]\n",
      " [  1.27323954   5.09295818]\n",
      " [  0.95492966   3.81971863]\n",
      " [  0.33761862   1.68809309]\n",
      " [  0.63661977   2.54647909]\n",
      " [  0.47746483   1.90985932]\n",
      " [  0.31830989   1.27323954]\n",
      " [  0.           0.33761862]\n",
      " [  3.37868614  31.70766992]\n",
      " [  5.06427928  42.53994594]\n",
      " [  3.60126526  31.51107107]\n",
      " [  1.1695452   12.86499722]\n",
      " [  3.37618619  28.35996396]\n",
      " [  3.81971863  30.55774907]\n",
      " [  1.80063263  15.75553553]\n",
      " [  1.35047447  13.50474474]\n",
      " [  1.01285586  10.12855856]\n",
      " [  0.12994947   3.37868614]\n",
      " [  1.68809309  14.17998198]\n",
      " [  1.90985932  15.27887454]\n",
      " [  0.90031632   7.87776777]\n",
      " [  1.27323954  10.18591636]\n",
      " [  0.95492966   7.63943727]\n",
      " [  0.33761862   3.37618619]\n",
      " [  0.           2.70094895]\n",
      " [  0.           2.02571171]\n",
      " [  0.           1.35047447]\n",
      " [ -0.12994947   0.12994947]]\n",
      "(2, 35)\n",
      "[[  0.0253303    0.0253303 ]\n",
      " [  1.41849657  12.56382677]\n",
      " [  0.53193621   5.16738037]\n",
      " [  0.10132118   1.41849657]\n",
      " [ -0.0253303    0.10132118]\n",
      " [  0.           0.        ]\n",
      " [  0.30396355   1.2158542 ]\n",
      " [  0.           0.        ]\n",
      " [  0.20264237   0.81056947]\n",
      " [  0.15198178   0.6079271 ]\n",
      " [  0.           0.        ]\n",
      " [  0.10132118   0.40528473]\n",
      " [  0.07599089   0.30396355]\n",
      " [  0.05066059   0.20264237]\n",
      " [  0.           0.        ]\n",
      " [ -0.43905846  -4.1203948 ]\n",
      " [  0.           0.        ]\n",
      " [  0.           0.        ]\n",
      " [ -0.15198178  -1.67179953]\n",
      " [  0.           0.        ]\n",
      " [  0.6079271    4.86341681]\n",
      " [  0.           0.        ]\n",
      " [  0.           0.        ]\n",
      " [  0.           0.        ]\n",
      " [ -0.01688686  -0.43905846]\n",
      " [  0.           0.        ]\n",
      " [  0.30396355   2.43170841]\n",
      " [  0.           0.        ]\n",
      " [  0.20264237   1.62113894]\n",
      " [  0.15198178   1.2158542 ]\n",
      " [  0.           0.        ]\n",
      " [  0.           0.        ]\n",
      " [  0.           0.        ]\n",
      " [  0.           0.        ]\n",
      " [  0.01688686  -0.01688686]]\n",
      "(2, 35)\n"
     ]
    }
   ],
   "source": [
    "print(np.transpose(theta))\n",
    "print(theta.shape)\n",
    "print(np.transpose(new_theta))\n",
    "print(new_theta.shape)"
   ]
  },
  {
   "cell_type": "code",
   "execution_count": null,
   "metadata": {
    "collapsed": true
   },
   "outputs": [],
   "source": []
  },
  {
   "cell_type": "code",
   "execution_count": 11,
   "metadata": {
    "collapsed": true
   },
   "outputs": [],
   "source": [
    "index = index_mapping()"
   ]
  },
  {
   "cell_type": "code",
   "execution_count": 12,
   "metadata": {
    "collapsed": false
   },
   "outputs": [
    {
     "name": "stdout",
     "output_type": "stream",
     "text": [
      "{(0, 0, 0, 0): 0, (0, 0, 0, 1): 1, (0, 0, 1, 0): 2, (0, 1, 0, 0): 3, (1, 0, 0, 0): 4, (0, 0, 0, 2): 5, (0, 0, 1, 1): 6, (0, 0, 2, 0): 7, (0, 1, 0, 1): 8, (0, 1, 1, 0): 9, (0, 2, 0, 0): 10, (1, 0, 0, 1): 11, (1, 0, 1, 0): 12, (1, 1, 0, 0): 13, (2, 0, 0, 0): 14, (0, 0, 0, 3): 15, (0, 0, 1, 2): 16, (0, 0, 2, 1): 17, (0, 0, 3, 0): 18, (0, 1, 0, 2): 19, (0, 1, 1, 1): 20, (0, 1, 2, 0): 21, (0, 2, 0, 1): 22, (0, 2, 1, 0): 23, (0, 3, 0, 0): 24, (1, 0, 0, 2): 25, (1, 0, 1, 1): 26, (1, 0, 2, 0): 27, (1, 1, 0, 1): 28, (1, 1, 1, 0): 29, (1, 2, 0, 0): 30, (2, 0, 0, 1): 31, (2, 0, 1, 0): 32, (2, 1, 0, 0): 33, (3, 0, 0, 0): 34}\n"
     ]
    }
   ],
   "source": [
    "print(index)"
   ]
  },
  {
   "cell_type": "code",
   "execution_count": null,
   "metadata": {
    "collapsed": true
   },
   "outputs": [],
   "source": []
  }
 ],
 "metadata": {
  "kernelspec": {
   "display_name": "Python 3",
   "language": "python",
   "name": "python3"
  },
  "language_info": {
   "codemirror_mode": {
    "name": "ipython",
    "version": 3
   },
   "file_extension": ".py",
   "mimetype": "text/x-python",
   "name": "python",
   "nbconvert_exporter": "python",
   "pygments_lexer": "ipython3",
   "version": "3.6.0"
  }
 },
 "nbformat": 4,
 "nbformat_minor": 2
}
