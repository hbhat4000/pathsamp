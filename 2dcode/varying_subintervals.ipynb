{
 "cells": [
  {
   "cell_type": "code",
   "execution_count": 1,
   "metadata": {
    "collapsed": true
   },
   "outputs": [],
   "source": [
    "import numpy as np\n",
    "import parameters as prm\n",
    "import pickle\n",
    "\n",
    "%matplotlib inline\n",
    "from matplotlib import pyplot as plt"
   ]
  },
  {
   "cell_type": "code",
   "execution_count": 2,
   "metadata": {
    "collapsed": false
   },
   "outputs": [],
   "source": [
    "with open('./varying_subintervals/data/common_data.pkl','rb') as f:\n",
    "    xout, tout, x_without_noise, euler_param, sim_param = pickle.load(f)\n",
    "    \n",
    "with open('./varying_subintervals/results/subint_1.pkl','rb') as f:\n",
    "    error_list, theta_list, transformed_theta, em_param, data_param = pickle.load(f)"
   ]
  },
  {
   "cell_type": "code",
   "execution_count": 3,
   "metadata": {
    "collapsed": false
   },
   "outputs": [
    {
     "name": "stdout",
     "output_type": "stream",
     "text": [
      "[5.9400504490801955, 0.0014688804215222614]\n",
      "[array([[-0.05558032, -0.0455397 ],\n",
      "       [-0.5598727 , -9.89513225],\n",
      "       [ 2.48815003, -0.48717962],\n",
      "       [-0.02485598, -0.02304977],\n",
      "       [ 0.01735912,  0.01046931],\n",
      "       [ 0.        ,  0.        ],\n",
      "       [-0.38093843, -5.97333879],\n",
      "       [-0.03063377, -0.51985929],\n",
      "       [ 0.01841861, -0.02079226],\n",
      "       [ 0.        ,  0.        ]]), array([[-0.05558032, -0.0455397 ],\n",
      "       [-0.5598727 , -9.89513225],\n",
      "       [ 2.48815003, -0.48717962],\n",
      "       [-0.02485598, -0.02304977],\n",
      "       [ 0.01735912,  0.01046931],\n",
      "       [ 0.        ,  0.        ],\n",
      "       [-0.38093843, -5.97333879],\n",
      "       [-0.03063377, -0.51985929],\n",
      "       [ 0.01841861, -0.02079226],\n",
      "       [ 0.        ,  0.        ]])]\n",
      "[[ 0.          0.          1.00126987  0.          0.          0.          0.\n",
      "   0.          0.          0.        ]\n",
      " [ 0.         -1.0231329   0.          0.          0.          0.\n",
      "  -0.97286278 -0.1466496   0.          0.        ]]\n",
      "(2, 10)\n"
     ]
    }
   ],
   "source": [
    "print(error_list)\n",
    "print(theta_list)\n",
    "print(transformed_theta)\n",
    "print(transformed_theta.shape)"
   ]
  },
  {
   "cell_type": "code",
   "execution_count": 22,
   "metadata": {
    "collapsed": false
   },
   "outputs": [],
   "source": [
    "# true curve vs inferred curve\n",
    "def estimated_function(theta, mesh):\n",
    "    y = x\n",
    "    index = 0\n",
    "\n",
    "    for ts in range(x[0][0].shape[0]):\n",
    "        for d in range(0, prm.num_hermite_terms):\n",
    "            for j in range(0, d + 1):\n",
    "                for i in range(0, d + 1):\n",
    "                    if (i + j == d):\n",
    "                        y[d] += theta[d, index] * np.power(x[0], i) * np.power(x[1], j)\n",
    "                        index += 1\n",
    "    return y\n",
    "        \n",
    "def true_function(x):\n",
    "    y = x\n",
    "    y[0, :] = x[1, :]\n",
    "    y[1, :] = -x[0, :] -(x[0, :]**3)\n",
    "    return y "
   ]
  },
  {
   "cell_type": "code",
   "execution_count": 24,
   "metadata": {
    "collapsed": false
   },
   "outputs": [
    {
     "name": "stdout",
     "output_type": "stream",
     "text": [
      "(2, 200)\n",
      "(200,)\n"
     ]
    },
    {
     "data": {
      "text/plain": [
       "[<matplotlib.lines.Line2D at 0x7f09b0f1e358>]"
      ]
     },
     "execution_count": 24,
     "metadata": {},
     "output_type": "execute_result"
    },
    {
     "data": {
      "image/png": "[encoded data removed]",
      "text/plain": [
       "<matplotlib.figure.Figure at 0x7f09b0fce0b8>"
      ]
     },
     "metadata": {},
     "output_type": "display_data"
    }
   ],
   "source": [
    "x = np.array([np.arange(0., 2., .01), np.arange(0., 2., .01)])\n",
    "print(x.shape)\n",
    "\n",
    "y_true = true_function(x)\n",
    "print(y_true[0, :].shape)\n",
    "plt.plot(y_true[0, :], y_true[1, :])\n",
    "\n",
    "# y_est = estimated_function(transformed_theta, mesh)\n",
    "# print(y_est)\n",
    "# plt.plot(y_est[0], y_est[1])"
   ]
  },
  {
   "cell_type": "code",
   "execution_count": 6,
   "metadata": {
    "collapsed": false
   },
   "outputs": [
    {
     "ename": "IndexError",
     "evalue": "index 1 is out of bounds for axis 0 with size 1",
     "output_type": "error",
     "traceback": [
      "\u001b[0;31m---------------------------------------------------------------------------\u001b[0m",
      "\u001b[0;31mIndexError\u001b[0m                                Traceback (most recent call last)",
      "\u001b[0;32m<ipython-input-6-d2e15b9a6443>\u001b[0m in \u001b[0;36m<module>\u001b[0;34m()\u001b[0m\n\u001b[1;32m      2\u001b[0m \u001b[0mx2\u001b[0m \u001b[0;34m=\u001b[0m \u001b[0mnp\u001b[0m\u001b[0;34m.\u001b[0m\u001b[0marray\u001b[0m\u001b[0;34m(\u001b[0m\u001b[0;34m[\u001b[0m\u001b[0mnp\u001b[0m\u001b[0;34m.\u001b[0m\u001b[0marange\u001b[0m\u001b[0;34m(\u001b[0m\u001b[0;34m-\u001b[0m\u001b[0;36m20.\u001b[0m\u001b[0;34m,\u001b[0m \u001b[0;36m20.\u001b[0m\u001b[0;34m,\u001b[0m \u001b[0;36m2.\u001b[0m\u001b[0;34m)\u001b[0m\u001b[0;34m,\u001b[0m \u001b[0mnp\u001b[0m\u001b[0;34m.\u001b[0m\u001b[0marange\u001b[0m\u001b[0;34m(\u001b[0m\u001b[0;34m-\u001b[0m\u001b[0;36m20.\u001b[0m\u001b[0;34m,\u001b[0m \u001b[0;36m20.\u001b[0m\u001b[0;34m,\u001b[0m \u001b[0;36m2.\u001b[0m\u001b[0;34m)\u001b[0m\u001b[0;34m]\u001b[0m\u001b[0;34m)\u001b[0m\u001b[0;34m\u001b[0m\u001b[0m\n\u001b[1;32m      3\u001b[0m \u001b[0;34m\u001b[0m\u001b[0m\n\u001b[0;32m----> 4\u001b[0;31m \u001b[0mplt\u001b[0m\u001b[0;34m.\u001b[0m\u001b[0mplot\u001b[0m\u001b[0;34m(\u001b[0m\u001b[0mx\u001b[0m\u001b[0;34m,\u001b[0m \u001b[0mtrue_function\u001b[0m\u001b[0;34m(\u001b[0m\u001b[0msim_param\u001b[0m\u001b[0;34m,\u001b[0m \u001b[0mx\u001b[0m\u001b[0;34m)\u001b[0m\u001b[0;34m,\u001b[0m \u001b[0;34m'bo'\u001b[0m\u001b[0;34m,\u001b[0m \u001b[0mx\u001b[0m\u001b[0;34m,\u001b[0m \u001b[0mestimated_function\u001b[0m\u001b[0;34m(\u001b[0m\u001b[0mtransformed_theta\u001b[0m\u001b[0;34m,\u001b[0m \u001b[0mx\u001b[0m\u001b[0;34m)\u001b[0m\u001b[0;34m,\u001b[0m \u001b[0;34m'k'\u001b[0m\u001b[0;34m)\u001b[0m\u001b[0;34m\u001b[0m\u001b[0m\n\u001b[0m\u001b[1;32m      5\u001b[0m \u001b[0mplt\u001b[0m\u001b[0;34m.\u001b[0m\u001b[0mshow\u001b[0m\u001b[0;34m(\u001b[0m\u001b[0;34m)\u001b[0m\u001b[0;34m\u001b[0m\u001b[0m\n",
      "\u001b[0;32m<ipython-input-4-0070d8adffff>\u001b[0m in \u001b[0;36mtrue_function\u001b[0;34m(sim_param, x)\u001b[0m\n\u001b[1;32m     15\u001b[0m \u001b[0;32mdef\u001b[0m \u001b[0mtrue_function\u001b[0m\u001b[0;34m(\u001b[0m\u001b[0msim_param\u001b[0m\u001b[0;34m,\u001b[0m \u001b[0mx\u001b[0m\u001b[0;34m)\u001b[0m\u001b[0;34m:\u001b[0m\u001b[0;34m\u001b[0m\u001b[0m\n\u001b[1;32m     16\u001b[0m     \u001b[0my\u001b[0m \u001b[0;34m=\u001b[0m \u001b[0mx\u001b[0m\u001b[0;34m\u001b[0m\u001b[0m\n\u001b[0;32m---> 17\u001b[0;31m     \u001b[0my\u001b[0m\u001b[0;34m[\u001b[0m\u001b[0;36m0\u001b[0m\u001b[0;34m]\u001b[0m \u001b[0;34m=\u001b[0m \u001b[0msim_param\u001b[0m\u001b[0;34m.\u001b[0m\u001b[0malpha\u001b[0m \u001b[0;34m*\u001b[0m \u001b[0mx\u001b[0m\u001b[0;34m[\u001b[0m\u001b[0;36m1\u001b[0m\u001b[0;34m]\u001b[0m\u001b[0;34m\u001b[0m\u001b[0m\n\u001b[0m\u001b[1;32m     18\u001b[0m     \u001b[0my\u001b[0m\u001b[0;34m[\u001b[0m\u001b[0;36m1\u001b[0m\u001b[0;34m]\u001b[0m \u001b[0;34m=\u001b[0m \u001b[0msim_param\u001b[0m\u001b[0;34m.\u001b[0m\u001b[0mbeta\u001b[0m \u001b[0;34m*\u001b[0m \u001b[0mx\u001b[0m\u001b[0;34m[\u001b[0m\u001b[0;36m0\u001b[0m\u001b[0;34m]\u001b[0m \u001b[0;34m+\u001b[0m \u001b[0msim_param\u001b[0m\u001b[0;34m.\u001b[0m\u001b[0mgamma\u001b[0m \u001b[0;34m*\u001b[0m \u001b[0;34m(\u001b[0m\u001b[0mx\u001b[0m\u001b[0;34m[\u001b[0m\u001b[0;36m0\u001b[0m\u001b[0;34m]\u001b[0m\u001b[0;34m**\u001b[0m\u001b[0;36m3\u001b[0m\u001b[0;34m)\u001b[0m\u001b[0;34m\u001b[0m\u001b[0m\n\u001b[1;32m     19\u001b[0m     \u001b[0;32mreturn\u001b[0m \u001b[0my\u001b[0m\u001b[0;34m\u001b[0m\u001b[0m\n",
      "\u001b[0;31mIndexError\u001b[0m: index 1 is out of bounds for axis 0 with size 1"
     ]
    }
   ],
   "source": [
    "x1 = np.array([np.arange(-20., 20., 1.), np.arange(-20., 20., 1.)])\n",
    "x2 = np.array([np.arange(-20., 20., 2.), np.arange(-20., 20., 2.)])\n",
    "\n",
    "plt.plot(x, true_function(sim_param, x), 'bo', x, estimated_function(transformed_theta, x), 'k')\n",
    "plt.show()"
   ]
  },
  {
   "cell_type": "code",
   "execution_count": null,
   "metadata": {
    "collapsed": false
   },
   "outputs": [],
   "source": [
    "# true curve vs inferred curve for varying number of subintervals\n",
    "transformed_theta_list = []\n",
    "for i in range(1, 11):\n",
    "    with open('./varying_subintervals/results/subint_' + str(i) + '.pkl','rb') as f:\n",
    "        _, _, transformed_theta, em_param, _ = pickle.load(f)\n",
    "    transformed_theta_list.append((transformed_theta, em_param))\n",
    "    \n",
    "def true_function(x):\n",
    "    return 1 + x - x**2\n",
    "\n",
    "def estimated_function(theta, x):\n",
    "    return (theta[0, 0] + theta[0, 1]*x + theta[0, 2]*(x**2) + theta[0, 3]*(x**3))\n",
    "\n",
    "x1 = np.arange(-20.0, 20.0, 1)\n",
    "x2 = np.arange(-20.0, 20.0, 1)\n",
    "\n",
    "plt.plot(x1, true_function(x1), 'bo')\n",
    "\n",
    "for theta in transformed_theta_list:\n",
    "    plt.plot(x2, estimated_function(theta[0], x2), label = 'subintervals = ' + str(theta[1].numsubintervals))\n",
    "\n",
    "plt.legend(bbox_to_anchor = (1.05, 1), loc = 2, borderaxespad = 0.)\n",
    "plt.show()"
   ]
  },
  {
   "cell_type": "code",
   "execution_count": null,
   "metadata": {
    "collapsed": false
   },
   "outputs": [],
   "source": [
    "# error trajectories for verying number of subintervals\n",
    "meta_error_list = []\n",
    "for i in range(1, 11):\n",
    "    with open('./varying_subintervals/results/subint_' + str(i) + '.pkl','rb') as f:\n",
    "        error_list, _, _, em_param, _ = pickle.load(f)\n",
    "    meta_error_list.append((error_list, em_param))\n",
    "\n",
    "for error_list in meta_error_list:\n",
    "    plt.plot(error_list[0], label = 'subintervals = ' + str(error_list[1].numsubintervals))\n",
    "\n",
    "plt.legend(bbox_to_anchor = (1.05, 1), loc = 2, borderaxespad = 0.)\n",
    "plt.show()"
   ]
  },
  {
   "cell_type": "code",
   "execution_count": null,
   "metadata": {
    "collapsed": false
   },
   "outputs": [],
   "source": [
    "for error_list in meta_error_list:\n",
    "    print(error_list[0])"
   ]
  },
  {
   "cell_type": "code",
   "execution_count": null,
   "metadata": {
    "collapsed": true
   },
   "outputs": [],
   "source": []
  }
 ],
 "metadata": {
  "kernelspec": {
   "display_name": "Python 3",
   "language": "python",
   "name": "python3"
  },
  "language_info": {
   "codemirror_mode": {
    "name": "ipython",
    "version": 3
   },
   "file_extension": ".py",
   "mimetype": "text/x-python",
   "name": "python",
   "nbconvert_exporter": "python",
   "pygments_lexer": "ipython3",
   "version": "3.6.0"
  }
 },
 "nbformat": 4,
 "nbformat_minor": 2
}
