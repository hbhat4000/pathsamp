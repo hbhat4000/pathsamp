{
 "cells": [
  {
   "cell_type": "code",
   "execution_count": 1,
   "metadata": {
    "collapsed": true
   },
   "outputs": [],
   "source": [
    "import numpy as np\n",
    "import newbridge as nb\n",
    "import parameters as prm\n",
    "%matplotlib inline\n",
    "from matplotlib import pyplot as plt"
   ]
  },
  {
   "cell_type": "code",
   "execution_count": 2,
   "metadata": {
    "collapsed": true
   },
   "outputs": [],
   "source": [
    "# load data\n",
    "import pickle\n",
    "with open('./data/nem_2D.pkl','rb') as f:\n",
    "    xout, tout, x_without_noise, euler_param, sim_param = pickle.load(f)"
   ]
  },
  {
   "cell_type": "code",
   "execution_count": 3,
   "metadata": {
    "collapsed": false
   },
   "outputs": [
    {
     "name": "stdout",
     "output_type": "stream",
     "text": [
      "(10, 101, 2)\n",
      "(10, 101)\n"
     ]
    }
   ],
   "source": [
    "print(xout.shape)\n",
    "print(tout.shape)"
   ]
  },
  {
   "cell_type": "code",
   "execution_count": 4,
   "metadata": {
    "collapsed": false
   },
   "outputs": [
    {
     "name": "stdout",
     "output_type": "stream",
     "text": [
      "{(0, 0): 0, (1, 0): 1, (0, 1): 2, (2, 0): 3, (1, 1): 4, (0, 2): 5, (3, 0): 6, (2, 1): 7, (1, 2): 8, (0, 3): 9}\n"
     ]
    }
   ],
   "source": [
    "print(nb.index_mapping())"
   ]
  },
  {
   "cell_type": "code",
   "execution_count": 5,
   "metadata": {
    "collapsed": false
   },
   "outputs": [
    {
     "name": "stdout",
     "output_type": "stream",
     "text": [
      "[[ 0.39894228  0.          0.         -0.28209479  0.         -0.28209479\n",
      "   0.          0.          0.          0.        ]\n",
      " [ 0.          0.39894228  0.          0.          0.          0.\n",
      "  -0.48860251  0.         -0.28209479  0.        ]\n",
      " [ 0.          0.          0.39894228  0.          0.          0.          0.\n",
      "  -0.28209479  0.         -0.48860251]\n",
      " [ 0.          0.          0.          0.28209479  0.          0.          0.\n",
      "   0.          0.          0.        ]\n",
      " [ 0.          0.          0.          0.          0.39894228  0.          0.\n",
      "   0.          0.          0.        ]\n",
      " [ 0.          0.          0.          0.          0.          0.28209479\n",
      "   0.          0.          0.          0.        ]\n",
      " [ 0.          0.          0.          0.          0.          0.\n",
      "   0.1628675   0.          0.          0.        ]\n",
      " [ 0.          0.          0.          0.          0.          0.          0.\n",
      "   0.28209479  0.          0.        ]\n",
      " [ 0.          0.          0.          0.          0.          0.          0.\n",
      "   0.          0.28209479  0.        ]\n",
      " [ 0.          0.          0.          0.          0.          0.          0.\n",
      "   0.          0.          0.1628675 ]]\n"
     ]
    }
   ],
   "source": [
    "theta = np.array([1., 1., 2., 2., 4., 4., 5., 5., 6., 6.])\n",
    "polytheta = nb.hermite_to_ordinary(theta)"
   ]
  },
  {
   "cell_type": "code",
   "execution_count": 6,
   "metadata": {
    "collapsed": true
   },
   "outputs": [],
   "source": [
    "def index_mapping():\n",
    "    index = 0\n",
    "    index_map = {}\n",
    "\n",
    "    for d in range(0, prm.num_hermite_terms):\n",
    "        for j in range(0, d + 1):\n",
    "            for i in range(0, d + 1):\n",
    "                if (i + j == d):\n",
    "                    index_set = (i, j)\n",
    "                    index_map[index_set] = index\n",
    "                    index += 1\n",
    "    \n",
    "    return index_map\n",
    "\n",
    "def hermite_to_ordinary(theta):\n",
    "    transformation = np.zeros((prm.dof, prm.dof))\n",
    "    index_map = index_mapping()\n",
    "    index = 0\n",
    "    \n",
    "    mat = np.zeros((prm.num_hermite_terms, prm.num_hermite_terms))\n",
    "    mat[0, 0] = 0.63161877774606470129\n",
    "    mat[1, 1] = 0.63161877774606470129\n",
    "    mat[2, 2] = 0.44662192086900116570\n",
    "    mat[0, 2] = -mat[2, 2]\n",
    "    mat[3, 3] = 0.25785728623970555997\n",
    "    mat[1, 3] = -3 * mat[3, 3]\n",
    "\n",
    "    for d in range(0, prm.num_hermite_terms):\n",
    "        for j in range(0, d + 1):\n",
    "            for i in range(0, d + 1):\n",
    "                if (i + j == d):\n",
    "                    if (i >= 2):\n",
    "                        new_index_set = (i - 2, j)\n",
    "                        new_index = index_map[new_index_set]\n",
    "                        transformation[new_index, index] = mat[i - 2, i] * mat[j, j]\n",
    "                    if (j >= 2):\n",
    "                        new_index_set = (i, j - 2)\n",
    "                        new_index = index_map[new_index_set]\n",
    "                        transformation[new_index, index] = mat[i, i] * mat[j - 2, j]\n",
    "\n",
    "                    transformation[index, index] = mat[i, i] * mat[j, j]\n",
    "                    index += 1\n",
    "                    \n",
    "    print(transformation)                        \n",
    "    transformed_theta = np.matmul(transformation, theta)\n",
    "    return np.transpose(transformed_theta)"
   ]
  },
  {
   "cell_type": "code",
   "execution_count": 7,
   "metadata": {
    "collapsed": false
   },
   "outputs": [
    {
     "name": "stdout",
     "output_type": "stream",
     "text": [
      "{(0, 0): 0, (1, 0): 1, (0, 1): 2, (2, 0): 3, (1, 1): 4, (0, 2): 5, (3, 0): 6, (2, 1): 7, (1, 2): 8, (0, 3): 9}\n"
     ]
    }
   ],
   "source": [
    "mat = index_mapping()\n",
    "print(mat)\n",
    "# newtheta = hermite_to_ordinary(theta)"
   ]
  },
  {
   "cell_type": "code",
   "execution_count": null,
   "metadata": {
    "collapsed": true
   },
   "outputs": [],
   "source": []
  }
 ],
 "metadata": {
  "kernelspec": {
   "display_name": "Python 3",
   "language": "python",
   "name": "python3"
  },
  "language_info": {
   "codemirror_mode": {
    "name": "ipython",
    "version": 3
   },
   "file_extension": ".py",
   "mimetype": "text/x-python",
   "name": "python",
   "nbconvert_exporter": "python",
   "pygments_lexer": "ipython3",
   "version": "3.6.0"
  }
 },
 "nbformat": 4,
 "nbformat_minor": 2
}
